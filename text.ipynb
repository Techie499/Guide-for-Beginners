{
 "cells": [
  {
   "cell_type": "code",
   "execution_count": 35,
   "metadata": {},
   "outputs": [],
   "source": [
    "B = [{\n",
    "  \"def\": \"Living cells\",\n",
    "  \"cell_name\": \"Living cells\",\n",
    "  \"def1\": \"Living cells\",\n",
    "  \"cell_name1\": \"Living cells\",\n",
    "  \"children\": [\n",
    "    {\n",
    "      \"name\": \"Events2\",\n",
    "      \"value\": \"7888\"\n",
    "    },\n",
    "    {\n",
    "      \"name\": \"Parent\",\n",
    "      \"value\": \"86.7\"\n",
    "    },\n",
    "    {\n",
    "      \"name\": \"CD38 PE-A Median\",\n",
    "      \"value\": \"7.1\"\n",
    "    }\n",
    "  ]\n",
    "},\n",
    "{\n",
    "  \"def\": \"Living cells\",\n",
    "  \"def1\": \"Living cells\",\n",
    "  \"cell_name\": \"Living cells\",\n",
    "  \"cell_name1\": \"Living cells\",\n",
    "  \"parents\": [\n",
    "    {\n",
    "      \"name\": \"Events2\",\n",
    "      \"value\": \"23\"\n",
    "    },\n",
    "    {\n",
    "      \"name\": \"Parent\",\n",
    "      \"value\": \"100.12\"\n",
    "    },\n",
    "    {\n",
    "      \"name\": \"CD38 PE-A Prime\",\n",
    "      \"value\": \"3.1\"\n",
    "    }\n",
    "  ]\n",
    "}]"
   ]
  },
  {
   "cell_type": "code",
   "execution_count": 16,
   "metadata": {},
   "outputs": [],
   "source": [
    "A=[]\n",
    "for items in B:\n",
    "    final_dict = {}\n",
    "    w_key = \"\"\n",
    "    keys = items.keys()\n",
    "    for i in keys:\n",
    "        if not isinstance(items[i], str):\n",
    "            w_key = i\n",
    "        else:\n",
    "            final_dict[i] = items[i]\n",
    "    for items2 in items[w_key]:\n",
    "        final_dict[items2['name']] = items2[\"value\"]\n",
    "    A.append(final_dict)"
   ]
  },
  {
   "cell_type": "code",
   "execution_count": 30,
   "metadata": {},
   "outputs": [
    {
     "name": "stdout",
     "output_type": "stream",
     "text": [
      "[{'def': 'Living cells', 'cell_name': 'Living cells', 'def1': 'Living cells', 'cell_name1': 'Living cells'}, {'def': 'Living cells', 'def1': 'Living cells', 'cell_name': 'Living cells', 'cell_name1': 'Living cells'}]\n"
     ]
    }
   ],
   "source": [
    "print(A)"
   ]
  },
  {
   "cell_type": "code",
   "execution_count": 43,
   "metadata": {},
   "outputs": [
    {
     "name": "stdout",
     "output_type": "stream",
     "text": [
      "{'Events2': '7888', 'Parent': '86.7', 'CD38 PE-A Median': '7.1'}\n",
      "{'Events2': '23', 'Parent': '100.12', 'CD38 PE-A Prime': '3.1'}\n",
      "[{'def': 'Living cells', 'cell_name': 'Living cells', 'def1': 'Living cells', 'cell_name1': 'Living cells'}, {'def': 'Living cells', 'def1': 'Living cells', 'cell_name': 'Living cells', 'cell_name1': 'Living cells'}]\n"
     ]
    }
   ],
   "source": [
    "A=[]\n",
    "for items in B:\n",
    "    #print(items)\n",
    "    f_dict={}\n",
    "    for i in items.keys():\n",
    "        #print(i)\n",
    "        if isinstance(items[i],str):\n",
    "            f_dict[i]=items[i]\n",
    "        else:\n",
    "            output_dict = {item['name']: item['value'] for item in items[i]}\n",
    "            print(output_dict)\n",
    "    A.append(f_dict)\n",
    "\n",
    "print(A)"
   ]
  }
 ],
 "metadata": {
  "kernelspec": {
   "display_name": "Python 3",
   "language": "python",
   "name": "python3"
  },
  "language_info": {
   "codemirror_mode": {
    "name": "ipython",
    "version": 3
   },
   "file_extension": ".py",
   "mimetype": "text/x-python",
   "name": "python",
   "nbconvert_exporter": "python",
   "pygments_lexer": "ipython3",
   "version": "3.12.0"
  }
 },
 "nbformat": 4,
 "nbformat_minor": 2
}
