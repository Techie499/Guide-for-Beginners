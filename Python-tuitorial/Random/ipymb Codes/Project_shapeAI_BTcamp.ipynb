{
  "nbformat": 4,
  "nbformat_minor": 0,
  "metadata": {
    "colab": {
      "name": "hh.ipymb",
      "provenance": [],
      "collapsed_sections": []
    },
    "kernelspec": {
      "display_name": "Python 3",
      "name": "python3"
    }
  },
  "cells": [
    {
      "cell_type": "code",
      "metadata": {
        "id": "nFZNNeN7M6Mv"
      },
      "source": [
        "import tensorflow as tf\r\n",
        "from tensorflow.keras.models import Sequential\r\n",
        "from tensorflow.keras.layers import Input, Dense\r\n",
        "import numpy as np\r\n",
        "from keras.utils import np_utils\r\n",
        "from keras.datasets import mnist\r\n",
        "from keras.models import Sequential\r\n",
        "from keras.layers import Dense\r\n",
        "from keras.layers import Dropout"
      ],
      "execution_count": null,
      "outputs": []
    },
    {
      "cell_type": "code",
      "metadata": {
        "id": "RA-a4NR8bmKU"
      },
      "source": [
        "(X_train, y_train), (X_test, y_test) = tf.keras.datasets.fashion_mnist.load_data()"
      ],
      "execution_count": null,
      "outputs": []
    },
    {
      "cell_type": "code",
      "metadata": {
        "id": "Wc4rk-O4ch4e"
      },
      "source": [
        "X_train = X_train.reshape((X_train.shape[0], 28*28)).astype('float32')\r\n",
        "X_test = X_test.reshape((X_test.shape[0], 28*28)).astype('float32')"
      ],
      "execution_count": null,
      "outputs": []
    },
    {
      "cell_type": "code",
      "metadata": {
        "id": "0qQQzwT7ctJp"
      },
      "source": [
        "X_train = X_train / 255\r\n",
        "X_test = X_test / 255"
      ],
      "execution_count": null,
      "outputs": []
    },
    {
      "cell_type": "code",
      "metadata": {
        "id": "Q8dBSgcDc53p"
      },
      "source": [
        "y_train = np_utils.to_categorical(y_train)\r\n",
        "y_test = np_utils.to_categorical(y_test)\r\n",
        "num_classes = y_test.shape[1]"
      ],
      "execution_count": null,
      "outputs": []
    },
    {
      "cell_type": "code",
      "metadata": {
        "id": "8jMLIQeJc88G"
      },
      "source": [
        "model = Sequential()\r\n",
        "model.add(Dense(32, input_dim = 28*28, activation='relu'))  \r\n",
        "model.add(Dense(64, activation='relu'))\r\n",
        "model.add(Dense(96, activation='relu'))\r\n",
        "model.add(Dense(128, activation='relu'))\r\n",
        "model.add(Dense(10, activation='softmax'))"
      ],
      "execution_count": null,
      "outputs": []
    },
    {
      "cell_type": "code",
      "metadata": {
        "id": "2l4jYFnpdl8j"
      },
      "source": [
        "model.compile(loss='categorical_crossentropy', optimizer='adam', metrics=['accuracy'])"
      ],
      "execution_count": null,
      "outputs": []
    },
    {
      "cell_type": "code",
      "metadata": {
        "colab": {
          "base_uri": "https://localhost:8080/"
        },
        "id": "oEvcMmt-dok4",
        "outputId": "6d2126e3-6593-4b25-d027-156c542a5759"
      },
      "source": [
        "model.summary()"
      ],
      "execution_count": null,
      "outputs": [
        {
          "output_type": "stream",
          "text": [
            "Model: \"sequential_4\"\n",
            "_________________________________________________________________\n",
            "Layer (type)                 Output Shape              Param #   \n",
            "=================================================================\n",
            "dense_16 (Dense)             (None, 32)                25120     \n",
            "_________________________________________________________________\n",
            "dense_17 (Dense)             (None, 64)                2112      \n",
            "_________________________________________________________________\n",
            "dense_18 (Dense)             (None, 96)                6240      \n",
            "_________________________________________________________________\n",
            "dense_19 (Dense)             (None, 128)               12416     \n",
            "_________________________________________________________________\n",
            "dense_20 (Dense)             (None, 10)                1290      \n",
            "=================================================================\n",
            "Total params: 47,178\n",
            "Trainable params: 47,178\n",
            "Non-trainable params: 0\n",
            "_________________________________________________________________\n"
          ],
          "name": "stdout"
        }
      ]
    },
    {
      "cell_type": "code",
      "metadata": {
        "colab": {
          "background_save": true,
          "base_uri": "https://localhost:8080/"
        },
        "id": "nBW-EpeUdqrr",
        "outputId": "f732b7a2-458b-4b33-91f6-0b061358ae7f"
      },
      "source": [
        "model.fit(X_train, y_train, validation_split=0.2 , epochs=15, batch_size=100)"
      ],
      "execution_count": null,
      "outputs": [
        {
          "output_type": "stream",
          "text": [
            "Epoch 1/15\n",
            "480/480 [==============================] - 2s 4ms/step - loss: 0.8807 - accuracy: 0.6836 - val_loss: 0.4509 - val_accuracy: 0.8422\n",
            "Epoch 2/15\n",
            "480/480 [==============================] - 2s 3ms/step - loss: 0.4337 - accuracy: 0.8438 - val_loss: 0.4303 - val_accuracy: 0.8417\n",
            "Epoch 3/15\n",
            "480/480 [==============================] - 1s 3ms/step - loss: 0.3815 - accuracy: 0.8592 - val_loss: 0.3749 - val_accuracy: 0.8668\n",
            "Epoch 4/15\n",
            "480/480 [==============================] - 1s 3ms/step - loss: 0.3530 - accuracy: 0.8704 - val_loss: 0.3832 - val_accuracy: 0.8569\n",
            "Epoch 5/15\n",
            "480/480 [==============================] - 1s 3ms/step - loss: 0.3311 - accuracy: 0.8768 - val_loss: 0.3500 - val_accuracy: 0.8726\n",
            "Epoch 6/15\n",
            "480/480 [==============================] - 1s 3ms/step - loss: 0.3138 - accuracy: 0.8820 - val_loss: 0.3451 - val_accuracy: 0.8750\n",
            "Epoch 7/15\n",
            "480/480 [==============================] - 1s 3ms/step - loss: 0.3059 - accuracy: 0.8872 - val_loss: 0.3579 - val_accuracy: 0.8717\n",
            "Epoch 8/15\n",
            "480/480 [==============================] - 1s 3ms/step - loss: 0.2997 - accuracy: 0.8907 - val_loss: 0.3637 - val_accuracy: 0.8740\n",
            "Epoch 9/15\n",
            "480/480 [==============================] - 2s 3ms/step - loss: 0.2815 - accuracy: 0.8961 - val_loss: 0.3480 - val_accuracy: 0.8774\n",
            "Epoch 10/15\n",
            "480/480 [==============================] - 1s 3ms/step - loss: 0.2775 - accuracy: 0.8949 - val_loss: 0.3440 - val_accuracy: 0.8794\n",
            "Epoch 11/15\n",
            "480/480 [==============================] - 2s 3ms/step - loss: 0.2621 - accuracy: 0.9019 - val_loss: 0.3397 - val_accuracy: 0.8786\n",
            "Epoch 12/15\n",
            "480/480 [==============================] - 1s 3ms/step - loss: 0.2641 - accuracy: 0.9028 - val_loss: 0.3437 - val_accuracy: 0.8766\n",
            "Epoch 13/15\n",
            "480/480 [==============================] - 2s 3ms/step - loss: 0.2654 - accuracy: 0.9007 - val_loss: 0.3363 - val_accuracy: 0.8842\n",
            "Epoch 14/15\n",
            "480/480 [==============================] - 2s 3ms/step - loss: 0.2480 - accuracy: 0.9074 - val_loss: 0.3519 - val_accuracy: 0.8752\n",
            "Epoch 15/15\n",
            "480/480 [==============================] - 2s 3ms/step - loss: 0.2454 - accuracy: 0.9066 - val_loss: 0.3288 - val_accuracy: 0.8855\n"
          ],
          "name": "stdout"
        },
        {
          "output_type": "execute_result",
          "data": {
            "text/plain": [
              "<tensorflow.python.keras.callbacks.History at 0x7face1e6cbe0>"
            ]
          },
          "metadata": {
            "tags": []
          },
          "execution_count": 0
        }
      ]
    },
    {
      "cell_type": "code",
      "metadata": {
        "colab": {
          "background_save": true
        },
        "id": "QzwVj1jsd05x",
        "outputId": "ef3bf93b-7f90-48e8-e09b-b18bd79f6657"
      },
      "source": [
        "scores = model.evaluate(X_test, y_test)\r\n",
        "print(scores)   ## returns loss and accuracy"
      ],
      "execution_count": null,
      "outputs": [
        {
          "output_type": "stream",
          "text": [
            "313/313 [==============================] - 1s 1ms/step - loss: 0.3499 - accuracy: 0.8805\n",
            "[0.3499184846878052, 0.8805000185966492]\n"
          ],
          "name": "stdout"
        }
      ]
    }
  ]
}