{
 "cells": [
  {
   "cell_type": "code",
   "execution_count": 13,
   "metadata": {},
   "outputs": [],
   "source": [
    "class Rectangle:\n",
    "    def __init__(self,length=0.0,breadth=0.0):\n",
    "        self.length=length\n",
    "        self.breadth=breadth\n",
    "        \n",
    "    def __setattr__(self,attr,val):\n",
    "        if attr=='length' or attr=='breadth':\n",
    "            self.__dict__[attr]=val if val>=0.0 else -val\n",
    "        else:\n",
    "            self.__dict[attr]=val\n",
    "    \n",
    "    def __str__(self):\n",
    "        return f'Rectangle(length: {self.length}, breadth: {self.breadth})'\n",
    "    \n",
    "    def __getattr__(self,attr):\n",
    "        if attr=='area':\n",
    "            return self.length*self.breadth\n",
    "        elif attr=='perimeter':\n",
    "            return 2*(self.length+self.breadth)"
   ]
  },
  {
   "cell_type": "code",
   "execution_count": 14,
   "metadata": {},
   "outputs": [],
   "source": [
    "r1=Rectangle(12.0,5.0)"
   ]
  },
  {
   "cell_type": "code",
   "execution_count": 15,
   "metadata": {},
   "outputs": [
    {
     "name": "stdout",
     "output_type": "stream",
     "text": [
      "Rectangle(length: 12.0, breadth: 5.0)\n"
     ]
    }
   ],
   "source": [
    "print(r1)"
   ]
  },
  {
   "cell_type": "code",
   "execution_count": 16,
   "metadata": {},
   "outputs": [
    {
     "data": {
      "text/plain": [
       "60.0"
      ]
     },
     "execution_count": 16,
     "metadata": {},
     "output_type": "execute_result"
    }
   ],
   "source": [
    "r1.area"
   ]
  },
  {
   "cell_type": "code",
   "execution_count": 17,
   "metadata": {},
   "outputs": [
    {
     "data": {
      "text/plain": [
       "34.0"
      ]
     },
     "execution_count": 17,
     "metadata": {},
     "output_type": "execute_result"
    }
   ],
   "source": [
    "r1.perimeter"
   ]
  },
  {
   "cell_type": "code",
   "execution_count": 18,
   "metadata": {},
   "outputs": [],
   "source": [
    "r2=Rectangle(5,6)"
   ]
  },
  {
   "cell_type": "code",
   "execution_count": 19,
   "metadata": {},
   "outputs": [
    {
     "ename": "TypeError",
     "evalue": "unsupported operand type(s) for +: 'Rectangle' and 'Rectangle'",
     "output_type": "error",
     "traceback": [
      "\u001b[1;31m---------------------------------------------------------------------------\u001b[0m",
      "\u001b[1;31mTypeError\u001b[0m                                 Traceback (most recent call last)",
      "\u001b[1;32m<ipython-input-19-fe8f2309a34c>\u001b[0m in \u001b[0;36m<module>\u001b[1;34m\u001b[0m\n\u001b[1;32m----> 1\u001b[1;33m \u001b[0mr\u001b[0m\u001b[1;33m=\u001b[0m\u001b[0mr1\u001b[0m\u001b[1;33m+\u001b[0m\u001b[0mr2\u001b[0m\u001b[1;33m\u001b[0m\u001b[1;33m\u001b[0m\u001b[0m\n\u001b[0m",
      "\u001b[1;31mTypeError\u001b[0m: unsupported operand type(s) for +: 'Rectangle' and 'Rectangle'"
     ]
    }
   ],
   "source": [
    "r=r1+r2"
   ]
  },
  {
   "cell_type": "code",
   "execution_count": 20,
   "metadata": {},
   "outputs": [],
   "source": [
    "class Rectangle:\n",
    "    def __init__(self,length=0.0,breadth=0.0):\n",
    "        self.length=length\n",
    "        self.breadth=breadth\n",
    "        \n",
    "    def __setattr__(self,attr,val):\n",
    "        if attr=='length' or attr=='breadth':\n",
    "            self.__dict__[attr]=val if val>=0.0 else -val\n",
    "        else:\n",
    "            self.__dict[attr]=val\n",
    "    \n",
    "    def __str__(self):\n",
    "        return f'Rectangle(length: {self.length}, breadth: {self.breadth})'\n",
    "    \n",
    "    def __getattr__(self,attr):\n",
    "        if attr=='area':\n",
    "            return self.length*self.breadth\n",
    "        elif attr=='perimeter':\n",
    "            return 2*(self.length+self.breadth)\n",
    "        \n",
    "    def __add__(self,r):\n",
    "        return Rectangle(self.length+r.length,self.breadth+r.breadth)"
   ]
  },
  {
   "cell_type": "code",
   "execution_count": 21,
   "metadata": {},
   "outputs": [],
   "source": [
    "r1=Rectangle(12,5)\n",
    "r2=Rectangle(13,7)\n",
    "r=r1+r2"
   ]
  },
  {
   "cell_type": "code",
   "execution_count": 22,
   "metadata": {},
   "outputs": [
    {
     "name": "stdout",
     "output_type": "stream",
     "text": [
      "Rectangle(length: 25, breadth: 12)\n"
     ]
    }
   ],
   "source": [
    "print(r)"
   ]
  },
  {
   "cell_type": "code",
   "execution_count": null,
   "metadata": {},
   "outputs": [],
   "source": []
  }
 ],
 "metadata": {
  "kernelspec": {
   "display_name": "Python 3",
   "language": "python",
   "name": "python3"
  },
  "language_info": {
   "codemirror_mode": {
    "name": "ipython",
    "version": 3
   },
   "file_extension": ".py",
   "mimetype": "text/x-python",
   "name": "python",
   "nbconvert_exporter": "python",
   "pygments_lexer": "ipython3",
   "version": "3.7.1"
  }
 },
 "nbformat": 4,
 "nbformat_minor": 2
}
