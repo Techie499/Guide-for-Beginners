{
 "cells": [
  {
   "cell_type": "markdown",
   "metadata": {},
   "source": [
    "## Object features\n",
    "### Properties  : Structural Description\n",
    "### Operations : Behavioral Description"
   ]
  },
  {
   "cell_type": "code",
   "execution_count": 1,
   "metadata": {},
   "outputs": [],
   "source": [
    "class Human:\n",
    "    pass"
   ]
  },
  {
   "cell_type": "code",
   "execution_count": 2,
   "metadata": {},
   "outputs": [],
   "source": [
    "h1=Human()\n",
    "# reference to the object"
   ]
  },
  {
   "cell_type": "code",
   "execution_count": 3,
   "metadata": {},
   "outputs": [],
   "source": [
    "h1.age=21"
   ]
  },
  {
   "cell_type": "code",
   "execution_count": 4,
   "metadata": {},
   "outputs": [
    {
     "output_type": "execute_result",
     "data": {
      "text/plain": [
       "21"
      ]
     },
     "metadata": {},
     "execution_count": 4
    }
   ],
   "source": [
    "h1.age"
   ]
  },
  {
   "cell_type": "code",
   "execution_count": 5,
   "metadata": {},
   "outputs": [],
   "source": [
    "h2=Human()"
   ]
  },
  {
   "cell_type": "code",
   "execution_count": 6,
   "metadata": {},
   "outputs": [
    {
     "output_type": "error",
     "ename": "AttributeError",
     "evalue": "'Human' object has no attribute 'age'",
     "traceback": [
      "\u001b[1;31m---------------------------------------------------------------------------\u001b[0m",
      "\u001b[1;31mAttributeError\u001b[0m                            Traceback (most recent call last)",
      "\u001b[1;32m<ipython-input-6-7a2d807b725a>\u001b[0m in \u001b[0;36m<module>\u001b[1;34m\u001b[0m\n\u001b[1;32m----> 1\u001b[1;33m \u001b[0mh2\u001b[0m\u001b[1;33m.\u001b[0m\u001b[0mage\u001b[0m\u001b[1;33m\u001b[0m\u001b[1;33m\u001b[0m\u001b[0m\n\u001b[0m",
      "\u001b[1;31mAttributeError\u001b[0m: 'Human' object has no attribute 'age'"
     ]
    }
   ],
   "source": [
    "h2.age"
   ]
  },
  {
   "cell_type": "code",
   "execution_count": 7,
   "metadata": {},
   "outputs": [],
   "source": [
    "class Human:\n",
    "    def __init__(self,name='',age=18):\n",
    "        self.name=name\n",
    "        self.age=age"
   ]
  },
  {
   "cell_type": "code",
   "execution_count": 8,
   "metadata": {},
   "outputs": [],
   "source": [
    "h1=Human('anubhab',20)"
   ]
  },
  {
   "cell_type": "code",
   "execution_count": 9,
   "metadata": {},
   "outputs": [],
   "source": [
    "h2=Human('anupam')"
   ]
  },
  {
   "cell_type": "code",
   "execution_count": 10,
   "metadata": {},
   "outputs": [],
   "source": [
    "class Human:\n",
    "    def __init__(self,name='',age=18):\n",
    "        self.name=name\n",
    "        self.age=age\n",
    "        \n",
    "    def smile(self):\n",
    "        if self.age<18:\n",
    "            print(f'{self.name}: hee hee')\n",
    "        else:\n",
    "            print(f'{self.name}: ha ha')"
   ]
  },
  {
   "cell_type": "code",
   "execution_count": 11,
   "metadata": {},
   "outputs": [],
   "source": [
    "h1=Human('anubhav',12)"
   ]
  },
  {
   "cell_type": "code",
   "execution_count": 12,
   "metadata": {},
   "outputs": [
    {
     "output_type": "stream",
     "name": "stdout",
     "text": [
      "anubhav: hee hee\n"
     ]
    }
   ],
   "source": [
    "h1.smile()"
   ]
  },
  {
   "source": [
    "will crash !! "
   ],
   "cell_type": "markdown",
   "metadata": {}
  },
  {
   "source": [
    "class Human:\n",
    "    def __init__(self,name='',age=18):\n",
    "        self.name=name\n",
    "        self.age=age\n",
    "        \n",
    "    def smile(self):\n",
    "        if self.age<18:\n",
    "            print(f'{self.name}: hee hee')\n",
    "        else:\n",
    "            print(f'{self.name}: ha ha')\n",
    "    def __setattr__(self,attr,val):\n",
    "        if attr=='age':\n",
    "            self.age=val if val>=0 else -val"
   ],
   "cell_type": "markdown",
   "metadata": {}
  },
  {
   "source": [
    "h1=Human('Anubhab',-18)"
   ],
   "cell_type": "markdown",
   "metadata": {}
  },
  {
   "source": [
    "Correct One"
   ],
   "cell_type": "markdown",
   "metadata": {}
  },
  {
   "cell_type": "code",
   "execution_count": 13,
   "metadata": {},
   "outputs": [],
   "source": [
    "class Human(object):\n",
    "    def __init__(self,name='',age=18):\n",
    "        self.name=name\n",
    "        self.age=age\n",
    "        \n",
    "    def smile(self):\n",
    "        if self.age<18:\n",
    "            print(f'{self.name}: hee hee')\n",
    "        else:\n",
    "            print(f'{self.name}: ha ha')\n",
    "    def __setattr__(self,attr,val):\n",
    "        if attr=='age':\n",
    "            #self.age=val if val>=0 else -val\n",
    "            #object.__setattr__(self,attr,val if val>=0 else -val)\n",
    "            self.__dict__[attr]=val if val>=0 else -val\n",
    "        else:\n",
    "            #object.__setattr__(self,attr,val)\n",
    "            self.__dict__[attr]=val"
   ]
  },
  {
   "cell_type": "code",
   "execution_count": 14,
   "metadata": {},
   "outputs": [],
   "source": [
    "h1=Human('Anubhab',-18)"
   ]
  },
  {
   "cell_type": "code",
   "execution_count": 15,
   "metadata": {},
   "outputs": [
    {
     "output_type": "execute_result",
     "data": {
      "text/plain": [
       "{'name': 'Anubhab', 'age': 18}"
      ]
     },
     "metadata": {},
     "execution_count": 15
    }
   ],
   "source": [
    "h1.__dict__"
   ]
  },
  {
   "cell_type": "code",
   "execution_count": 16,
   "metadata": {},
   "outputs": [],
   "source": [
    "h1.__dict__['age']=-15"
   ]
  },
  {
   "cell_type": "code",
   "execution_count": 17,
   "metadata": {},
   "outputs": [
    {
     "output_type": "execute_result",
     "data": {
      "text/plain": [
       "-15"
      ]
     },
     "metadata": {},
     "execution_count": 17
    }
   ],
   "source": [
    "h1.age"
   ]
  },
  {
   "cell_type": "code",
   "execution_count": 18,
   "metadata": {},
   "outputs": [],
   "source": [
    "h1.age=-18"
   ]
  },
  {
   "cell_type": "code",
   "execution_count": 19,
   "metadata": {},
   "outputs": [
    {
     "output_type": "execute_result",
     "data": {
      "text/plain": [
       "18"
      ]
     },
     "metadata": {},
     "execution_count": 19
    }
   ],
   "source": [
    "h1.age"
   ]
  },
  {
   "cell_type": "code",
   "execution_count": 20,
   "metadata": {},
   "outputs": [
    {
     "output_type": "stream",
     "name": "stdout",
     "text": [
      "<__main__.Human object at 0x0000023013966280>\n"
     ]
    }
   ],
   "source": [
    "print(h1)"
   ]
  },
  {
   "cell_type": "code",
   "execution_count": 21,
   "metadata": {},
   "outputs": [],
   "source": [
    "class Man(Human):\n",
    "    pass"
   ]
  },
  {
   "cell_type": "code",
   "execution_count": 22,
   "metadata": {},
   "outputs": [
    {
     "output_type": "execute_result",
     "data": {
      "text/plain": [
       "__main__.Human"
      ]
     },
     "metadata": {},
     "execution_count": 22
    }
   ],
   "source": [
    "type(h1)"
   ]
  },
  {
   "cell_type": "code",
   "execution_count": 23,
   "metadata": {},
   "outputs": [],
   "source": [
    "class Human(object):\n",
    "    def __init__(self,name='',age=18):\n",
    "        self.name=name\n",
    "        self.age=age\n",
    "        \n",
    "    def smile(self):\n",
    "        if self.age<18:\n",
    "            print(f'{self.name}: hee hee')\n",
    "        else:\n",
    "            print(f'{self.name}: ha ha')\n",
    "    def __setattr__(self,attr,val):\n",
    "        if attr=='age':\n",
    "            #self.age=val if val>=0 else -val\n",
    "            #object.__setattr__(self,attr,val if val>=0 else -val)\n",
    "            self.__dict__[attr]=val if val>=0 else -val\n",
    "        else:\n",
    "            #object.__setattr__(self,attr,val)\n",
    "            self.__dict__[attr]=val\n",
    "    def __str__(self):\n",
    "        return f'Name: {self.name} , Age: {self.age}'"
   ]
  },
  {
   "cell_type": "code",
   "execution_count": 24,
   "metadata": {},
   "outputs": [],
   "source": [
    "h1=Human('Ram',41)"
   ]
  },
  {
   "cell_type": "code",
   "execution_count": 25,
   "metadata": {},
   "outputs": [
    {
     "output_type": "stream",
     "name": "stdout",
     "text": [
      "Name: Ram , Age: 41\n"
     ]
    }
   ],
   "source": [
    "print(h1)"
   ]
  },
  {
   "cell_type": "code",
   "execution_count": 26,
   "metadata": {},
   "outputs": [
    {
     "output_type": "execute_result",
     "data": {
      "text/plain": [
       "'Name: Ram , Age: 41'"
      ]
     },
     "metadata": {},
     "execution_count": 26
    }
   ],
   "source": [
    "str(h1)"
   ]
  },
  {
   "cell_type": "code",
   "execution_count": 27,
   "metadata": {},
   "outputs": [
    {
     "output_type": "stream",
     "name": "stdout",
     "text": [
      "Human is Name: Ram , Age: 41\n"
     ]
    }
   ],
   "source": [
    "print(\"Human is \"+str(h1))"
   ]
  },
  {
   "cell_type": "code",
   "execution_count": null,
   "metadata": {},
   "outputs": [],
   "source": []
  }
 ],
 "metadata": {
  "kernelspec": {
   "name": "python385jvsc74a57bd037eb40c3388cfde35488e2d005b0d69ca91ddeff8a429754d4da636d3f888e5e",
   "display_name": "Python 3.8.5 64-bit ('base': conda)"
  },
  "language_info": {
   "codemirror_mode": {
    "name": "ipython",
    "version": 3
   },
   "file_extension": ".py",
   "mimetype": "text/x-python",
   "name": "python",
   "nbconvert_exporter": "python",
   "pygments_lexer": "ipython3",
   "version": "3.8.5"
  }
 },
 "nbformat": 4,
 "nbformat_minor": 2
}