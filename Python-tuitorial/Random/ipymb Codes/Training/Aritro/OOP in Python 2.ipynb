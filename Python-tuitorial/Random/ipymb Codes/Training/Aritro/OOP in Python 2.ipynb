{
 "metadata": {
  "language_info": {
   "codemirror_mode": {
    "name": "ipython",
    "version": 3
   },
   "file_extension": ".py",
   "mimetype": "text/x-python",
   "name": "python",
   "nbconvert_exporter": "python",
   "pygments_lexer": "ipython3",
   "version": "3.7.2-candidate"
  },
  "orig_nbformat": 2,
  "kernelspec": {
   "name": "python3",
   "display_name": "Python 3.7.2 64-bit",
   "metadata": {
    "interpreter": {
     "hash": "83578efa56bdacf56e7177dd56e6599257fec880fd84a9294df1e203d665e85c"
    }
   }
  }
 },
 "nbformat": 4,
 "nbformat_minor": 2,
 "cells": [
  {
   "source": [
    "## Object Oriented Programmimg: 2"
   ],
   "cell_type": "markdown",
   "metadata": {}
  },
  {
   "source": [
    "### Property classification:\n",
    "\n",
    "1) Read Only\n",
    "\n",
    "2) Read-Write\n",
    "\n",
    "3) Write Only"
   ],
   "cell_type": "markdown",
   "metadata": {}
  },
  {
   "cell_type": "code",
   "execution_count": 1,
   "metadata": {},
   "outputs": [],
   "source": [
    "class Rectangle:\n",
    "    def __init__(self, length = 0.0, breadth = 0.0):\n",
    "        self.length = length\n",
    "        self.breadth = breadth\n",
    "\n",
    "    def __setattr__(self, attr, val):\n",
    "        if attr == 'length' or attr == 'breadth':\n",
    "            self.__dict__[attr] = val if val >= 0.0 else -val\n",
    "        else:\n",
    "            self.__dict__[attr] = val\n",
    "\n",
    "    def __str__(self):\n",
    "        return f'Rectangle(length: {self.length}, breadth: {self.breadth})'\n",
    "\n",
    "    def __getattr__(self, attr):\n",
    "        if attr == 'area':\n",
    "            return self.length * self.breadth\n",
    "        if attr == 'peri':\n",
    "            return 2 * (self.length + self.breadth)"
   ]
  },
  {
   "cell_type": "code",
   "execution_count": 2,
   "metadata": {},
   "outputs": [],
   "source": [
    "r1 = Rectangle(12, 5)"
   ]
  },
  {
   "cell_type": "code",
   "execution_count": 3,
   "metadata": {},
   "outputs": [
    {
     "output_type": "execute_result",
     "data": {
      "text/plain": [
       "'Rectangle(length: 12, breadth: 5)'"
      ]
     },
     "metadata": {},
     "execution_count": 3
    }
   ],
   "source": [
    "str(r1)"
   ]
  },
  {
   "cell_type": "code",
   "execution_count": 4,
   "metadata": {},
   "outputs": [
    {
     "output_type": "execute_result",
     "data": {
      "text/plain": [
       "60"
      ]
     },
     "metadata": {},
     "execution_count": 4
    }
   ],
   "source": [
    "r1.area"
   ]
  },
  {
   "cell_type": "code",
   "execution_count": 5,
   "metadata": {},
   "outputs": [
    {
     "output_type": "execute_result",
     "data": {
      "text/plain": [
       "34"
      ]
     },
     "metadata": {},
     "execution_count": 5
    }
   ],
   "source": [
    "r1.peri"
   ]
  },
  {
   "cell_type": "code",
   "execution_count": 6,
   "metadata": {},
   "outputs": [],
   "source": [
    "r2 = Rectangle(7, 13)"
   ]
  },
  {
   "cell_type": "code",
   "execution_count": 7,
   "metadata": {},
   "outputs": [
    {
     "output_type": "error",
     "ename": "TypeError",
     "evalue": "unsupported operand type(s) for +: 'Rectangle' and 'Rectangle'",
     "traceback": [
      "\u001b[1;31m---------------------------------------------------------------------------\u001b[0m",
      "\u001b[1;31mTypeError\u001b[0m                                 Traceback (most recent call last)",
      "\u001b[1;32m<ipython-input-7-e6d583e738a7>\u001b[0m in \u001b[0;36m<module>\u001b[1;34m\u001b[0m\n\u001b[1;32m----> 1\u001b[1;33m \u001b[0mr\u001b[0m \u001b[1;33m=\u001b[0m \u001b[0mr1\u001b[0m \u001b[1;33m+\u001b[0m \u001b[0mr2\u001b[0m\u001b[1;33m\u001b[0m\u001b[1;33m\u001b[0m\u001b[0m\n\u001b[0m",
      "\u001b[1;31mTypeError\u001b[0m: unsupported operand type(s) for +: 'Rectangle' and 'Rectangle'"
     ]
    }
   ],
   "source": [
    "r = r1 + r2"
   ]
  },
  {
   "cell_type": "code",
   "execution_count": 8,
   "metadata": {},
   "outputs": [],
   "source": [
    "class Rectangle:\n",
    "    def __init__(self, length = 0.0, breadth = 0.0):\n",
    "        self.length = length\n",
    "        self.breadth = breadth\n",
    "\n",
    "    def __setattr__(self, attr, val):\n",
    "        if attr == 'length' or attr == 'breadth':\n",
    "            self.__dict__[attr] = val if val >= 0.0 else -val\n",
    "        else:\n",
    "            self.__dict__[attr] = val\n",
    "\n",
    "    def __str__(self):\n",
    "        return f'Rectangle(length: {self.length}, breadth: {self.breadth})'\n",
    "\n",
    "    def __getattr__(self, attr):\n",
    "        if attr == 'area':\n",
    "            return self.length * self.breadth\n",
    "        if attr == 'peri':\n",
    "            return 2 * (self.length + self.breadth)\n",
    "\n",
    "    def __add__(self, r):\n",
    "        return Rectangle(self.length + r.length, self.breadth + r.breadth)"
   ]
  },
  {
   "cell_type": "code",
   "execution_count": 9,
   "metadata": {},
   "outputs": [],
   "source": [
    "r1 = Rectangle(12, 5)\n",
    "r2 = Rectangle(10, 6)\n",
    "r = r1 + r2 # r = r1.__add__(r2)"
   ]
  },
  {
   "cell_type": "code",
   "execution_count": 10,
   "metadata": {},
   "outputs": [
    {
     "output_type": "execute_result",
     "data": {
      "text/plain": [
       "'Rectangle(length: 22, breadth: 11)'"
      ]
     },
     "metadata": {},
     "execution_count": 10
    }
   ],
   "source": [
    "str(r)"
   ]
  },
  {
   "cell_type": "code",
   "execution_count": 11,
   "metadata": {},
   "outputs": [
    {
     "output_type": "stream",
     "name": "stdout",
     "text": [
      "Rectangle(length: 22, breadth: 11)\n"
     ]
    }
   ],
   "source": [
    "print(r)"
   ]
  },
  {
   "source": [
    "# Static Properties"
   ],
   "cell_type": "markdown",
   "metadata": {}
  },
  {
   "source": [
    "Properties are normally defined for objects. Howerver, sometimes we need to define properties for the class only and not objects. \n",
    "\n",
    "Thereby, the properties that can be accessed without the use/creation of objects. **Static** properties doesn't change from object to object."
   ],
   "cell_type": "markdown",
   "metadata": {}
  },
  {
   "cell_type": "code",
   "execution_count": 12,
   "metadata": {},
   "outputs": [],
   "source": [
    "class Rectangle:\n",
    "    count = 0\n",
    "\n",
    "    def __init__(self, length = 0.0, breadth = 0.0):\n",
    "        self.length = length\n",
    "        self.breadth = breadth\n",
    "        Rectangle.count += 1\n",
    "\n",
    "    def __setattr__(self, attr, val):\n",
    "        if attr == 'length' or attr == 'breadth':\n",
    "            self.__dict__[attr] = val if val >= 0.0 else -val\n",
    "        else:\n",
    "            self.__dict__[attr] = val\n",
    "\n",
    "    def __str__(self):\n",
    "        # return f'Rectangle(length: {self.length}, breadth: {self.breadth})'\n",
    "        return f'{self.__class__.__name__}(Length: {self.length}, Breadth: {self.breadth})'\n",
    "\n",
    "    def __getattr__(self, attr):\n",
    "        if attr == 'area':\n",
    "            return self.length * self.breadth\n",
    "        if attr == 'peri':\n",
    "            return 2 * (self.length + self.breadth)\n",
    "\n",
    "    def __add__(self, r):\n",
    "        return Rectangle(self.length + r.length, self.breadth + r.breadth)\n",
    "\n",
    "    "
   ]
  },
  {
   "cell_type": "code",
   "execution_count": 13,
   "metadata": {},
   "outputs": [],
   "source": [
    "r1 = Rectangle(13, 5)\n",
    "r2 = Rectangle(12, 7)"
   ]
  },
  {
   "cell_type": "code",
   "execution_count": 14,
   "metadata": {},
   "outputs": [
    {
     "output_type": "execute_result",
     "data": {
      "text/plain": [
       "2"
      ]
     },
     "metadata": {},
     "execution_count": 14
    }
   ],
   "source": [
    "Rectangle.count"
   ]
  },
  {
   "cell_type": "code",
   "execution_count": 15,
   "metadata": {},
   "outputs": [
    {
     "output_type": "execute_result",
     "data": {
      "text/plain": [
       "\"\\n    def __str__(self):\\n        return f'Square(Length: {self.length})'\\n\""
      ]
     },
     "metadata": {},
     "execution_count": 15
    }
   ],
   "source": [
    "class Square(Rectangle):\n",
    "    def __init__(self, length):\n",
    "        super().__init__(length, length)\n",
    "'''\n",
    "    def __str__(self):\n",
    "        return f'Square(Length: {self.length})'\n",
    "'''"
   ]
  },
  {
   "cell_type": "code",
   "execution_count": 16,
   "metadata": {},
   "outputs": [],
   "source": [
    "s1 = Square(12)"
   ]
  },
  {
   "cell_type": "code",
   "execution_count": 17,
   "metadata": {},
   "outputs": [
    {
     "output_type": "stream",
     "name": "stdout",
     "text": [
      "Square(Length: 12, Breadth: 12)\n"
     ]
    }
   ],
   "source": [
    "print(s1)"
   ]
  },
  {
   "cell_type": "code",
   "execution_count": null,
   "metadata": {},
   "outputs": [],
   "source": []
  }
 ]
}