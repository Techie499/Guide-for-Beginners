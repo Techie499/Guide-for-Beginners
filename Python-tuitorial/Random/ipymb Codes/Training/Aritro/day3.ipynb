{
 "metadata": {
  "language_info": {
   "codemirror_mode": {
    "name": "ipython",
    "version": 3
   },
   "file_extension": ".py",
   "mimetype": "text/x-python",
   "name": "python",
   "nbconvert_exporter": "python",
   "pygments_lexer": "ipython3",
   "version": "3.7.2-candidate"
  },
  "orig_nbformat": 2,
  "kernelspec": {
   "name": "python3",
   "display_name": "Python 3.7.2 64-bit",
   "metadata": {
    "interpreter": {
     "hash": "83578efa56bdacf56e7177dd56e6599257fec880fd84a9294df1e203d665e85c"
    }
   }
  }
 },
 "nbformat": 4,
 "nbformat_minor": 2,
 "cells": [
  {
   "source": [
    "# Data Structures in Python:\n",
    "### 1. Range\n",
    "### 2. List\n",
    "### 3. Tuple\n",
    "### 4. Set\n",
    "### 5. Dictionary"
   ],
   "cell_type": "markdown",
   "metadata": {}
  },
  {
   "source": [
    "## Features that will be discussed:\n",
    "#### 1. Indexing\n",
    "#### 2. Slicing\n",
    "#### 3. Immutability\n",
    "#### 4. Hashable\n",
    "#### 5. Iterable"
   ],
   "cell_type": "markdown",
   "metadata": {}
  },
  {
   "source": [
    "# Python Data Structures"
   ],
   "cell_type": "markdown",
   "metadata": {}
  },
  {
   "source": [
    "### Range"
   ],
   "cell_type": "markdown",
   "metadata": {}
  },
  {
   "source": [
    "Range is a sequence of integers in Arithmetic Progression\n",
    "For a range we need to  know the first term, last term and the common difference."
   ],
   "cell_type": "markdown",
   "metadata": {}
  },
  {
   "cell_type": "code",
   "execution_count": 5,
   "metadata": {},
   "outputs": [],
   "source": [
    "r = range(5,100,5)"
   ]
  },
  {
   "cell_type": "code",
   "execution_count": 6,
   "metadata": {},
   "outputs": [
    {
     "output_type": "execute_result",
     "data": {
      "text/plain": [
       "range"
      ]
     },
     "metadata": {},
     "execution_count": 6
    }
   ],
   "source": [
    "type(r)"
   ]
  },
  {
   "cell_type": "code",
   "execution_count": 7,
   "metadata": {},
   "outputs": [
    {
     "output_type": "execute_result",
     "data": {
      "text/plain": [
       "19"
      ]
     },
     "metadata": {},
     "execution_count": 7
    }
   ],
   "source": [
    "len(r)"
   ]
  },
  {
   "cell_type": "code",
   "execution_count": 8,
   "metadata": {},
   "outputs": [
    {
     "output_type": "execute_result",
     "data": {
      "text/plain": [
       "30"
      ]
     },
     "metadata": {},
     "execution_count": 8
    }
   ],
   "source": [
    "r[5]"
   ]
  },
  {
   "cell_type": "code",
   "execution_count": 9,
   "metadata": {},
   "outputs": [
    {
     "output_type": "execute_result",
     "data": {
      "text/plain": [
       "range(15, 40, 5)"
      ]
     },
     "metadata": {},
     "execution_count": 9
    }
   ],
   "source": [
    "r[2:7]"
   ]
  },
  {
   "cell_type": "code",
   "execution_count": 10,
   "metadata": {},
   "outputs": [
    {
     "output_type": "execute_result",
     "data": {
      "text/plain": [
       "30"
      ]
     },
     "metadata": {},
     "execution_count": 10
    }
   ],
   "source": [
    "r[2:7][3]"
   ]
  },
  {
   "cell_type": "code",
   "execution_count": 11,
   "metadata": {},
   "outputs": [
    {
     "output_type": "error",
     "ename": "TypeError",
     "evalue": "'range' object does not support item assignment",
     "traceback": [
      "\u001b[1;31m---------------------------------------------------------------------------\u001b[0m",
      "\u001b[1;31mTypeError\u001b[0m                                 Traceback (most recent call last)",
      "\u001b[1;32m<ipython-input-11-e429b48f1d7e>\u001b[0m in \u001b[0;36m<module>\u001b[1;34m\u001b[0m\n\u001b[1;32m----> 1\u001b[1;33m \u001b[0mr\u001b[0m\u001b[1;33m[\u001b[0m\u001b[1;36m0\u001b[0m\u001b[1;33m]\u001b[0m \u001b[1;33m=\u001b[0m \u001b[1;36m13\u001b[0m\u001b[1;33m\u001b[0m\u001b[1;33m\u001b[0m\u001b[0m\n\u001b[0m",
      "\u001b[1;31mTypeError\u001b[0m: 'range' object does not support item assignment"
     ]
    }
   ],
   "source": [
    "r[0] = 13"
   ]
  },
  {
   "cell_type": "code",
   "execution_count": 8,
   "metadata": {},
   "outputs": [
    {
     "output_type": "execute_result",
     "data": {
      "text/plain": [
       "3318442399875921580"
      ]
     },
     "metadata": {},
     "execution_count": 8
    }
   ],
   "source": [
    "hash(r)"
   ]
  },
  {
   "source": [
    "#### For loop introduction in Python\n",
    "The C for loop always moves through the index whereas Python for loop moves through the item."
   ],
   "cell_type": "markdown",
   "metadata": {}
  },
  {
   "cell_type": "code",
   "execution_count": 9,
   "metadata": {},
   "outputs": [
    {
     "output_type": "stream",
     "name": "stdout",
     "text": [
      "p\ny\nt\nh\no\nn\n"
     ]
    }
   ],
   "source": [
    "s = 'python'\n",
    "for x in s:\n",
    "    print(x)"
   ]
  },
  {
   "source": [
    "#### For loop in Python can only run through the items of an iterable data structure."
   ],
   "cell_type": "markdown",
   "metadata": {}
  },
  {
   "source": [
    "#### Defining a range to store the index of elements of the string s"
   ],
   "cell_type": "markdown",
   "metadata": {}
  },
  {
   "cell_type": "code",
   "execution_count": 10,
   "metadata": {},
   "outputs": [
    {
     "output_type": "stream",
     "name": "stdout",
     "text": [
      "p\ny\nt\nh\no\nn\n"
     ]
    }
   ],
   "source": [
    "r1 = range(len(s))\n",
    "for i in r1:\n",
    "    print(s[i])"
   ]
  },
  {
   "source": [
    "#### Professional method"
   ],
   "cell_type": "markdown",
   "metadata": {}
  },
  {
   "cell_type": "code",
   "execution_count": 11,
   "metadata": {},
   "outputs": [
    {
     "output_type": "stream",
     "name": "stdout",
     "text": [
      "p\ny\nt\nh\no\nn\n"
     ]
    }
   ],
   "source": [
    "for i in range(len(s)):\n",
    "    print(s[i])"
   ]
  },
  {
   "cell_type": "code",
   "execution_count": 4,
   "metadata": {},
   "outputs": [
    {
     "output_type": "stream",
     "name": "stdout",
     "text": [
      "n\no\nh\nt\ny\np\n"
     ]
    }
   ],
   "source": [
    "s = 'python'\n",
    "for i in range(len(s)-1,-1,-1):\n",
    "    print(s[i])"
   ]
  },
  {
   "source": [
    "## List"
   ],
   "cell_type": "markdown",
   "metadata": {}
  },
  {
   "source": [
    "A list is a finite length sequence of heterogeneous items"
   ],
   "cell_type": "markdown",
   "metadata": {}
  },
  {
   "cell_type": "code",
   "execution_count": 17,
   "metadata": {},
   "outputs": [],
   "source": [
    "## defining a list\n",
    "\n",
    "a = ['ram',12,'sam',5,'jadu',7,'madhu',13]"
   ]
  },
  {
   "source": [
    "#### List suports:\n",
    "1. Indexing\n",
    "2. Slicing\n",
    ".\n",
    ".\n",
    ".\n",
    "so on...\n",
    "\n",
    "#### List is mutable unlike range"
   ],
   "cell_type": "markdown",
   "metadata": {}
  },
  {
   "cell_type": "code",
   "execution_count": 18,
   "metadata": {},
   "outputs": [
    {
     "output_type": "execute_result",
     "data": {
      "text/plain": [
       "['ram', 24, 'sam', 5, 'jadu', 7, 'madhu', 13]"
      ]
     },
     "metadata": {},
     "execution_count": 18
    }
   ],
   "source": [
    "a[1] = 24\n",
    "\n",
    "a"
   ]
  },
  {
   "cell_type": "code",
   "execution_count": 20,
   "metadata": {},
   "outputs": [],
   "source": [
    "a.append('hari puttar')"
   ]
  },
  {
   "cell_type": "code",
   "execution_count": 21,
   "metadata": {},
   "outputs": [],
   "source": [
    "a.append(16)"
   ]
  },
  {
   "cell_type": "code",
   "execution_count": 22,
   "metadata": {},
   "outputs": [
    {
     "output_type": "execute_result",
     "data": {
      "text/plain": [
       "['ram', 24, 'sam', 5, 'jadu', 7, 'madhu', 13, 'hari puttar', 16]"
      ]
     },
     "metadata": {},
     "execution_count": 22
    }
   ],
   "source": [
    "a"
   ]
  },
  {
   "source": [
    "#### append function adds element at last\n",
    "#### pop function deletes element at last, when no position is specified... It also deletes a specified element\n",
    "#### insert function adds element in whatever position is specified."
   ],
   "cell_type": "markdown",
   "metadata": {}
  },
  {
   "cell_type": "code",
   "execution_count": 23,
   "metadata": {},
   "outputs": [],
   "source": [
    "## inserting element at the middle\n",
    "\n",
    "a.insert(4, 'tom')\n",
    "a.insert(5, 15)"
   ]
  },
  {
   "cell_type": "code",
   "execution_count": 24,
   "metadata": {},
   "outputs": [
    {
     "output_type": "execute_result",
     "data": {
      "text/plain": [
       "['ram', 24, 'sam', 5, 'tom', 15, 'jadu', 7, 'madhu', 13, 'hari puttar', 16]"
      ]
     },
     "metadata": {},
     "execution_count": 24
    }
   ],
   "source": [
    "a"
   ]
  },
  {
   "cell_type": "code",
   "execution_count": 25,
   "metadata": {},
   "outputs": [
    {
     "output_type": "execute_result",
     "data": {
      "text/plain": [
       "16"
      ]
     },
     "metadata": {},
     "execution_count": 25
    }
   ],
   "source": [
    "## deleting element from the last\n",
    "\n",
    "a.pop()"
   ]
  },
  {
   "cell_type": "code",
   "execution_count": 26,
   "metadata": {},
   "outputs": [
    {
     "output_type": "execute_result",
     "data": {
      "text/plain": [
       "'hari puttar'"
      ]
     },
     "metadata": {},
     "execution_count": 26
    }
   ],
   "source": [
    "a.pop()"
   ]
  },
  {
   "cell_type": "code",
   "execution_count": 28,
   "metadata": {},
   "outputs": [
    {
     "output_type": "execute_result",
     "data": {
      "text/plain": [
       "'jadu'"
      ]
     },
     "metadata": {},
     "execution_count": 28
    }
   ],
   "source": [
    "a.pop(6)"
   ]
  },
  {
   "cell_type": "code",
   "execution_count": 29,
   "metadata": {},
   "outputs": [],
   "source": [
    "a.insert(6,'jadu')"
   ]
  },
  {
   "cell_type": "code",
   "execution_count": 30,
   "metadata": {},
   "outputs": [
    {
     "output_type": "execute_result",
     "data": {
      "text/plain": [
       "'tom'"
      ]
     },
     "metadata": {},
     "execution_count": 30
    }
   ],
   "source": [
    "a.pop(4)"
   ]
  },
  {
   "cell_type": "code",
   "execution_count": 31,
   "metadata": {},
   "outputs": [
    {
     "output_type": "execute_result",
     "data": {
      "text/plain": [
       "15"
      ]
     },
     "metadata": {},
     "execution_count": 31
    }
   ],
   "source": [
    "a.pop(4)"
   ]
  },
  {
   "source": [
    "### Concatenation\n",
    "\n",
    "Adds two list and stores the result in another list..."
   ],
   "cell_type": "markdown",
   "metadata": {}
  },
  {
   "cell_type": "code",
   "execution_count": 33,
   "metadata": {},
   "outputs": [],
   "source": [
    "b = a + ['tom',15] ## adding two list and storing in another list, initial list is unaltereed"
   ]
  },
  {
   "cell_type": "code",
   "execution_count": 34,
   "metadata": {},
   "outputs": [],
   "source": [
    "a += ['hari',19] ## adds two list but the original list is updated"
   ]
  },
  {
   "cell_type": "code",
   "execution_count": 35,
   "metadata": {},
   "outputs": [
    {
     "output_type": "execute_result",
     "data": {
      "text/plain": [
       "['ram', 24, 'sam', 5, 'jadu', 7, 'madhu', 13, 'tom', 15]"
      ]
     },
     "metadata": {},
     "execution_count": 35
    }
   ],
   "source": [
    "b"
   ]
  },
  {
   "cell_type": "code",
   "execution_count": 36,
   "metadata": {},
   "outputs": [
    {
     "output_type": "execute_result",
     "data": {
      "text/plain": [
       "['ram', 24, 'sam', 5, 'jadu', 7, 'madhu', 13, 'hari', 19]"
      ]
     },
     "metadata": {},
     "execution_count": 36
    }
   ],
   "source": [
    "a"
   ]
  },
  {
   "cell_type": "code",
   "execution_count": 37,
   "metadata": {},
   "outputs": [
    {
     "output_type": "error",
     "ename": "TypeError",
     "evalue": "unhashable type: 'list'",
     "traceback": [
      "\u001b[1;31m---------------------------------------------------------------------------\u001b[0m",
      "\u001b[1;31mTypeError\u001b[0m                                 Traceback (most recent call last)",
      "\u001b[1;32m<ipython-input-37-57b555d30865>\u001b[0m in \u001b[0;36m<module>\u001b[1;34m\u001b[0m\n\u001b[1;32m----> 1\u001b[1;33m \u001b[0mhash\u001b[0m\u001b[1;33m(\u001b[0m\u001b[0ma\u001b[0m\u001b[1;33m)\u001b[0m\u001b[1;33m\u001b[0m\u001b[1;33m\u001b[0m\u001b[0m\n\u001b[0m",
      "\u001b[1;31mTypeError\u001b[0m: unhashable type: 'list'"
     ]
    }
   ],
   "source": [
    "hash(a)"
   ]
  },
  {
   "source": [
    "#### A list is not hashable"
   ],
   "cell_type": "markdown",
   "metadata": {}
  },
  {
   "cell_type": "code",
   "execution_count": 38,
   "metadata": {},
   "outputs": [
    {
     "output_type": "stream",
     "name": "stdout",
     "text": [
      "ram\n24\nsam\n5\njadu\n7\nmadhu\n13\nhari\n19\n"
     ]
    }
   ],
   "source": [
    "for i in a:\n",
    "    print(i)"
   ]
  },
  {
   "cell_type": "code",
   "execution_count": 39,
   "metadata": {},
   "outputs": [
    {
     "output_type": "execute_result",
     "data": {
      "text/plain": [
       "'ram'"
      ]
     },
     "metadata": {},
     "execution_count": 39
    }
   ],
   "source": [
    "a[0]"
   ]
  },
  {
   "source": [
    "printing list contents in a given format:"
   ],
   "cell_type": "markdown",
   "metadata": {}
  },
  {
   "cell_type": "code",
   "execution_count": 41,
   "metadata": {},
   "outputs": [
    {
     "output_type": "stream",
     "name": "stdout",
     "text": [
      "ram has got 24\nsam has got 5\njadu has got 7\nmadhu has got 13\nhari has got 19\n"
     ]
    }
   ],
   "source": [
    "for x in range(0,len(a),2):\n",
    "    print(f'{a[x]} has got {a[x+1]}')"
   ]
  }
 ]
}