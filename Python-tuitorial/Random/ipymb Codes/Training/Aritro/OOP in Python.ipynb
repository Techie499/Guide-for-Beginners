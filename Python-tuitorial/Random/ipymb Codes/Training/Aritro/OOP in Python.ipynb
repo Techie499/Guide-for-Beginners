{
 "metadata": {
  "language_info": {
   "codemirror_mode": {
    "name": "ipython",
    "version": 3
   },
   "file_extension": ".py",
   "mimetype": "text/x-python",
   "name": "python",
   "nbconvert_exporter": "python",
   "pygments_lexer": "ipython3",
   "version": "3.7.2-candidate"
  },
  "orig_nbformat": 2,
  "kernelspec": {
   "name": "python3",
   "display_name": "Python 3.7.2 64-bit",
   "metadata": {
    "interpreter": {
     "hash": "83578efa56bdacf56e7177dd56e6599257fec880fd84a9294df1e203d665e85c"
    }
   }
  }
 },
 "nbformat": 4,
 "nbformat_minor": 2,
 "cells": [
  {
   "source": [
    "# Object Oriented Programming in Python "
   ],
   "cell_type": "markdown",
   "metadata": {}
  },
  {
   "source": [
    "## Object Features\n",
    "### Properties: Structural description\n",
    "### Operations: Behavorial description"
   ],
   "cell_type": "markdown",
   "metadata": {}
  },
  {
   "source": [
    "### What is a class?\n",
    "\n",
    "A class essentially, is an object descriptor.\n",
    "\n",
    "Similarly,\n",
    "\n",
    "An **object** is an instance of a class.\n",
    "\n",
    "**Q) What is a single tone class?**\n",
    "\n",
    "*(A)* A single tone class has only one instance. "
   ],
   "cell_type": "markdown",
   "metadata": {}
  },
  {
   "cell_type": "code",
   "execution_count": 1,
   "metadata": {},
   "outputs": [],
   "source": [
    "class Human:\n",
    "    pass"
   ]
  },
  {
   "cell_type": "code",
   "execution_count": 2,
   "metadata": {},
   "outputs": [],
   "source": [
    "h1 = Human() # creatig an object h1 of the class Human"
   ]
  },
  {
   "source": [
    "Python objects are actually anonymous. Here, **h1** is actually the reference.\n",
    "\n",
    "We we write **h1 = Human()**, sufficient memory is alocated for the class, **h1** is merely the reference.\n",
    "\n",
    "Ojects are allocated in *dyanamic heaps* in the **SS** *(Stack Segment)*\n",
    "\n"
   ],
   "cell_type": "markdown",
   "metadata": {}
  },
  {
   "cell_type": "code",
   "execution_count": 3,
   "metadata": {},
   "outputs": [
    {
     "output_type": "error",
     "ename": "AttributeError",
     "evalue": "'Human' object has no attribute 'age'",
     "traceback": [
      "\u001b[1;31m---------------------------------------------------------------------------\u001b[0m",
      "\u001b[1;31mAttributeError\u001b[0m                            Traceback (most recent call last)",
      "\u001b[1;32m<ipython-input-3-cf11ad37f737>\u001b[0m in \u001b[0;36m<module>\u001b[1;34m\u001b[0m\n\u001b[1;32m----> 1\u001b[1;33m \u001b[0mh1\u001b[0m\u001b[1;33m.\u001b[0m\u001b[0mage\u001b[0m\u001b[1;33m(\u001b[0m\u001b[1;33m)\u001b[0m\u001b[1;33m\u001b[0m\u001b[1;33m\u001b[0m\u001b[0m\n\u001b[0m",
      "\u001b[1;31mAttributeError\u001b[0m: 'Human' object has no attribute 'age'"
     ]
    }
   ],
   "source": [
    "h1.age() # class is totally empty"
   ]
  },
  {
   "cell_type": "code",
   "execution_count": 4,
   "metadata": {},
   "outputs": [],
   "source": [
    "# giving age property to h1.\n",
    "\n",
    "h1.age = 18"
   ]
  },
  {
   "cell_type": "code",
   "execution_count": 6,
   "metadata": {},
   "outputs": [
    {
     "output_type": "execute_result",
     "data": {
      "text/plain": [
       "18"
      ]
     },
     "metadata": {},
     "execution_count": 6
    }
   ],
   "source": [
    "h1.age"
   ]
  },
  {
   "source": [
    "When a function is called, the class offers properties to them with the help of a method (function).\n",
    "\n",
    "This function is called whenever an object is defined. This function is called **The Constructor**\n",
    "\n",
    "Unlike Java, where Constructor and Class have the same name; Pyhton's *constructor* is called **_ _ _init_ _ _**\n",
    "\n",
    "A *constructor* is often called the **Magic Method**\n",
    "\n",
    "Constructor works in the background, i.e A constructor is **abstract**"
   ],
   "cell_type": "markdown",
   "metadata": {}
  },
  {
   "cell_type": "code",
   "execution_count": 7,
   "metadata": {},
   "outputs": [],
   "source": [
    "## new class definition would offer properties to the object.\n",
    "## self keyword same as this keyword in Java. \n",
    "## Current object is the object presently taken in account by the constructor\n",
    "\n",
    "class Human:\n",
    "    def __init__(self, name = '', age = '18'):\n",
    "        self.name = name\n",
    "        self.age = age"
   ]
  },
  {
   "cell_type": "code",
   "execution_count": 8,
   "metadata": {},
   "outputs": [],
   "source": [
    "h1 = Human('Aritro', 21)"
   ]
  },
  {
   "source": [
    "**local variable** run as long as the function run, but **instance variables** run all the time\n",
    "\n",
    "Everytime a function is defined the *local variables* are born, as soon as the object *returns*, the *local variables* are popped out.\n",
    "\n",
    "*Instance variables* are present as long as the objects are there."
   ],
   "cell_type": "markdown",
   "metadata": {}
  },
  {
   "cell_type": "code",
   "execution_count": null,
   "metadata": {},
   "outputs": [],
   "source": [
    "h2 = Human('Wrik', 22)"
   ]
  },
  {
   "cell_type": "code",
   "execution_count": 9,
   "metadata": {},
   "outputs": [],
   "source": [
    "class Human:\n",
    "    def __init__(self, name = '', age = '18'):\n",
    "        self.name = name\n",
    "        self.age = age\n",
    "\n",
    "    def smile(self): \n",
    "        if self.age < 18:\n",
    "            print(f'{self.name}: hee hee')\n",
    "        else:\n",
    "            print(f'{self.name}: ha ha')"
   ]
  },
  {
   "cell_type": "code",
   "execution_count": 10,
   "metadata": {},
   "outputs": [],
   "source": [
    "h1 = Human('Dicky', 12)"
   ]
  },
  {
   "cell_type": "code",
   "execution_count": 11,
   "metadata": {},
   "outputs": [
    {
     "output_type": "stream",
     "name": "stdout",
     "text": [
      "Dicky: hee hee\n"
     ]
    }
   ],
   "source": [
    "h1.smile()"
   ]
  },
  {
   "cell_type": "code",
   "execution_count": 12,
   "metadata": {},
   "outputs": [],
   "source": [
    "h1.age = -18"
   ]
  },
  {
   "cell_type": "code",
   "execution_count": 13,
   "metadata": {},
   "outputs": [
    {
     "output_type": "execute_result",
     "data": {
      "text/plain": [
       "-18"
      ]
     },
     "metadata": {},
     "execution_count": 13
    }
   ],
   "source": [
    "h1.age"
   ]
  },
  {
   "source": [
    "### There are no access modifiers in Python...\n",
    "\n",
    "The way to define a varible's security is:\n",
    "\n",
    "A special method is called **_ _ _setattr_ _ _(h1, 'age', -18)**\n",
    "\n",
    "This method, if called is used to validate the data."
   ],
   "cell_type": "markdown",
   "metadata": {}
  },
  {
   "cell_type": "code",
   "execution_count": 7,
   "metadata": {},
   "outputs": [],
   "source": [
    "class Human(object):\n",
    "    def __init__(self, name = '', age = '18'):\n",
    "        self.name = name\n",
    "        self.age = age\n",
    "\n",
    "    def smile(self): \n",
    "        if self.age < 18:\n",
    "            print(f'{self.name}: hee hee')\n",
    "        else:\n",
    "            print(f'{self.name}: ha ha')\n",
    "\n",
    "    def __setattr__(self, attr, val):\n",
    "        if attr == 'age':\n",
    "            ## self.age = val if val >= 0 else -val\n",
    "            ## object.__setattr__(self, attr, val if val >= 0 else -val)\n",
    "            self.__dict__['age'] = val if val >= 0 else -val \n",
    "        else:\n",
    "            object.__setattr__(self, attr, val)"
   ]
  },
  {
   "cell_type": "code",
   "execution_count": 8,
   "metadata": {},
   "outputs": [],
   "source": [
    "h1 = Human('Aritro', -21) # kernel dies due to infinite recursion"
   ]
  },
  {
   "cell_type": "code",
   "execution_count": 9,
   "metadata": {},
   "outputs": [
    {
     "output_type": "execute_result",
     "data": {
      "text/plain": [
       "{'name': 'Aritro', 'age': 21}"
      ]
     },
     "metadata": {},
     "execution_count": 9
    }
   ],
   "source": [
    "h1.__dict__"
   ]
  },
  {
   "cell_type": "code",
   "execution_count": 10,
   "metadata": {},
   "outputs": [],
   "source": [
    "h1.__dict__['age'] = -18"
   ]
  },
  {
   "cell_type": "code",
   "execution_count": 11,
   "metadata": {},
   "outputs": [
    {
     "output_type": "execute_result",
     "data": {
      "text/plain": [
       "-18"
      ]
     },
     "metadata": {},
     "execution_count": 11
    }
   ],
   "source": [
    "h1.age"
   ]
  },
  {
   "cell_type": "code",
   "execution_count": 12,
   "metadata": {},
   "outputs": [
    {
     "output_type": "execute_result",
     "data": {
      "text/plain": [
       "'Aritro'"
      ]
     },
     "metadata": {},
     "execution_count": 12
    }
   ],
   "source": [
    "h1.name"
   ]
  },
  {
   "cell_type": "code",
   "execution_count": 13,
   "metadata": {},
   "outputs": [
    {
     "output_type": "stream",
     "name": "stdout",
     "text": [
      "<__main__.Human object at 0x0000025DD81DD320>\n"
     ]
    }
   ],
   "source": [
    "print(h1)"
   ]
  },
  {
   "source": [
    "Properties of objects are stored in their own dictionary **_ _ _dict_ _ _** "
   ],
   "cell_type": "markdown",
   "metadata": {}
  },
  {
   "source": [
    "A **module** is a single Python file containing many reusable features..."
   ],
   "cell_type": "markdown",
   "metadata": {}
  },
  {
   "source": [
    "**_ _ _main_ _ _** is the main script of the main module...\n",
    "\n",
    "In this case the notebook is the main module... "
   ],
   "cell_type": "markdown",
   "metadata": {}
  },
  {
   "cell_type": "code",
   "execution_count": 14,
   "metadata": {},
   "outputs": [
    {
     "output_type": "error",
     "ename": "NameError",
     "evalue": "name '__main__' is not defined",
     "traceback": [
      "\u001b[1;31m---------------------------------------------------------------------------\u001b[0m",
      "\u001b[1;31mNameError\u001b[0m                                 Traceback (most recent call last)",
      "\u001b[1;32m<ipython-input-14-a727630354b7>\u001b[0m in \u001b[0;36m<module>\u001b[1;34m\u001b[0m\n\u001b[1;32m----> 1\u001b[1;33m \u001b[0mtype\u001b[0m\u001b[1;33m(\u001b[0m\u001b[0m__main__\u001b[0m\u001b[1;33m)\u001b[0m\u001b[1;33m\u001b[0m\u001b[1;33m\u001b[0m\u001b[0m\n\u001b[0m",
      "\u001b[1;31mNameError\u001b[0m: name '__main__' is not defined"
     ]
    }
   ],
   "source": [
    "type(__main__)"
   ]
  },
  {
   "cell_type": "code",
   "execution_count": 15,
   "metadata": {},
   "outputs": [
    {
     "output_type": "error",
     "ename": "NameError",
     "evalue": "name '__main__' is not defined",
     "traceback": [
      "\u001b[1;31m---------------------------------------------------------------------------\u001b[0m",
      "\u001b[1;31mNameError\u001b[0m                                 Traceback (most recent call last)",
      "\u001b[1;32m<ipython-input-15-99b80dec3ceb>\u001b[0m in \u001b[0;36m<module>\u001b[1;34m\u001b[0m\n\u001b[1;32m----> 1\u001b[1;33m \u001b[0mtype\u001b[0m\u001b[1;33m(\u001b[0m\u001b[0m__main__\u001b[0m\u001b[1;33m.\u001b[0m\u001b[0mHuman\u001b[0m\u001b[1;33m)\u001b[0m\u001b[1;33m\u001b[0m\u001b[1;33m\u001b[0m\u001b[0m\n\u001b[0m",
      "\u001b[1;31mNameError\u001b[0m: name '__main__' is not defined"
     ]
    }
   ],
   "source": [
    "type(__main__.Human)"
   ]
  },
  {
   "cell_type": "code",
   "execution_count": 16,
   "metadata": {},
   "outputs": [
    {
     "output_type": "execute_result",
     "data": {
      "text/plain": [
       "__main__.Human"
      ]
     },
     "metadata": {},
     "execution_count": 16
    }
   ],
   "source": [
    "type(h1)"
   ]
  },
  {
   "source": [
    "We know that the object **h1** is a __main__.Human type object. An object resides in memory. Printing an object means dumping something on the console. We must remember that printing must be done in form of a **String**. \n",
    "So, when printing an object, the object is being converted in String automatically and a meaningful textual information is returned."
   ],
   "cell_type": "markdown",
   "metadata": {}
  },
  {
   "cell_type": "code",
   "execution_count": 18,
   "metadata": {},
   "outputs": [],
   "source": [
    "class Human(object):\n",
    "    def __init__(self, name = '', age = '18'):\n",
    "        self.name = name\n",
    "        self.age = age\n",
    "\n",
    "    def smile(self): \n",
    "        if self.age < 18:\n",
    "            print(f'{self.name}: hee hee')\n",
    "        else:\n",
    "            print(f'{self.name}: ha ha')\n",
    "\n",
    "    def __setattr__(self, attr, val):\n",
    "        if attr == 'age':\n",
    "            ## self.age = val if val >= 0 else -val\n",
    "            ## object.__setattr__(self, attr, val if val >= 0 else -val)\n",
    "            self.__dict__['age'] = val if val >= 0 else -val \n",
    "        else:\n",
    "            object.__setattr__(self, attr, val)\n",
    "\n",
    "    def __str__(self):\n",
    "        return f'name: {self.name}, Age: {self.age}'"
   ]
  },
  {
   "cell_type": "code",
   "execution_count": 19,
   "metadata": {},
   "outputs": [],
   "source": [
    "h1 = Human('Aritro', 21)"
   ]
  },
  {
   "cell_type": "code",
   "execution_count": 20,
   "metadata": {},
   "outputs": [
    {
     "output_type": "stream",
     "name": "stdout",
     "text": [
      "name: Aritro, Age: 21\n"
     ]
    }
   ],
   "source": [
    "print(h1)"
   ]
  },
  {
   "cell_type": "code",
   "execution_count": 21,
   "metadata": {},
   "outputs": [
    {
     "output_type": "execute_result",
     "data": {
      "text/plain": [
       "<__main__.Human at 0x25dd8bf7710>"
      ]
     },
     "metadata": {},
     "execution_count": 21
    }
   ],
   "source": [
    "h1"
   ]
  },
  {
   "cell_type": "code",
   "execution_count": 23,
   "metadata": {},
   "outputs": [
    {
     "output_type": "execute_result",
     "data": {
      "text/plain": [
       "'name: Aritro, Age: 21'"
      ]
     },
     "metadata": {},
     "execution_count": 23
    }
   ],
   "source": [
    "str(h1) ## displaying contents of h1 without using print. str() conversion method calls that function"
   ]
  },
  {
   "cell_type": "code",
   "execution_count": null,
   "metadata": {},
   "outputs": [],
   "source": []
  }
 ]
}