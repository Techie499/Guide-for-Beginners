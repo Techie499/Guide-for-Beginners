{
 "cells": [
  {
   "cell_type": "markdown",
   "metadata": {},
   "source": [
    "# Data Structures\n",
    "## 1.Data Types\n",
    "## 2.Data Structures\n",
    "## 3.ADT"
   ]
  },
  {
   "cell_type": "code",
   "execution_count": 1,
   "metadata": {},
   "outputs": [],
   "source": [
    "class Node:\n",
    "    def __init__(self,data=None,link=None):\n",
    "        self.data=data\n",
    "        self.link=link\n",
    "    \n",
    "    def __str__(self):\n",
    "        return str(self.data)"
   ]
  },
  {
   "cell_type": "code",
   "execution_count": 32,
   "metadata": {},
   "outputs": [],
   "source": [
    "class Stack:\n",
    "    def __init__(self):\n",
    "        self.top=None\n",
    "    \n",
    "    def push(self,data):\n",
    "        node =Node(data)\n",
    "        node.link=self.top\n",
    "        self.top=node\n",
    "    \n",
    "    def pop(self):\n",
    "        if self.top==None:\n",
    "            print('Stack Undeflow')\n",
    "            return\n",
    "        data=self.top.data\n",
    "        self.top=self.top.link\n",
    "        return data\n",
    "    \n",
    "    def empty(self):\n",
    "        return  self.top==None"
   ]
  },
  {
   "cell_type": "code",
   "execution_count": 33,
   "metadata": {},
   "outputs": [],
   "source": [
    "from random import randint\n"
   ]
  },
  {
   "cell_type": "code",
   "execution_count": 34,
   "metadata": {},
   "outputs": [],
   "source": [
    "n=randint(10,20)"
   ]
  },
  {
   "cell_type": "code",
   "execution_count": 35,
   "metadata": {},
   "outputs": [],
   "source": [
    "s=Stack()\n",
    "for i in range(n):\n",
    "    s.push(randint(10,100))\n"
   ]
  },
  {
   "cell_type": "code",
   "execution_count": 36,
   "metadata": {},
   "outputs": [
    {
     "name": "stdout",
     "output_type": "stream",
     "text": [
      "36\n",
      "57\n",
      "55\n",
      "86\n",
      "88\n",
      "61\n",
      "50\n",
      "29\n",
      "74\n",
      "45\n",
      "91\n",
      "45\n",
      "12\n",
      "55\n",
      "39\n",
      "87\n",
      "97\n",
      "39\n"
     ]
    }
   ],
   "source": [
    "while not s.empty():\n",
    "    print(s.pop())"
   ]
  },
  {
   "cell_type": "code",
   "execution_count": 38,
   "metadata": {},
   "outputs": [
    {
     "name": "stdout",
     "output_type": "stream",
     "text": [
      "55 is inserted\n",
      "22 is inserted\n",
      "58 is inserted\n",
      "31 is inserted\n",
      "62 is inserted\n",
      "39 is inserted\n",
      "10 is inserted\n",
      "57 is inserted\n",
      "100 is inserted\n",
      "42 is inserted\n",
      "93 is inserted\n",
      "34 is inserted\n",
      "88 is inserted\n",
      "32 is inserted\n",
      "----\n",
      "32 is popped\n",
      "88 is popped\n",
      "34 is popped\n",
      "93 is popped\n",
      "42 is popped\n",
      "100 is popped\n",
      "57 is popped\n",
      "10 is popped\n",
      "39 is popped\n",
      "62 is popped\n",
      "31 is popped\n",
      "58 is popped\n",
      "22 is popped\n",
      "55 is popped\n"
     ]
    }
   ],
   "source": [
    "class Stack:\n",
    "    def __init__(self):\n",
    "        self.top=None\n",
    "    \n",
    "    def push(self,data):\n",
    "        node =Node(data)\n",
    "        node.link=self.top\n",
    "        self.top=node\n",
    "        return data\n",
    "    \n",
    "    def pop(self):\n",
    "        if self.top==None:\n",
    "            print('Stack Undeflow')\n",
    "            return\n",
    "        data=self.top.data\n",
    "        self.top=self.top.link\n",
    "        return data\n",
    "    \n",
    "    def empty(self):\n",
    "        return  self.top==None\n",
    "from random import randint\n",
    "n=randint(10,20)\n",
    "s=Stack()\n",
    "for i in range(n):\n",
    "    print(f'{s.push(randint(10,100))} is inserted')\n",
    "print(\"----\")\n",
    "while not s.empty():\n",
    "    print(f'{s.pop()} is popped')"
   ]
  },
  {
   "cell_type": "code",
   "execution_count": null,
   "metadata": {},
   "outputs": [],
   "source": []
  }
 ],
 "metadata": {
  "kernelspec": {
   "display_name": "Python 3",
   "language": "python",
   "name": "python3"
  },
  "language_info": {
   "codemirror_mode": {
    "name": "ipython",
    "version": 3
   },
   "file_extension": ".py",
   "mimetype": "text/x-python",
   "name": "python",
   "nbconvert_exporter": "python",
   "pygments_lexer": "ipython3",
   "version": "3.7.1"
  }
 },
 "nbformat": 4,
 "nbformat_minor": 2
}
