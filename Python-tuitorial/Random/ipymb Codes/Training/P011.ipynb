{
 "cells": [
  {
   "cell_type": "code",
   "execution_count": 2,
   "metadata": {},
   "outputs": [],
   "source": [
    "class Node:\n",
    "    def __init__(self,data=None,link=None):\n",
    "        self.data=data\n",
    "        self.link=link\n",
    "    \n",
    "    def __str__(self):\n",
    "        return str(self.data)"
   ]
  },
  {
   "cell_type": "code",
   "execution_count": 3,
   "metadata": {},
   "outputs": [],
   "source": [
    "class GeneralList:\n",
    "    def __init__(self):\n",
    "        self.head=None\n",
    "        self.count=0\n",
    "    def insert(self,pos,data):\n",
    "        if pos<0 or pos>self.count:\n",
    "            raise Exception(f'Invalid Position:{pos}')\n",
    "        node=Node(data)\n",
    "        if pos==0:\n",
    "            node.link=self.head\n",
    "            self.head=node\n",
    "        else:\n",
    "            p=self.head\n",
    "            for i in range(pos-1):\n",
    "                p=p.link\n",
    "            node.link=p.link\n",
    "            p.link=node\n",
    "        self.count+=1\n",
    "    \n",
    "    def traverse(self):\n",
    "        p=self.head\n",
    "        while(p!=None):\n",
    "            print(p.data,end=' ')\n",
    "            p=p.link\n",
    "            \n",
    "    def __iter__(self):\n",
    "        self.current=self.head\n",
    "        return self\n",
    "    \n",
    "    def __next__(self):\n",
    "        if self.current==None:\n",
    "            raise StopIteration\n",
    "        data=self.current.data\n",
    "        self.current=self.current.link\n",
    "        return data\n",
    "    \n",
    "    def reverse(self):\n",
    "        rev=None\n",
    "        while self.head != None:\n",
    "            #deattach\n",
    "            p=self.head\n",
    "            self.head=p.link\n",
    "            #attach\n",
    "            p.link=rev\n",
    "            rev=p\n",
    "        self.head=rev"
   ]
  },
  {
   "cell_type": "code",
   "execution_count": 4,
   "metadata": {},
   "outputs": [],
   "source": [
    "b=GeneralList()"
   ]
  },
  {
   "cell_type": "code",
   "execution_count": 6,
   "metadata": {},
   "outputs": [],
   "source": [
    "from random import randint"
   ]
  },
  {
   "cell_type": "code",
   "execution_count": 7,
   "metadata": {},
   "outputs": [],
   "source": [
    "for i in range(randint(10,20)):\n",
    "    b.insert(i,randint(10,100))"
   ]
  },
  {
   "cell_type": "code",
   "execution_count": 8,
   "metadata": {},
   "outputs": [
    {
     "name": "stdout",
     "output_type": "stream",
     "text": [
      "46\n",
      "39\n",
      "56\n",
      "53\n",
      "42\n",
      "78\n",
      "51\n",
      "39\n",
      "99\n",
      "58\n",
      "52\n",
      "74\n",
      "47\n",
      "46\n",
      "58\n",
      "67\n",
      "58\n",
      "94\n",
      "43\n"
     ]
    }
   ],
   "source": [
    "for item in b:\n",
    "    print(item)"
   ]
  },
  {
   "cell_type": "code",
   "execution_count": 9,
   "metadata": {},
   "outputs": [],
   "source": [
    "b.reverse()"
   ]
  },
  {
   "cell_type": "code",
   "execution_count": 10,
   "metadata": {},
   "outputs": [
    {
     "name": "stdout",
     "output_type": "stream",
     "text": [
      "43 94 58 67 58 46 47 74 52 58 99 39 51 78 42 53 56 39 46 "
     ]
    }
   ],
   "source": [
    "b.traverse()"
   ]
  },
  {
   "cell_type": "markdown",
   "metadata": {},
   "source": [
    "# Merge Sort"
   ]
  },
  {
   "cell_type": "code",
   "execution_count": 11,
   "metadata": {},
   "outputs": [],
   "source": [
    "def merge_sort(a,first,last):\n",
    "    if first<last:\n",
    "        mid=(first+last)//2\n",
    "        merge_sort(a,first,mid)\n",
    "        merge_sort(a,mid+1,last)\n",
    "        merge(a,first,mid,last)"
   ]
  },
  {
   "cell_type": "code",
   "execution_count": 13,
   "metadata": {},
   "outputs": [],
   "source": [
    "def merge(a,first,mid,last):\n",
    "    l=a[first:mid+1]\n",
    "    r=a[mid+1:last+1]\n",
    "    l.append(float('inf'))\n",
    "    r.append(float('inf'))\n",
    "    i=j=0\n",
    "    for k in range(first,last+1):\n",
    "        if l[i]<=r[j]:\n",
    "            a[k]=l[i]\n",
    "            i+=1\n",
    "        else:\n",
    "            a[k]=r[j]\n",
    "            j+=1\n",
    "            "
   ]
  },
  {
   "cell_type": "code",
   "execution_count": null,
   "metadata": {},
   "outputs": [],
   "source": [
    "a=[12,5,7,13,6,9,15]"
   ]
  },
  {
   "cell_type": "code",
   "execution_count": null,
   "metadata": {},
   "outputs": [],
   "source": []
  }
 ],
 "metadata": {
  "kernelspec": {
   "display_name": "Python 3",
   "language": "python",
   "name": "python3"
  },
  "language_info": {
   "codemirror_mode": {
    "name": "ipython",
    "version": 3
   },
   "file_extension": ".py",
   "mimetype": "text/x-python",
   "name": "python",
   "nbconvert_exporter": "python",
   "pygments_lexer": "ipython3",
   "version": "3.7.1"
  }
 },
 "nbformat": 4,
 "nbformat_minor": 2
}
