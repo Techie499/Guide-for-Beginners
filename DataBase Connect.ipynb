{
 "cells": [
  {
   "cell_type": "code",
   "execution_count": 1,
   "id": "5f584c6e-c59b-406f-84d2-8965ca8a1e3b",
   "metadata": {
    "collapsed": true,
    "jupyter": {
     "outputs_hidden": true
    }
   },
   "outputs": [
    {
     "name": "stdout",
     "output_type": "stream",
     "text": [
      "Collecting psycopg2\n",
      "  Obtaining dependency information for psycopg2 from https://files.pythonhosted.org/packages/e4/0d/b807180308d543de909fe87e5095e86c5bb58a04cdfcde6267f97da60aff/psycopg2-2.9.7-cp39-cp39-win_amd64.whl.metadata\n",
      "  Downloading psycopg2-2.9.7-cp39-cp39-win_amd64.whl.metadata (4.6 kB)\n",
      "Downloading psycopg2-2.9.7-cp39-cp39-win_amd64.whl (1.2 MB)\n",
      "   ---------------------------------------- 0.0/1.2 MB ? eta -:--:--\n",
      "   - -------------------------------------- 0.0/1.2 MB 640.0 kB/s eta 0:00:02\n",
      "   --- ------------------------------------ 0.1/1.2 MB 1.1 MB/s eta 0:00:01\n",
      "   ------ --------------------------------- 0.2/1.2 MB 1.3 MB/s eta 0:00:01\n",
      "   ------------ --------------------------- 0.4/1.2 MB 1.7 MB/s eta 0:00:01\n",
      "   ------------------ --------------------- 0.6/1.2 MB 2.0 MB/s eta 0:00:01\n",
      "   ------------------------ --------------- 0.7/1.2 MB 2.2 MB/s eta 0:00:01\n",
      "   ------------------------------ --------- 0.9/1.2 MB 2.4 MB/s eta 0:00:01\n",
      "   ------------------------------------ --- 1.1/1.2 MB 2.6 MB/s eta 0:00:01\n",
      "   ---------------------------------------  1.2/1.2 MB 2.6 MB/s eta 0:00:01\n",
      "   ---------------------------------------  1.2/1.2 MB 2.6 MB/s eta 0:00:01\n",
      "   ---------------------------------------- 1.2/1.2 MB 2.1 MB/s eta 0:00:00\n",
      "Installing collected packages: psycopg2\n",
      "Successfully installed psycopg2-2.9.7\n"
     ]
    }
   ],
   "source": [
    "!pip install psycopg2"
   ]
  },
  {
   "cell_type": "code",
   "execution_count": 3,
   "id": "7dcba19c-76f6-4865-bea3-eb7a93d7013e",
   "metadata": {},
   "outputs": [],
   "source": [
    "import psycopg2 as psy"
   ]
  },
  {
   "cell_type": "code",
   "execution_count": 8,
   "id": "8871e674-076f-4fc0-b95d-ee888a5689bd",
   "metadata": {},
   "outputs": [],
   "source": [
    "try:\n",
    "    conn = psy.connect(\"host=localhost dbname=postgres user=postgres password=admin\")\n",
    "except psy.Error as e:\n",
    "    print(\"Error: Could not make connection to the PostGres Database\")\n",
    "    print(e)"
   ]
  },
  {
   "cell_type": "code",
   "execution_count": 9,
   "id": "356e169c-ecfc-46b4-ac3f-95c397c5c413",
   "metadata": {},
   "outputs": [],
   "source": [
    "try:\n",
    "    cur = conn.cursor()\n",
    "except psy.Error as e:\n",
    "    print(\"Error: \")\n",
    "    print(e)"
   ]
  },
  {
   "cell_type": "code",
   "execution_count": 10,
   "id": "9e0d6a6a-6111-4543-bfd5-f96e582eceac",
   "metadata": {},
   "outputs": [],
   "source": [
    " conn.set_session(autocommit=True)"
   ]
  },
  {
   "cell_type": "code",
   "execution_count": 11,
   "id": "4950a366-a969-43fb-8544-48e8022fcf13",
   "metadata": {},
   "outputs": [],
   "source": [
    "try:\n",
    "    cur.execute(\"Create Database myfirstdb\")\n",
    "except psy.Error as e:\n",
    "    print(e)"
   ]
  },
  {
   "cell_type": "code",
   "execution_count": 12,
   "id": "a98a2098-6ed0-49b2-bf7b-1fbb8a070d7c",
   "metadata": {},
   "outputs": [],
   "source": [
    "try:\n",
    "    conn.close()\n",
    "except psy.Error as e:\n",
    "    print(e)\n",
    "\n",
    "\n",
    "try:\n",
    "    conn = psy.connect(\"host=127.0.0.1 dbname=myfirstdb user=postgres password=admin\")\n",
    "except psy.Error as e:\n",
    "    print(e)\n",
    "\n",
    "try:\n",
    "    cur = conn.cursor()\n",
    "except  psy.Error as e:\n",
    "    print(e)\n"
   ]
  },
  {
   "cell_type": "code",
   "execution_count": 13,
   "id": "f40682c9-8538-4b0f-b9e7-a500071971f2",
   "metadata": {},
   "outputs": [],
   "source": [
    "conn.set_session(autocommit=True)"
   ]
  },
  {
   "cell_type": "code",
   "execution_count": 23,
   "id": "ef6a5ec5-0976-45b6-bc85-ce046cd82b05",
   "metadata": {},
   "outputs": [],
   "source": [
    "try:\n",
    "    cur.execute(\"CREATE TABLE IF NOT EXISTS students (student_id int, name varchar, age int, gender varchar, subject varchar, marks int);\")\n",
    "except psy.Error as e:\n",
    "    print(e)"
   ]
  },
  {
   "cell_type": "code",
   "execution_count": 24,
   "id": "e8ce118d-11e7-4a4f-abc5-08a1be872d38",
   "metadata": {},
   "outputs": [],
   "source": [
    "try:\n",
    "    cur.execute(\"INSERT INTO students (student_id,name,age,gender,subject,marks) VALUES (%s,%s,%s,%s,%s,%s)\",(1,\"Raj\",23,\"Male\",\"Python\",85))\n",
    "except psy.Error as e:\n",
    "    print(e)\n",
    "\n",
    "try:\n",
    "    cur.execute(\"INSERT INTO students (student_id,name,age,gender,subject,marks) VALUES (%s,%s,%s,%s,%s,%s)\",(2,\"Priya\",22,\"Female\",\"Python\",86))\n",
    "except psy.Error as e:\n",
    "    print(e) "
   ]
  },
  {
   "cell_type": "code",
   "execution_count": 28,
   "id": "0be69048-f067-48f6-ac18-6e71b253925e",
   "metadata": {},
   "outputs": [
    {
     "name": "stdout",
     "output_type": "stream",
     "text": [
      "(1, 'Raj', 23, 'Male', 'Python', 85)\n",
      "(2, 'Priya', 22, 'Female', 'Python', 86)\n"
     ]
    }
   ],
   "source": [
    "try:\n",
    "    cur.execute(\"SELECT * FROM students;\")\n",
    "except psy.Error as e:\n",
    "    print(e)\n",
    "\n",
    "row = cur.fetchone()\n",
    "while row:\n",
    "    print(row)\n",
    "    row = cur.fetchone()"
   ]
  },
  {
   "cell_type": "code",
   "execution_count": 29,
   "id": "1294cea3-aa10-41f9-bc48-0f6062018b3d",
   "metadata": {},
   "outputs": [],
   "source": [
    "cur.close()\n",
    "conn.close()"
   ]
  },
  {
   "cell_type": "code",
   "execution_count": null,
   "id": "61d9bf82-aa0a-4cec-b05e-9d3b64f18ae2",
   "metadata": {},
   "outputs": [],
   "source": []
  }
 ],
 "metadata": {
  "kernelspec": {
   "display_name": "Python 3 (ipykernel)",
   "language": "python",
   "name": "python3"
  },
  "language_info": {
   "codemirror_mode": {
    "name": "ipython",
    "version": 3
   },
   "file_extension": ".py",
   "mimetype": "text/x-python",
   "name": "python",
   "nbconvert_exporter": "python",
   "pygments_lexer": "ipython3",
   "version": "3.9.1"
  }
 },
 "nbformat": 4,
 "nbformat_minor": 5
}
