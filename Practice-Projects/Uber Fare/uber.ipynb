{
 "cells": [
  {
   "cell_type": "code",
   "execution_count": 48,
   "metadata": {},
   "outputs": [],
   "source": [
    "from pyspark.sql import SparkSession"
   ]
  },
  {
   "cell_type": "code",
   "execution_count": 49,
   "metadata": {},
   "outputs": [],
   "source": [
    "spark = SparkSession.builder.appName('uber').getOrCreate()"
   ]
  },
  {
   "cell_type": "code",
   "execution_count": 50,
   "metadata": {},
   "outputs": [
    {
     "name": "stderr",
     "output_type": "stream",
     "text": [
      "                                                                                \r"
     ]
    }
   ],
   "source": [
    "data = spark.read.csv('uber.csv', header=True, inferSchema=True)"
   ]
  },
  {
   "cell_type": "code",
   "execution_count": 51,
   "metadata": {},
   "outputs": [
    {
     "name": "stdout",
     "output_type": "stream",
     "text": [
      "root\n",
      " |-- _c0: integer (nullable = true)\n",
      " |-- key: timestamp (nullable = true)\n",
      " |-- fare_amount: double (nullable = true)\n",
      " |-- pickup_datetime: timestamp (nullable = true)\n",
      " |-- pickup_longitude: double (nullable = true)\n",
      " |-- pickup_latitude: double (nullable = true)\n",
      " |-- dropoff_longitude: double (nullable = true)\n",
      " |-- dropoff_latitude: double (nullable = true)\n",
      " |-- passenger_count: integer (nullable = true)\n",
      "\n"
     ]
    }
   ],
   "source": [
    "data.printSchema()"
   ]
  },
  {
   "cell_type": "code",
   "execution_count": 52,
   "metadata": {},
   "outputs": [
    {
     "data": {
      "text/plain": [
       "['_c0',\n",
       " 'key',\n",
       " 'fare_amount',\n",
       " 'pickup_datetime',\n",
       " 'pickup_longitude',\n",
       " 'pickup_latitude',\n",
       " 'dropoff_longitude',\n",
       " 'dropoff_latitude',\n",
       " 'passenger_count']"
      ]
     },
     "execution_count": 52,
     "metadata": {},
     "output_type": "execute_result"
    }
   ],
   "source": [
    "data.columns"
   ]
  },
  {
   "cell_type": "code",
   "execution_count": 53,
   "metadata": {},
   "outputs": [],
   "source": [
    "data=data.drop('_c0')"
   ]
  },
  {
   "cell_type": "code",
   "execution_count": 54,
   "metadata": {},
   "outputs": [
    {
     "name": "stdout",
     "output_type": "stream",
     "text": [
      "root\n",
      " |-- key: timestamp (nullable = true)\n",
      " |-- fare_amount: double (nullable = true)\n",
      " |-- pickup_datetime: timestamp (nullable = true)\n",
      " |-- pickup_longitude: double (nullable = true)\n",
      " |-- pickup_latitude: double (nullable = true)\n",
      " |-- dropoff_longitude: double (nullable = true)\n",
      " |-- dropoff_latitude: double (nullable = true)\n",
      " |-- passenger_count: integer (nullable = true)\n",
      "\n"
     ]
    }
   ],
   "source": [
    "data.printSchema()"
   ]
  },
  {
   "cell_type": "code",
   "execution_count": 55,
   "metadata": {},
   "outputs": [
    {
     "name": "stdout",
     "output_type": "stream",
     "text": [
      "+-------------------+-----------+-------------------+------------------+------------------+------------------+------------------+---------------+\n",
      "|                key|fare_amount|    pickup_datetime|  pickup_longitude|   pickup_latitude| dropoff_longitude|  dropoff_latitude|passenger_count|\n",
      "+-------------------+-----------+-------------------+------------------+------------------+------------------+------------------+---------------+\n",
      "|2015-05-07 19:52:06|        7.5|2015-05-07 19:52:06|-73.99981689453125| 40.73835372924805|   -73.99951171875| 40.72321701049805|              1|\n",
      "|2009-07-17 20:04:56|        7.7|2009-07-17 20:04:56|        -73.994355|         40.728225|         -73.99471|         40.750325|              1|\n",
      "|2009-08-24 21:45:00|       12.9|2009-08-24 21:45:00|        -74.005043|          40.74077|        -73.962565|         40.772647|              1|\n",
      "|2009-06-26 08:22:21|        5.3|2009-06-26 08:22:21|        -73.976124|         40.790844|        -73.965316|         40.803349|              3|\n",
      "|2014-08-28 17:47:00|       16.0|2014-08-28 17:47:00|        -73.925023|         40.744085|-73.97308199999999|         40.761247|              5|\n",
      "|2011-02-12 02:27:09|        4.9|2011-02-12 02:27:09|-73.96901899999999|          40.75591|-73.96901899999999|          40.75591|              1|\n",
      "|2014-10-12 07:04:00|       24.5|2014-10-12 07:04:00|-73.96144699999999|40.693965000000006|        -73.871195|         40.774297|              5|\n",
      "|2012-12-11 13:52:00|        2.5|2012-12-11 13:52:00|               0.0|               0.0|               0.0|               0.0|              1|\n",
      "|2012-02-17 09:32:00|        9.7|2012-02-17 09:32:00|        -73.975187|         40.745767|         -74.00272|40.743536999999996|              1|\n",
      "|2012-03-29 19:06:00|       12.5|2012-03-29 19:06:00|        -74.001065|         40.741787|         -73.96304|         40.775012|              1|\n",
      "|2015-05-22 17:32:27|        6.5|2015-05-22 17:32:27| -73.9743881225586| 40.74695205688477|-73.98858642578125|40.729804992675774|              1|\n",
      "|2011-05-23 22:15:00|        8.5|2011-05-23 22:15:00|               0.0|               0.0|               0.0|               0.0|              1|\n",
      "|2011-05-17 14:03:00|        3.3|2011-05-17 14:03:00|        -73.966378|          40.80444|         -73.96589|         40.807133|              5|\n",
      "|2011-06-25 11:19:00|       10.9|2011-06-25 11:19:00|        -73.953352|         40.767382|         -73.97251|         40.796137|              1|\n",
      "|2010-04-06 22:20:27|        6.9|2010-04-06 22:20:27|-73.97336999999999|         40.755193|-73.97826500000001|         40.766375|              1|\n",
      "|2012-02-21 09:33:00|        9.7|2012-02-21 09:33:00|        -73.990718|          40.75192|-73.97305300000001|          40.74423|              2|\n",
      "|2011-09-01 09:21:40|        4.9|2011-09-01 09:21:40|        -73.988908|         40.756982|        -73.981246|          40.76005|              1|\n",
      "|2011-03-19 23:58:27|       10.5|2011-03-19 23:58:27|-74.00566500000001|         40.741138|-73.97783000000001|         40.749338|              2|\n",
      "|2015-03-25 08:58:35|       12.0|2015-03-25 08:58:35|-73.96253204345702|40.767189025878906|-73.97445678710938| 40.75386047363281|              1|\n",
      "|2009-08-08 00:20:00|        4.9|2009-08-08 00:20:00|        -73.992075|         40.719633|        -73.985323|         40.727405|              1|\n",
      "+-------------------+-----------+-------------------+------------------+------------------+------------------+------------------+---------------+\n",
      "only showing top 20 rows\n",
      "\n"
     ]
    }
   ],
   "source": [
    "data.show()"
   ]
  },
  {
   "cell_type": "code",
   "execution_count": 56,
   "metadata": {},
   "outputs": [],
   "source": [
    "import haversine as hs   \n",
    "from haversine import Unit"
   ]
  },
  {
   "cell_type": "code",
   "execution_count": 57,
   "metadata": {},
   "outputs": [
    {
     "data": {
      "text/plain": [
       "200000"
      ]
     },
     "execution_count": 57,
     "metadata": {},
     "output_type": "execute_result"
    }
   ],
   "source": [
    "data.count()"
   ]
  },
  {
   "cell_type": "code",
   "execution_count": 58,
   "metadata": {},
   "outputs": [],
   "source": [
    "data = data.where(data['fare_amount'] > 0).dropna(how = 'all')"
   ]
  },
  {
   "cell_type": "code",
   "execution_count": 59,
   "metadata": {},
   "outputs": [],
   "source": [
    "data = data.where(data['pickup_longitude']>-90).dropna()"
   ]
  },
  {
   "cell_type": "code",
   "execution_count": 60,
   "metadata": {},
   "outputs": [],
   "source": [
    "data=data.where(data['pickup_latitude']<90).dropna()"
   ]
  },
  {
   "cell_type": "code",
   "execution_count": 61,
   "metadata": {},
   "outputs": [],
   "source": [
    "data=data.where(data['dropoff_longitude']>-90).dropna()"
   ]
  },
  {
   "cell_type": "code",
   "execution_count": 62,
   "metadata": {},
   "outputs": [],
   "source": [
    "data=data.where(data['dropoff_latitude']<90).dropna()"
   ]
  },
  {
   "cell_type": "code",
   "execution_count": 63,
   "metadata": {},
   "outputs": [
    {
     "name": "stdout",
     "output_type": "stream",
     "text": [
      "+---+-----------+---------------+----------------+---------------+-----------------+----------------+---------------+\n",
      "|key|fare_amount|pickup_datetime|pickup_longitude|pickup_latitude|dropoff_longitude|dropoff_latitude|passenger_count|\n",
      "+---+-----------+---------------+----------------+---------------+-----------------+----------------+---------------+\n",
      "+---+-----------+---------------+----------------+---------------+-----------------+----------------+---------------+\n",
      "\n"
     ]
    }
   ],
   "source": [
    "data.where(data['fare_amount']<0).show()"
   ]
  },
  {
   "cell_type": "code",
   "execution_count": 64,
   "metadata": {},
   "outputs": [
    {
     "name": "stderr",
     "output_type": "stream",
     "text": [
      "                                                                                \r"
     ]
    },
    {
     "data": {
      "text/plain": [
       "199964"
      ]
     },
     "execution_count": 64,
     "metadata": {},
     "output_type": "execute_result"
    }
   ],
   "source": [
    "data.count()"
   ]
  },
  {
   "cell_type": "code",
   "execution_count": 65,
   "metadata": {},
   "outputs": [],
   "source": [
    "data = data.dropna()"
   ]
  },
  {
   "cell_type": "code",
   "execution_count": 66,
   "metadata": {},
   "outputs": [
    {
     "name": "stderr",
     "output_type": "stream",
     "text": [
      "[Stage 54:=============================>                            (1 + 1) / 2]\r"
     ]
    },
    {
     "name": "stdout",
     "output_type": "stream",
     "text": [
      "+-------+------------------+------------------+------------------+------------------+------------------+------------------+\n",
      "|summary|       fare_amount|  pickup_longitude|   pickup_latitude| dropoff_longitude|  dropoff_latitude|   passenger_count|\n",
      "+-------+------------------+------------------+------------------+------------------+------------------+------------------+\n",
      "|  count|            199964|            199964|            199964|            199964|            199964|            199964|\n",
      "|   mean|11.362559860774995|-72.50188935852033| 39.91803065904743|-72.51264854851401|39.922574101567264|  1.68449320877758|\n",
      "| stddev| 9.897192676184629| 10.44917892725174| 6.130102970740913|10.408913309302594|6.1160513816519675|1.3859793491891663|\n",
      "|    min|              0.01|-89.93333299999999|-74.01551500000001|  -75.458978633981|         -74.01575|                 0|\n",
      "|    max|             499.0|         40.808425|          48.01876|         40.831932|45.031597999999995|               208|\n",
      "+-------+------------------+------------------+------------------+------------------+------------------+------------------+\n",
      "\n"
     ]
    },
    {
     "name": "stderr",
     "output_type": "stream",
     "text": [
      "                                                                                \r"
     ]
    }
   ],
   "source": [
    "data.describe().show()"
   ]
  },
  {
   "cell_type": "code",
   "execution_count": 67,
   "metadata": {},
   "outputs": [],
   "source": [
    "import pyspark.sql.functions as F"
   ]
  },
  {
   "cell_type": "code",
   "execution_count": 68,
   "metadata": {},
   "outputs": [],
   "source": [
    "import pyspark.sql.functions as F\n",
    "from pyspark.sql.types import FloatType\n",
    "\n",
    "@F.udf(returnType=FloatType())\n",
    "def geodist(plat,plong,dlat,dlong):\n",
    "    loc1=(plat,plong)\n",
    "    loc2=(dlat,dlong)\n",
    "    return hs.haversine(loc1,loc2)"
   ]
  },
  {
   "cell_type": "code",
   "execution_count": 69,
   "metadata": {},
   "outputs": [],
   "source": [
    "data = data.withColumn('Distance',geodist(data['pickup_latitude'], data['pickup_longitude'], data['dropoff_latitude'], data['dropoff_longitude']))"
   ]
  },
  {
   "cell_type": "code",
   "execution_count": 70,
   "metadata": {},
   "outputs": [
    {
     "name": "stdout",
     "output_type": "stream",
     "text": [
      "+-------------------+-----------+-------------------+------------------+------------------+------------------+------------------+---------------+---------+\n",
      "|                key|fare_amount|    pickup_datetime|  pickup_longitude|   pickup_latitude| dropoff_longitude|  dropoff_latitude|passenger_count| Distance|\n",
      "+-------------------+-----------+-------------------+------------------+------------------+------------------+------------------+---------------+---------+\n",
      "|2015-05-07 19:52:06|        7.5|2015-05-07 19:52:06|-73.99981689453125| 40.73835372924805|   -73.99951171875| 40.72321701049805|              1| 1.683325|\n",
      "|2009-07-17 20:04:56|        7.7|2009-07-17 20:04:56|        -73.994355|         40.728225|         -73.99471|         40.750325|              1|2.4575932|\n",
      "|2009-08-24 21:45:00|       12.9|2009-08-24 21:45:00|        -74.005043|          40.74077|        -73.962565|         40.772647|              1| 5.036384|\n",
      "|2009-06-26 08:22:21|        5.3|2009-06-26 08:22:21|        -73.976124|         40.790844|        -73.965316|         40.803349|              3|1.6616857|\n",
      "|2014-08-28 17:47:00|       16.0|2014-08-28 17:47:00|        -73.925023|         40.744085|-73.97308199999999|         40.761247|              5| 4.475456|\n",
      "|2011-02-12 02:27:09|        4.9|2011-02-12 02:27:09|-73.96901899999999|          40.75591|-73.96901899999999|          40.75591|              1|      0.0|\n",
      "|2014-10-12 07:04:00|       24.5|2014-10-12 07:04:00|-73.96144699999999|40.693965000000006|        -73.871195|         40.774297|              5|11.731031|\n",
      "|2012-12-11 13:52:00|        2.5|2012-12-11 13:52:00|               0.0|               0.0|               0.0|               0.0|              1|      0.0|\n",
      "|2012-02-17 09:32:00|        9.7|2012-02-17 09:32:00|        -73.975187|         40.745767|         -74.00272|40.743536999999996|              1|2.3327143|\n",
      "|2012-03-29 19:06:00|       12.5|2012-03-29 19:06:00|        -74.001065|         40.741787|         -73.96304|         40.775012|              1| 4.889424|\n",
      "|2015-05-22 17:32:27|        6.5|2015-05-22 17:32:27| -73.9743881225586| 40.74695205688477|-73.98858642578125|40.729804992675774|              1|2.2508607|\n",
      "|2011-05-23 22:15:00|        8.5|2011-05-23 22:15:00|               0.0|               0.0|               0.0|               0.0|              1|      0.0|\n",
      "|2011-05-17 14:03:00|        3.3|2011-05-17 14:03:00|        -73.966378|          40.80444|         -73.96589|         40.807133|              5|0.3022521|\n",
      "|2011-06-25 11:19:00|       10.9|2011-06-25 11:19:00|        -73.953352|         40.767382|         -73.97251|         40.796137|              1|3.5812557|\n",
      "|2010-04-06 22:20:27|        6.9|2010-04-06 22:20:27|-73.97336999999999|         40.755193|-73.97826500000001|         40.766375|              1|1.3099517|\n",
      "|2012-02-21 09:33:00|        9.7|2012-02-21 09:33:00|        -73.990718|          40.75192|-73.97305300000001|          40.74423|              2|1.7162797|\n",
      "|2011-09-01 09:21:40|        4.9|2011-09-01 09:21:40|        -73.988908|         40.756982|        -73.981246|          40.76005|              1|0.7299666|\n",
      "|2011-03-19 23:58:27|       10.5|2011-03-19 23:58:27|-74.00566500000001|         40.741138|-73.97783000000001|         40.749338|              2|2.5159535|\n",
      "|2015-03-25 08:58:35|       12.0|2015-03-25 08:58:35|-73.96253204345702|40.767189025878906|-73.97445678710938| 40.75386047363281|              1|1.7903217|\n",
      "|2009-08-08 00:20:00|        4.9|2009-08-08 00:20:00|        -73.992075|         40.719633|        -73.985323|         40.727405|              1| 1.034705|\n",
      "+-------------------+-----------+-------------------+------------------+------------------+------------------+------------------+---------------+---------+\n",
      "only showing top 20 rows\n",
      "\n"
     ]
    }
   ],
   "source": [
    "data.show()"
   ]
  },
  {
   "cell_type": "code",
   "execution_count": 71,
   "metadata": {},
   "outputs": [],
   "source": [
    "from pyspark.ml.classification import LogisticRegression\n",
    "from pyspark.ml.regression import LinearRegression\n",
    "from pyspark.ml.evaluation import BinaryClassificationEvaluator\n",
    "from pyspark.ml.linalg import Vectors\n",
    "from pyspark.ml.feature import VectorAssembler"
   ]
  },
  {
   "cell_type": "code",
   "execution_count": 72,
   "metadata": {},
   "outputs": [
    {
     "data": {
      "text/plain": [
       "['key',\n",
       " 'fare_amount',\n",
       " 'pickup_datetime',\n",
       " 'pickup_longitude',\n",
       " 'pickup_latitude',\n",
       " 'dropoff_longitude',\n",
       " 'dropoff_latitude',\n",
       " 'passenger_count',\n",
       " 'Distance']"
      ]
     },
     "execution_count": 72,
     "metadata": {},
     "output_type": "execute_result"
    }
   ],
   "source": [
    "data.columns"
   ]
  },
  {
   "cell_type": "code",
   "execution_count": 73,
   "metadata": {},
   "outputs": [],
   "source": [
    "from pyspark.sql.functions import corr"
   ]
  },
  {
   "cell_type": "code",
   "execution_count": 74,
   "metadata": {},
   "outputs": [
    {
     "name": "stderr",
     "output_type": "stream",
     "text": [
      "[Stage 58:=============================>                            (1 + 1) / 2]\r"
     ]
    },
    {
     "name": "stdout",
     "output_type": "stream",
     "text": [
      "+-------+------------------+------------------+------------------+------------------+------------------+------------------+------------------+\n",
      "|summary|       fare_amount|  pickup_longitude|   pickup_latitude| dropoff_longitude|  dropoff_latitude|   passenger_count|          Distance|\n",
      "+-------+------------------+------------------+------------------+------------------+------------------+------------------+------------------+\n",
      "|  count|            199964|            199964|            199964|            199964|            199964|            199964|            199964|\n",
      "|   mean|11.362559860774995|-72.50188935852033| 39.91803065904743|-72.51264854851401|39.922574101567264|  1.68449320877758|20.458348396336564|\n",
      "| stddev| 9.897192676184629| 10.44917892725174| 6.130102970740913|10.408913309302594|6.1160513816519675|1.3859793491891663| 378.5777553840456|\n",
      "|    min|              0.01|-89.93333299999999|-74.01551500000001|  -75.458978633981|         -74.01575|                 0|               0.0|\n",
      "|    max|             499.0|         40.808425|          48.01876|         40.831932|45.031597999999995|               208|          8782.911|\n",
      "+-------+------------------+------------------+------------------+------------------+------------------+------------------+------------------+\n",
      "\n"
     ]
    },
    {
     "name": "stderr",
     "output_type": "stream",
     "text": [
      "                                                                                \r"
     ]
    }
   ],
   "source": [
    "data.describe().show()"
   ]
  },
  {
   "cell_type": "code",
   "execution_count": 75,
   "metadata": {},
   "outputs": [
    {
     "name": "stderr",
     "output_type": "stream",
     "text": [
      "[Stage 61:=============================>                            (1 + 1) / 2]\r"
     ]
    },
    {
     "name": "stdout",
     "output_type": "stream",
     "text": [
      "+---------------------------------------+\n",
      "|corr(pickup_latitude, pickup_longitude)|\n",
      "+---------------------------------------+\n",
      "|                    -0.9790483948285729|\n",
      "+---------------------------------------+\n",
      "\n"
     ]
    },
    {
     "name": "stderr",
     "output_type": "stream",
     "text": [
      "                                                                                \r"
     ]
    }
   ],
   "source": [
    "data.select(corr('pickup_latitude','pickup_longitude')).show()"
   ]
  },
  {
   "cell_type": "code",
   "execution_count": 76,
   "metadata": {},
   "outputs": [],
   "source": [
    "assembler = VectorAssembler(inputCols=['fare_amount','passenger_count','Distance'], outputCol='features')"
   ]
  },
  {
   "cell_type": "code",
   "execution_count": 77,
   "metadata": {},
   "outputs": [],
   "source": [
    "output = assembler.transform(data)"
   ]
  },
  {
   "cell_type": "code",
   "execution_count": 78,
   "metadata": {},
   "outputs": [
    {
     "name": "stdout",
     "output_type": "stream",
     "text": [
      "root\n",
      " |-- key: timestamp (nullable = true)\n",
      " |-- fare_amount: double (nullable = true)\n",
      " |-- pickup_datetime: timestamp (nullable = true)\n",
      " |-- pickup_longitude: double (nullable = true)\n",
      " |-- pickup_latitude: double (nullable = true)\n",
      " |-- dropoff_longitude: double (nullable = true)\n",
      " |-- dropoff_latitude: double (nullable = true)\n",
      " |-- passenger_count: integer (nullable = true)\n",
      " |-- Distance: float (nullable = true)\n",
      " |-- features: vector (nullable = true)\n",
      "\n"
     ]
    }
   ],
   "source": [
    "output.printSchema()"
   ]
  },
  {
   "cell_type": "code",
   "execution_count": 79,
   "metadata": {},
   "outputs": [],
   "source": [
    "final_data = output.select('features', 'fare_amount')"
   ]
  },
  {
   "cell_type": "code",
   "execution_count": 80,
   "metadata": {},
   "outputs": [],
   "source": [
    "train_data, test_data = final_data.randomSplit([0.8, 0.2])"
   ]
  },
  {
   "cell_type": "code",
   "execution_count": 81,
   "metadata": {},
   "outputs": [
    {
     "name": "stderr",
     "output_type": "stream",
     "text": [
      "[Stage 64:>                                                         (0 + 2) / 2]\r"
     ]
    },
    {
     "name": "stdout",
     "output_type": "stream",
     "text": [
      "+-------+------------------+\n",
      "|summary|       fare_amount|\n",
      "+-------+------------------+\n",
      "|  count|            160057|\n",
      "|   mean|11.366114696639096|\n",
      "| stddev| 9.922048156545006|\n",
      "|    min|              0.01|\n",
      "|    max|             499.0|\n",
      "+-------+------------------+\n",
      "\n"
     ]
    },
    {
     "name": "stderr",
     "output_type": "stream",
     "text": [
      "                                                                                \r"
     ]
    }
   ],
   "source": [
    "train_data.describe().show()"
   ]
  },
  {
   "cell_type": "code",
   "execution_count": 82,
   "metadata": {},
   "outputs": [],
   "source": [
    "lr = LinearRegression(labelCol='fare_amount')"
   ]
  },
  {
   "cell_type": "code",
   "execution_count": 84,
   "metadata": {},
   "outputs": [
    {
     "name": "stderr",
     "output_type": "stream",
     "text": [
      "23/08/08 14:53:32 WARN Instrumentation: [af9901e5] regParam is zero, which might cause numerical instability and overfitting.\n",
      "23/08/08 14:53:35 WARN InstanceBuilder: Failed to load implementation from:dev.ludovic.netlib.blas.JNIBLAS\n",
      "23/08/08 14:53:35 WARN InstanceBuilder: Failed to load implementation from:dev.ludovic.netlib.blas.VectorBLAS\n",
      "23/08/08 14:53:36 WARN InstanceBuilder: Failed to load implementation from:dev.ludovic.netlib.lapack.JNILAPACK\n",
      "                                                                                \r"
     ]
    }
   ],
   "source": [
    "lr_model = lr.fit(train_data)"
   ]
  },
  {
   "cell_type": "code",
   "execution_count": 85,
   "metadata": {},
   "outputs": [
    {
     "name": "stderr",
     "output_type": "stream",
     "text": [
      "                                                                                \r"
     ]
    }
   ],
   "source": [
    "test_results = lr_model.evaluate(test_data)"
   ]
  },
  {
   "cell_type": "code",
   "execution_count": 86,
   "metadata": {},
   "outputs": [
    {
     "name": "stderr",
     "output_type": "stream",
     "text": [
      "[Stage 70:>                                                         (0 + 1) / 1]\r"
     ]
    },
    {
     "name": "stdout",
     "output_type": "stream",
     "text": [
      "+--------------------+\n",
      "|           residuals|\n",
      "+--------------------+\n",
      "|4.440892098500626...|\n",
      "|4.440892098500626...|\n",
      "|4.440892098500626...|\n",
      "|4.440892098500626...|\n",
      "|4.440892098500626...|\n",
      "|4.440892098500626...|\n",
      "|4.440892098500626...|\n",
      "|4.440892098500626...|\n",
      "|4.440892098500626...|\n",
      "|4.440892098500626...|\n",
      "|4.440892098500626...|\n",
      "|4.440892098500626...|\n",
      "|4.440892098500626...|\n",
      "|4.440892098500626...|\n",
      "|4.440892098500626...|\n",
      "|4.440892098500626...|\n",
      "|4.440892098500626...|\n",
      "|4.440892098500626...|\n",
      "|4.440892098500626...|\n",
      "|4.440892098500626...|\n",
      "+--------------------+\n",
      "only showing top 20 rows\n",
      "\n"
     ]
    },
    {
     "name": "stderr",
     "output_type": "stream",
     "text": [
      "                                                                                \r"
     ]
    }
   ],
   "source": [
    "test_results.residuals.show()"
   ]
  },
  {
   "cell_type": "code",
   "execution_count": 87,
   "metadata": {},
   "outputs": [
    {
     "data": {
      "text/plain": [
       "4.106735603906434e-15"
      ]
     },
     "execution_count": 87,
     "metadata": {},
     "output_type": "execute_result"
    }
   ],
   "source": [
    "test_results.rootMeanSquaredError"
   ]
  },
  {
   "cell_type": "code",
   "execution_count": 88,
   "metadata": {},
   "outputs": [
    {
     "data": {
      "text/plain": [
       "1.0"
      ]
     },
     "execution_count": 88,
     "metadata": {},
     "output_type": "execute_result"
    }
   ],
   "source": [
    "test_results.r2"
   ]
  },
  {
   "cell_type": "code",
   "execution_count": 89,
   "metadata": {},
   "outputs": [
    {
     "name": "stderr",
     "output_type": "stream",
     "text": [
      "[Stage 71:>                                                         (0 + 1) / 1]\r"
     ]
    },
    {
     "name": "stdout",
     "output_type": "stream",
     "text": [
      "+--------------------+\n",
      "|            features|\n",
      "+--------------------+\n",
      "|       [2.5,1.0,0.0]|\n",
      "|       [2.5,1.0,0.0]|\n",
      "|       [2.5,1.0,0.0]|\n",
      "|       [2.5,1.0,0.0]|\n",
      "|       [2.5,1.0,0.0]|\n",
      "|       [2.5,1.0,0.0]|\n",
      "|       [2.5,1.0,0.0]|\n",
      "|       [2.5,1.0,0.0]|\n",
      "|       [2.5,1.0,0.0]|\n",
      "|       [2.5,1.0,0.0]|\n",
      "|       [2.5,1.0,0.0]|\n",
      "|       [2.5,1.0,0.0]|\n",
      "|       [2.5,1.0,0.0]|\n",
      "|       [2.5,1.0,0.0]|\n",
      "|[2.5,1.0,8.424406...|\n",
      "|[2.5,1.0,8.278871...|\n",
      "|[2.5,1.0,0.001484...|\n",
      "|[2.5,1.0,0.001919...|\n",
      "|[2.5,1.0,0.002644...|\n",
      "|[2.5,1.0,0.004486...|\n",
      "+--------------------+\n",
      "only showing top 20 rows\n",
      "\n"
     ]
    },
    {
     "name": "stderr",
     "output_type": "stream",
     "text": [
      "                                                                                \r"
     ]
    }
   ],
   "source": [
    "unlabeled_data = test_data.select('features')\n",
    "unlabeled_data.show()"
   ]
  },
  {
   "cell_type": "code",
   "execution_count": 91,
   "metadata": {},
   "outputs": [],
   "source": [
    "predictions = lr_model.transform(unlabeled_data)"
   ]
  },
  {
   "cell_type": "code",
   "execution_count": 92,
   "metadata": {},
   "outputs": [
    {
     "name": "stderr",
     "output_type": "stream",
     "text": [
      "[Stage 73:>                                                         (0 + 1) / 1]\r"
     ]
    },
    {
     "name": "stdout",
     "output_type": "stream",
     "text": [
      "+--------------------+------------------+\n",
      "|            features|        prediction|\n",
      "+--------------------+------------------+\n",
      "|       [2.5,1.0,0.0]|2.4999999999999956|\n",
      "|       [2.5,1.0,0.0]|2.4999999999999956|\n",
      "|       [2.5,1.0,0.0]|2.4999999999999956|\n",
      "|       [2.5,1.0,0.0]|2.4999999999999956|\n",
      "|       [2.5,1.0,0.0]|2.4999999999999956|\n",
      "|       [2.5,1.0,0.0]|2.4999999999999956|\n",
      "|       [2.5,1.0,0.0]|2.4999999999999956|\n",
      "|       [2.5,1.0,0.0]|2.4999999999999956|\n",
      "|       [2.5,1.0,0.0]|2.4999999999999956|\n",
      "|       [2.5,1.0,0.0]|2.4999999999999956|\n",
      "|       [2.5,1.0,0.0]|2.4999999999999956|\n",
      "|       [2.5,1.0,0.0]|2.4999999999999956|\n",
      "|       [2.5,1.0,0.0]|2.4999999999999956|\n",
      "|       [2.5,1.0,0.0]|2.4999999999999956|\n",
      "|[2.5,1.0,8.424406...|2.4999999999999956|\n",
      "|[2.5,1.0,8.278871...|2.4999999999999956|\n",
      "|[2.5,1.0,0.001484...|2.4999999999999956|\n",
      "|[2.5,1.0,0.001919...|2.4999999999999956|\n",
      "|[2.5,1.0,0.002644...|2.4999999999999956|\n",
      "|[2.5,1.0,0.004486...|2.4999999999999956|\n",
      "+--------------------+------------------+\n",
      "only showing top 20 rows\n",
      "\n"
     ]
    },
    {
     "name": "stderr",
     "output_type": "stream",
     "text": [
      "                                                                                \r"
     ]
    }
   ],
   "source": [
    "predictions.show()"
   ]
  },
  {
   "cell_type": "code",
   "execution_count": 93,
   "metadata": {},
   "outputs": [
    {
     "name": "stderr",
     "output_type": "stream",
     "text": [
      "[Stage 74:>                                                         (0 + 2) / 2]\r"
     ]
    },
    {
     "name": "stdout",
     "output_type": "stream",
     "text": [
      "+-------+-------------------+\n",
      "|summary|         prediction|\n",
      "+-------+-------------------+\n",
      "|  count|              39907|\n",
      "|   mean|  11.34830230285393|\n",
      "| stddev|  9.796980337471217|\n",
      "|    min|0.10999999999999475|\n",
      "|    max|  230.0000000000001|\n",
      "+-------+-------------------+\n",
      "\n"
     ]
    },
    {
     "name": "stderr",
     "output_type": "stream",
     "text": [
      "                                                                                \r"
     ]
    }
   ],
   "source": [
    "predictions.describe().show()"
   ]
  }
 ],
 "metadata": {
  "kernelspec": {
   "display_name": "Python 3",
   "language": "python",
   "name": "python3"
  },
  "language_info": {
   "codemirror_mode": {
    "name": "ipython",
    "version": 3
   },
   "file_extension": ".py",
   "mimetype": "text/x-python",
   "name": "python",
   "nbconvert_exporter": "python",
   "pygments_lexer": "ipython3",
   "version": "3.10.8"
  },
  "orig_nbformat": 4
 },
 "nbformat": 4,
 "nbformat_minor": 2
}
