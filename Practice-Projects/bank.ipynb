{
 "cells": [
  {
   "cell_type": "code",
   "execution_count": 31,
   "metadata": {},
   "outputs": [],
   "source": [
    "#connect with mysql\n",
    "import mysql.connector"
   ]
  },
  {
   "cell_type": "code",
   "execution_count": 32,
   "metadata": {},
   "outputs": [],
   "source": [
    "mydb = mysql.connector.connect(host=\"localhost\", user=\"admin\", password=\"admin\", database=\"maadetails\")"
   ]
  },
  {
   "cell_type": "code",
   "execution_count": 33,
   "metadata": {},
   "outputs": [],
   "source": [
    "mycursor = mydb.cursor()"
   ]
  },
  {
   "cell_type": "code",
   "execution_count": 34,
   "metadata": {},
   "outputs": [],
   "source": [
    "#read table\n",
    "rows = mycursor.execute(\"select * from p_bank\")"
   ]
  },
  {
   "cell_type": "code",
   "execution_count": 35,
   "metadata": {},
   "outputs": [],
   "source": [
    "#fetch all rows\n",
    "result = mycursor.fetchall()"
   ]
  },
  {
   "cell_type": "code",
   "execution_count": 36,
   "metadata": {},
   "outputs": [
    {
     "data": {
      "text/plain": [
       "('P0000001',\n",
       " '04-04-2018',\n",
       " 'POS/PRCR/809421664079/04-04-2018 21:10:35/EFT',\n",
       " '',\n",
       " '706',\n",
       " '',\n",
       " '47399.35')"
      ]
     },
     "execution_count": 36,
     "metadata": {},
     "output_type": "execute_result"
    }
   ],
   "source": [
    "result[0]"
   ]
  },
  {
   "cell_type": "code",
   "execution_count": 37,
   "metadata": {},
   "outputs": [],
   "source": [
    "def conv(date1):\n",
    "    date1=date1.split(\"-\")\n",
    "    return date1[2]+\"-\"+date1[1]+\"-\"+date1[0]"
   ]
  },
  {
   "cell_type": "code",
   "execution_count": 38,
   "metadata": {},
   "outputs": [
    {
     "data": {
      "text/plain": [
       "'2018-04-04'"
      ]
     },
     "execution_count": 38,
     "metadata": {},
     "output_type": "execute_result"
    }
   ],
   "source": [
    "conv(result[0][1])"
   ]
  },
  {
   "cell_type": "code",
   "execution_count": 39,
   "metadata": {},
   "outputs": [],
   "source": [
    "def convR(val):\n",
    "    if val=='':\n",
    "        return float(0.0)\n",
    "    else:\n",
    "        return float(val)"
   ]
  },
  {
   "cell_type": "code",
   "execution_count": 40,
   "metadata": {},
   "outputs": [
    {
     "name": "stdout",
     "output_type": "stream",
     "text": [
      "- INSERT INTO `banks` (`T_ID`, `T_Date`, `Particulars`, `Withdrawal`, `Deposit`, `Balance`) VALUES ('T0002178', '2023-07-14', 'BY CASH', 0.0, 37000.0, 40628.01)\n"
     ]
    }
   ],
   "source": [
    "\n",
    "print(\"-\",sql)"
   ]
  },
  {
   "cell_type": "code",
   "execution_count": 41,
   "metadata": {},
   "outputs": [],
   "source": [
    "for i in range(len(result)):\n",
    "    #insert data into table\n",
    "    sql = \"INSERT INTO `p_banks` (`P_ID`, `T_Date`, `Particulars`, `Withdrawal`, `Deposit`, `Balance`) VALUES ('{}', '{}', '{}', {}, {}, {})\".format(result[i][0],conv(result[i][1]),result[i][2],convR(result[i][4]),convR(result[i][5]),convR(result[i][6]))\n",
    "    mycursor.execute(sql)\n",
    "    mydb.commit()\n",
    "    "
   ]
  },
  {
   "cell_type": "code",
   "execution_count": 42,
   "metadata": {},
   "outputs": [],
   "source": [
    "mycursor.close()\n",
    "mydb.close()\n"
   ]
  }
 ],
 "metadata": {
  "kernelspec": {
   "display_name": "Python 3",
   "language": "python",
   "name": "python3"
  },
  "language_info": {
   "codemirror_mode": {
    "name": "ipython",
    "version": 3
   },
   "file_extension": ".py",
   "mimetype": "text/x-python",
   "name": "python",
   "nbconvert_exporter": "python",
   "pygments_lexer": "ipython3",
   "version": "3.9.1"
  },
  "orig_nbformat": 4
 },
 "nbformat": 4,
 "nbformat_minor": 2
}
