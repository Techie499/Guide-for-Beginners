{
 "cells": [
  {
   "cell_type": "code",
   "execution_count": 46,
   "metadata": {},
   "outputs": [],
   "source": [
    "#read a csv file\n",
    "\n",
    "import pandas as pd\n",
    "import numpy as np\n",
    "\n",
    "import os\n",
    "\n",
    "from pyspark.sql import SparkSession"
   ]
  },
  {
   "cell_type": "code",
   "execution_count": 47,
   "metadata": {},
   "outputs": [],
   "source": [
    "#read a csv file\n",
    "spark = SparkSession.builder.appName('Basics').getOrCreate()"
   ]
  },
  {
   "cell_type": "code",
   "execution_count": 48,
   "metadata": {},
   "outputs": [],
   "source": [
    "data = spark.read.csv('COTS dataset.csv', header=True, inferSchema=True)"
   ]
  },
  {
   "cell_type": "code",
   "execution_count": 49,
   "metadata": {},
   "outputs": [
    {
     "name": "stdout",
     "output_type": "stream",
     "text": [
      "+----------------+----+-----+----------------+------------+-----------+\n",
      "|City coffee shop|Year|Month|Product category|Sales Volume|Sales Value|\n",
      "+----------------+----+-----+----------------+------------+-----------+\n",
      "|     Southampton|2020|    1|          Coffee|          91|        364|\n",
      "|     Southampton|2020|    1|      Hot drinks|          46|         92|\n",
      "|     Southampton|2020|    1|     Cold drinks|          60|        150|\n",
      "|     Southampton|2020|    1|           Cakes|          23|        115|\n",
      "|     Southampton|2020|    1|      Sandwiches|          19|        114|\n",
      "|     Southampton|2020|    1|          Pastry|          58|        116|\n",
      "|     Southampton|2020|    2|          Coffee|          99|        396|\n",
      "|     Southampton|2020|    2|      Hot drinks|           0|          0|\n",
      "|     Southampton|2020|    2|     Cold drinks|          55|        138|\n",
      "|     Southampton|2020|    2|           Cakes|          27|        135|\n",
      "|     Southampton|2020|    2|      Sandwiches|          17|        102|\n",
      "|     Southampton|2020|    2|          Pastry|          65|        130|\n",
      "|     Southampton|2020|    3|          Coffee|          96|        384|\n",
      "|     Southampton|2020|    3|      Hot drinks|          51|        102|\n",
      "|     Southampton|2020|    3|     Cold drinks|          63|        158|\n",
      "|     Southampton|2020|    3|           Cakes|          26|        130|\n",
      "|     Southampton|2020|    3|      Sandwiches|          22|        132|\n",
      "|     Southampton|2020|    3|          Pastry|          57|        114|\n",
      "|     Southampton|2020|    4|          Coffee|         145|        580|\n",
      "|     Southampton|2020|    4|      Hot drinks|          62|        124|\n",
      "+----------------+----+-----+----------------+------------+-----------+\n",
      "only showing top 20 rows\n",
      "\n"
     ]
    }
   ],
   "source": [
    "data.show()"
   ]
  },
  {
   "cell_type": "code",
   "execution_count": 50,
   "metadata": {},
   "outputs": [
    {
     "name": "stdout",
     "output_type": "stream",
     "text": [
      "root\n",
      " |-- City coffee shop: string (nullable = true)\n",
      " |-- Year: integer (nullable = true)\n",
      " |-- Month: integer (nullable = true)\n",
      " |-- Product category: string (nullable = true)\n",
      " |-- Sales Volume: integer (nullable = true)\n",
      " |-- Sales Value: integer (nullable = true)\n",
      "\n"
     ]
    }
   ],
   "source": [
    "data.printSchema()"
   ]
  },
  {
   "cell_type": "code",
   "execution_count": 51,
   "metadata": {},
   "outputs": [],
   "source": [
    "from pyspark.sql.functions import col, udf\n",
    "from pyspark.sql.types import IntegerType"
   ]
  },
  {
   "cell_type": "code",
   "execution_count": 52,
   "metadata": {},
   "outputs": [],
   "source": [
    "data = data.withColumn('Sales Value',col('Sales Value').cast('float'))"
   ]
  },
  {
   "cell_type": "code",
   "execution_count": 53,
   "metadata": {},
   "outputs": [],
   "source": [
    "data = data.withColumn('Sales Volume',col('Sales Volume').cast('int'))"
   ]
  },
  {
   "cell_type": "code",
   "execution_count": 54,
   "metadata": {},
   "outputs": [
    {
     "name": "stdout",
     "output_type": "stream",
     "text": [
      "+----------------+----+-----+----------------+------------+-----------+\n",
      "|City coffee shop|Year|Month|Product category|Sales Volume|Sales Value|\n",
      "+----------------+----+-----+----------------+------------+-----------+\n",
      "|     Southampton|2020|    1|          Coffee|          91|      364.0|\n",
      "|     Southampton|2020|    1|      Hot drinks|          46|       92.0|\n",
      "|     Southampton|2020|    1|     Cold drinks|          60|      150.0|\n",
      "|     Southampton|2020|    1|           Cakes|          23|      115.0|\n",
      "|     Southampton|2020|    1|      Sandwiches|          19|      114.0|\n",
      "|     Southampton|2020|    1|          Pastry|          58|      116.0|\n",
      "|     Southampton|2020|    2|          Coffee|          99|      396.0|\n",
      "|     Southampton|2020|    2|      Hot drinks|           0|        0.0|\n",
      "|     Southampton|2020|    2|     Cold drinks|          55|      138.0|\n",
      "|     Southampton|2020|    2|           Cakes|          27|      135.0|\n",
      "|     Southampton|2020|    2|      Sandwiches|          17|      102.0|\n",
      "|     Southampton|2020|    2|          Pastry|          65|      130.0|\n",
      "|     Southampton|2020|    3|          Coffee|          96|      384.0|\n",
      "|     Southampton|2020|    3|      Hot drinks|          51|      102.0|\n",
      "|     Southampton|2020|    3|     Cold drinks|          63|      158.0|\n",
      "|     Southampton|2020|    3|           Cakes|          26|      130.0|\n",
      "|     Southampton|2020|    3|      Sandwiches|          22|      132.0|\n",
      "|     Southampton|2020|    3|          Pastry|          57|      114.0|\n",
      "|     Southampton|2020|    4|          Coffee|         145|      580.0|\n",
      "|     Southampton|2020|    4|      Hot drinks|          62|      124.0|\n",
      "+----------------+----+-----+----------------+------------+-----------+\n",
      "only showing top 20 rows\n",
      "\n"
     ]
    }
   ],
   "source": [
    "data.show()"
   ]
  },
  {
   "cell_type": "code",
   "execution_count": 55,
   "metadata": {},
   "outputs": [
    {
     "ename": "AnalysisException",
     "evalue": "[UNRESOLVED_COLUMN.WITH_SUGGESTION] A column or function parameter with name `Sales` cannot be resolved. Did you mean one of the following? [`City coffee shop`, `Year`, `Month`, `Product category`, `Sales Volume`, `Sales Value`].",
     "output_type": "error",
     "traceback": [
      "\u001b[1;31m---------------------------------------------------------------------------\u001b[0m",
      "\u001b[1;31mAnalysisException\u001b[0m                         Traceback (most recent call last)",
      "Cell \u001b[1;32mIn[55], line 1\u001b[0m\n\u001b[1;32m----> 1\u001b[0m sales_volume_by_month \u001b[39m=\u001b[39m data\u001b[39m.\u001b[39;49mgroupBy([\u001b[39m'\u001b[39;49m\u001b[39mYear\u001b[39;49m\u001b[39m'\u001b[39;49m, \u001b[39m'\u001b[39;49m\u001b[39mMonth\u001b[39;49m\u001b[39m'\u001b[39;49m])\u001b[39m.\u001b[39;49magg({\u001b[39m'\u001b[39;49m\u001b[39mSales\u001b[39;49m\u001b[39m'\u001b[39;49m: \u001b[39m'\u001b[39;49m\u001b[39msum\u001b[39;49m\u001b[39m'\u001b[39;49m})\u001b[39m.\u001b[39morderBy([\u001b[39m'\u001b[39m\u001b[39mYear\u001b[39m\u001b[39m'\u001b[39m, \u001b[39m'\u001b[39m\u001b[39mMonth\u001b[39m\u001b[39m'\u001b[39m])\n",
      "File \u001b[1;32mC:\\Program Files\\Spark\\spark-3.4.1\\python\\pyspark\\sql\\group.py:170\u001b[0m, in \u001b[0;36mGroupedData.agg\u001b[1;34m(self, *exprs)\u001b[0m\n\u001b[0;32m    168\u001b[0m \u001b[39massert\u001b[39;00m exprs, \u001b[39m\"\u001b[39m\u001b[39mexprs should not be empty\u001b[39m\u001b[39m\"\u001b[39m\n\u001b[0;32m    169\u001b[0m \u001b[39mif\u001b[39;00m \u001b[39mlen\u001b[39m(exprs) \u001b[39m==\u001b[39m \u001b[39m1\u001b[39m \u001b[39mand\u001b[39;00m \u001b[39misinstance\u001b[39m(exprs[\u001b[39m0\u001b[39m], \u001b[39mdict\u001b[39m):\n\u001b[1;32m--> 170\u001b[0m     jdf \u001b[39m=\u001b[39m \u001b[39mself\u001b[39;49m\u001b[39m.\u001b[39;49m_jgd\u001b[39m.\u001b[39;49magg(exprs[\u001b[39m0\u001b[39;49m])\n\u001b[0;32m    171\u001b[0m \u001b[39melse\u001b[39;00m:\n\u001b[0;32m    172\u001b[0m     \u001b[39m# Columns\u001b[39;00m\n\u001b[0;32m    173\u001b[0m     \u001b[39massert\u001b[39;00m \u001b[39mall\u001b[39m(\u001b[39misinstance\u001b[39m(c, Column) \u001b[39mfor\u001b[39;00m c \u001b[39min\u001b[39;00m exprs), \u001b[39m\"\u001b[39m\u001b[39mall exprs should be Column\u001b[39m\u001b[39m\"\u001b[39m\n",
      "File \u001b[1;32mC:\\Program Files\\Spark\\spark-3.4.1\\python\\lib\\py4j-0.10.9.7-src.zip\\py4j\\java_gateway.py:1322\u001b[0m, in \u001b[0;36mJavaMember.__call__\u001b[1;34m(self, *args)\u001b[0m\n\u001b[0;32m   1316\u001b[0m command \u001b[39m=\u001b[39m proto\u001b[39m.\u001b[39mCALL_COMMAND_NAME \u001b[39m+\u001b[39m\\\n\u001b[0;32m   1317\u001b[0m     \u001b[39mself\u001b[39m\u001b[39m.\u001b[39mcommand_header \u001b[39m+\u001b[39m\\\n\u001b[0;32m   1318\u001b[0m     args_command \u001b[39m+\u001b[39m\\\n\u001b[0;32m   1319\u001b[0m     proto\u001b[39m.\u001b[39mEND_COMMAND_PART\n\u001b[0;32m   1321\u001b[0m answer \u001b[39m=\u001b[39m \u001b[39mself\u001b[39m\u001b[39m.\u001b[39mgateway_client\u001b[39m.\u001b[39msend_command(command)\n\u001b[1;32m-> 1322\u001b[0m return_value \u001b[39m=\u001b[39m get_return_value(\n\u001b[0;32m   1323\u001b[0m     answer, \u001b[39mself\u001b[39;49m\u001b[39m.\u001b[39;49mgateway_client, \u001b[39mself\u001b[39;49m\u001b[39m.\u001b[39;49mtarget_id, \u001b[39mself\u001b[39;49m\u001b[39m.\u001b[39;49mname)\n\u001b[0;32m   1325\u001b[0m \u001b[39mfor\u001b[39;00m temp_arg \u001b[39min\u001b[39;00m temp_args:\n\u001b[0;32m   1326\u001b[0m     \u001b[39mif\u001b[39;00m \u001b[39mhasattr\u001b[39m(temp_arg, \u001b[39m\"\u001b[39m\u001b[39m_detach\u001b[39m\u001b[39m\"\u001b[39m):\n",
      "File \u001b[1;32mC:\\Program Files\\Spark\\spark-3.4.1\\python\\pyspark\\errors\\exceptions\\captured.py:175\u001b[0m, in \u001b[0;36mcapture_sql_exception.<locals>.deco\u001b[1;34m(*a, **kw)\u001b[0m\n\u001b[0;32m    171\u001b[0m converted \u001b[39m=\u001b[39m convert_exception(e\u001b[39m.\u001b[39mjava_exception)\n\u001b[0;32m    172\u001b[0m \u001b[39mif\u001b[39;00m \u001b[39mnot\u001b[39;00m \u001b[39misinstance\u001b[39m(converted, UnknownException):\n\u001b[0;32m    173\u001b[0m     \u001b[39m# Hide where the exception came from that shows a non-Pythonic\u001b[39;00m\n\u001b[0;32m    174\u001b[0m     \u001b[39m# JVM exception message.\u001b[39;00m\n\u001b[1;32m--> 175\u001b[0m     \u001b[39mraise\u001b[39;00m converted \u001b[39mfrom\u001b[39;00m \u001b[39mNone\u001b[39m\n\u001b[0;32m    176\u001b[0m \u001b[39melse\u001b[39;00m:\n\u001b[0;32m    177\u001b[0m     \u001b[39mraise\u001b[39;00m\n",
      "\u001b[1;31mAnalysisException\u001b[0m: [UNRESOLVED_COLUMN.WITH_SUGGESTION] A column or function parameter with name `Sales` cannot be resolved. Did you mean one of the following? [`City coffee shop`, `Year`, `Month`, `Product category`, `Sales Volume`, `Sales Value`]."
     ]
    }
   ],
   "source": [
    "sales_volume_by_month = data.groupBy(['Year', 'Month']).agg({'Sales': 'sum'}).orderBy(['Year', 'Month'])"
   ]
  },
  {
   "cell_type": "code",
   "execution_count": 56,
   "metadata": {},
   "outputs": [
    {
     "ename": "AttributeError",
     "evalue": "'GroupedData' object has no attribute 'show'",
     "output_type": "error",
     "traceback": [
      "\u001b[1;31m---------------------------------------------------------------------------\u001b[0m",
      "\u001b[1;31mAttributeError\u001b[0m                            Traceback (most recent call last)",
      "Cell \u001b[1;32mIn[56], line 1\u001b[0m\n\u001b[1;32m----> 1\u001b[0m sales_volume_by_month\u001b[39m.\u001b[39;49mshow()\n",
      "\u001b[1;31mAttributeError\u001b[0m: 'GroupedData' object has no attribute 'show'"
     ]
    }
   ],
   "source": [
    "sales_volume_by_month.show()"
   ]
  },
  {
   "cell_type": "code",
   "execution_count": null,
   "metadata": {},
   "outputs": [],
   "source": [
    "#display Sales volume and value by month, by year and across the 3 years period\n",
    "\n",
    "# import libraries\n",
    "import pandas as pd\n",
    "import numpy as np\n",
    "import matplotlib.pyplot as plt\n",
    "import seaborn as sns\n",
    "\n",
    "# import data\n",
    "df = pd.read_csv('data.csv')\n",
    "\n",
    "# convert date column to datetime\n",
    "df['Date'] = pd.to_datetime(df['Date'])\n",
    "\n",
    "# create new columns for year and month\n",
    "df['Year'] = df['Date'].dt.year\n",
    "df['Month'] = df['Date'].dt.month\n",
    "\n",
    "# create new column for sales value\n",
    "df['Sales Value'] = df['Sales Volume'] * df['Price']\n",
    "\n",
    "# create new column for sales value\n",
    "df['Sales Value'] = df['Sales Volume'] * df['Price']\n",
    "\n",
    "# create new dataframe for sales volume by month\n",
    "sales_volume_by_month = df.groupby(['Year', 'Month'])['Sales Volume'].sum().reset_index()\n",
    "\n",
    "# create new dataframe for sales value by month\n",
    "sales_value_by_month = df.groupby(['Year', 'Month'])['Sales Value'].sum().reset_index()\n"
   ]
  }
 ],
 "metadata": {
  "kernelspec": {
   "display_name": "Python 3",
   "language": "python",
   "name": "python3"
  },
  "language_info": {
   "codemirror_mode": {
    "name": "ipython",
    "version": 3
   },
   "file_extension": ".py",
   "mimetype": "text/x-python",
   "name": "python",
   "nbconvert_exporter": "python",
   "pygments_lexer": "ipython3",
   "version": "3.9.1"
  },
  "orig_nbformat": 4
 },
 "nbformat": 4,
 "nbformat_minor": 2
}
