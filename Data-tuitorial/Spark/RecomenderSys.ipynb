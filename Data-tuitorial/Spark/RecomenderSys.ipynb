{
 "cells": [
  {
   "cell_type": "code",
   "execution_count": 1,
   "metadata": {},
   "outputs": [],
   "source": [
    "from pyspark.sql import SparkSession"
   ]
  },
  {
   "cell_type": "code",
   "execution_count": 2,
   "metadata": {},
   "outputs": [],
   "source": [
    "spark=SparkSession.builder.appName('rec').getOrCreate()"
   ]
  },
  {
   "cell_type": "code",
   "execution_count": 3,
   "metadata": {},
   "outputs": [],
   "source": [
    "from pyspark.ml.recommendation import ALS"
   ]
  },
  {
   "cell_type": "code",
   "execution_count": 4,
   "metadata": {},
   "outputs": [],
   "source": [
    "from pyspark.ml.evaluation import RegressionEvaluator"
   ]
  },
  {
   "cell_type": "code",
   "execution_count": 5,
   "metadata": {},
   "outputs": [],
   "source": [
    "data = spark.read.csv('Dataset/movielens_ratings.csv',inferSchema=True,header=True)"
   ]
  },
  {
   "cell_type": "code",
   "execution_count": 6,
   "metadata": {},
   "outputs": [
    {
     "name": "stdout",
     "output_type": "stream",
     "text": [
      "+-------+------+------+\n",
      "|movieId|rating|userId|\n",
      "+-------+------+------+\n",
      "|      2|   3.0|     0|\n",
      "|      3|   1.0|     0|\n",
      "|      5|   2.0|     0|\n",
      "|      9|   4.0|     0|\n",
      "|     11|   1.0|     0|\n",
      "|     12|   2.0|     0|\n",
      "|     15|   1.0|     0|\n",
      "|     17|   1.0|     0|\n",
      "|     19|   1.0|     0|\n",
      "|     21|   1.0|     0|\n",
      "|     23|   1.0|     0|\n",
      "|     26|   3.0|     0|\n",
      "|     27|   1.0|     0|\n",
      "|     28|   1.0|     0|\n",
      "|     29|   1.0|     0|\n",
      "|     30|   1.0|     0|\n",
      "|     31|   1.0|     0|\n",
      "|     34|   1.0|     0|\n",
      "|     37|   1.0|     0|\n",
      "|     41|   2.0|     0|\n",
      "+-------+------+------+\n",
      "only showing top 20 rows\n",
      "\n"
     ]
    }
   ],
   "source": [
    "data.show()"
   ]
  },
  {
   "cell_type": "code",
   "execution_count": 7,
   "metadata": {},
   "outputs": [
    {
     "name": "stdout",
     "output_type": "stream",
     "text": [
      "+-------+------------------+------------------+------------------+\n",
      "|summary|           movieId|            rating|            userId|\n",
      "+-------+------------------+------------------+------------------+\n",
      "|  count|              1501|              1501|              1501|\n",
      "|   mean| 49.40572951365756|1.7741505662891406|14.383744170552964|\n",
      "| stddev|28.937034065088994| 1.187276166124803| 8.591040424293272|\n",
      "|    min|                 0|               1.0|                 0|\n",
      "|    max|                99|               5.0|                29|\n",
      "+-------+------------------+------------------+------------------+\n",
      "\n"
     ]
    }
   ],
   "source": [
    "data.describe().show()"
   ]
  },
  {
   "cell_type": "code",
   "execution_count": 8,
   "metadata": {},
   "outputs": [],
   "source": [
    "training,test=data.randomSplit([0.8,0.2])"
   ]
  },
  {
   "cell_type": "code",
   "execution_count": 9,
   "metadata": {},
   "outputs": [],
   "source": [
    "als=ALS(maxIter=5,regParam=0.01,userCol='userId',itemCol='movieId',ratingCol='rating')"
   ]
  },
  {
   "cell_type": "code",
   "execution_count": 10,
   "metadata": {},
   "outputs": [],
   "source": [
    "model=als.fit(training)"
   ]
  },
  {
   "cell_type": "code",
   "execution_count": 11,
   "metadata": {},
   "outputs": [],
   "source": [
    "predictions=model.transform(test)"
   ]
  },
  {
   "cell_type": "code",
   "execution_count": 12,
   "metadata": {},
   "outputs": [
    {
     "name": "stdout",
     "output_type": "stream",
     "text": [
      "+-------+------+------+-----------+\n",
      "|movieId|rating|userId| prediction|\n",
      "+-------+------+------+-----------+\n",
      "|      1|   1.0|    26| -1.0149581|\n",
      "|      1|   1.0|     6|  1.7427313|\n",
      "|      1|   1.0|     7|  1.8511543|\n",
      "|      3|   1.0|    29|  1.6952223|\n",
      "|      3|   3.0|    14| -1.2835838|\n",
      "|      3|   1.0|     0| 0.62254626|\n",
      "|      5|   2.0|    15| -1.2308211|\n",
      "|      5|   1.0|     8| -3.5169144|\n",
      "|      5|   1.0|    29| 0.20842385|\n",
      "|      5|   2.0|     0|  1.5365778|\n",
      "|      4|   2.0|    13|  1.4460329|\n",
      "|      4|   1.0|     9|  0.9679872|\n",
      "|      4|   2.0|     8| -1.4307852|\n",
      "|      4|   3.0|    10|-0.83137715|\n",
      "|      4|   3.0|     2| -2.7730122|\n",
      "|      4|   3.0|    18| 0.44820815|\n",
      "|      2|   1.0|    26| -2.2076368|\n",
      "|      2|   1.0|    23| -1.9150021|\n",
      "|      0|   1.0|    27|  1.2226675|\n",
      "|      0|   1.0|     6|  2.9109325|\n",
      "+-------+------+------+-----------+\n",
      "only showing top 20 rows\n",
      "\n"
     ]
    }
   ],
   "source": [
    "predictions.show()"
   ]
  },
  {
   "cell_type": "code",
   "execution_count": 13,
   "metadata": {},
   "outputs": [],
   "source": [
    "evaluator=RegressionEvaluator(metricName='rmse',labelCol='rating',predictionCol='prediction')"
   ]
  },
  {
   "cell_type": "code",
   "execution_count": 14,
   "metadata": {},
   "outputs": [],
   "source": [
    "rsme = evaluator.evaluate(predictions)"
   ]
  },
  {
   "cell_type": "code",
   "execution_count": 15,
   "metadata": {},
   "outputs": [
    {
     "name": "stdout",
     "output_type": "stream",
     "text": [
      "RMSE\n",
      "2.161248243281071\n"
     ]
    }
   ],
   "source": [
    "print('RMSE')\n",
    "print(rsme)"
   ]
  },
  {
   "cell_type": "code",
   "execution_count": 16,
   "metadata": {},
   "outputs": [],
   "source": [
    "single_user=test.filter(test['userId']==11).select(['movieId','userId'])"
   ]
  },
  {
   "cell_type": "code",
   "execution_count": 17,
   "metadata": {},
   "outputs": [
    {
     "name": "stdout",
     "output_type": "stream",
     "text": [
      "+-------+------+\n",
      "|movieId|userId|\n",
      "+-------+------+\n",
      "|      9|    11|\n",
      "|     11|    11|\n",
      "|     27|    11|\n",
      "|     32|    11|\n",
      "|     41|    11|\n",
      "|     45|    11|\n",
      "|     50|    11|\n",
      "|     51|    11|\n",
      "|     59|    11|\n",
      "|     76|    11|\n",
      "|     77|    11|\n",
      "|     97|    11|\n",
      "+-------+------+\n",
      "\n"
     ]
    }
   ],
   "source": [
    "single_user.show()"
   ]
  },
  {
   "cell_type": "code",
   "execution_count": 18,
   "metadata": {},
   "outputs": [],
   "source": [
    "recommendations = model.transform(single_user)"
   ]
  },
  {
   "cell_type": "code",
   "execution_count": 19,
   "metadata": {},
   "outputs": [
    {
     "name": "stdout",
     "output_type": "stream",
     "text": [
      "+-------+------+-----------+\n",
      "|movieId|userId| prediction|\n",
      "+-------+------+-----------+\n",
      "|     51|    11|  4.8463407|\n",
      "|     50|    11|  3.5812318|\n",
      "|      9|    11|  2.4282513|\n",
      "|     32|    11|  2.2940688|\n",
      "|     77|    11|  1.6288851|\n",
      "|     27|    11|  1.4459703|\n",
      "|     45|    11| 0.78196526|\n",
      "|     97|    11| 0.72796005|\n",
      "|     11|    11|  0.6378095|\n",
      "|     41|    11| -0.8763012|\n",
      "|     76|    11|-0.98145074|\n",
      "|     59|    11| -1.0051414|\n",
      "+-------+------+-----------+\n",
      "\n"
     ]
    }
   ],
   "source": [
    "recommendations.orderBy('prediction',ascending=False).show()"
   ]
  },
  {
   "cell_type": "code",
   "execution_count": null,
   "metadata": {},
   "outputs": [],
   "source": []
  }
 ],
 "metadata": {
  "kernelspec": {
   "display_name": "Python 3",
   "language": "python",
   "name": "python3"
  },
  "language_info": {
   "codemirror_mode": {
    "name": "ipython",
    "version": 3
   },
   "file_extension": ".py",
   "mimetype": "text/x-python",
   "name": "python",
   "nbconvert_exporter": "python",
   "pygments_lexer": "ipython3",
   "version": "3.9.1"
  },
  "orig_nbformat": 4
 },
 "nbformat": 4,
 "nbformat_minor": 2
}
