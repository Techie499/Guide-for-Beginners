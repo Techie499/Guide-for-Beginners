{
 "cells": [
  {
   "cell_type": "markdown",
   "metadata": {},
   "source": [
    "# General List"
   ]
  },
  {
   "cell_type": "code",
   "execution_count": 1,
   "metadata": {},
   "outputs": [],
   "source": [
    "class Node:\n",
    "    def __init__(self,data=None,link=None):\n",
    "        self.data=data\n",
    "        self.link=link\n",
    "    \n",
    "    def __str__(self):\n",
    "        return str(self.data)"
   ]
  },
  {
   "cell_type": "code",
   "execution_count": 23,
   "metadata": {},
   "outputs": [],
   "source": [
    "class GeneralList:\n",
    "    def __init__(self):\n",
    "        self.head=None\n",
    "        self.count=0\n",
    "    def insert(self,pos,data):\n",
    "        if pos<0 or pos>self.count:\n",
    "            raise Exception(f'Invalid Position:{pos}')\n",
    "        node=Node(data)\n",
    "        if pos==0:\n",
    "            node.link=self.head\n",
    "            self.head=node\n",
    "        else:\n",
    "            p=self.head\n",
    "            for i in range(pos-1):\n",
    "                p=p.link\n",
    "            node.link=p.link\n",
    "            p.link=node\n",
    "        self.count+=1\n",
    "    \n",
    "    def traverse(self):\n",
    "        p=self.head\n",
    "        while(p!=None):\n",
    "            print(p.data,end=' ')\n",
    "            p=p.link"
   ]
  },
  {
   "cell_type": "code",
   "execution_count": 24,
   "metadata": {},
   "outputs": [],
   "source": [
    "a=GeneralList()"
   ]
  },
  {
   "cell_type": "code",
   "execution_count": 25,
   "metadata": {},
   "outputs": [],
   "source": [
    "from random import randint"
   ]
  },
  {
   "cell_type": "code",
   "execution_count": 26,
   "metadata": {},
   "outputs": [
    {
     "name": "stdout",
     "output_type": "stream",
     "text": [
      "75 57 42 47 45 23 47 76 29 61 11 46 "
     ]
    }
   ],
   "source": [
    "for i in range(randint(10,20)):\n",
    "    a.insert(i,randint(10,100))\n",
    "a.traverse()"
   ]
  },
  {
   "cell_type": "code",
   "execution_count": 27,
   "metadata": {},
   "outputs": [
    {
     "name": "stdout",
     "output_type": "stream",
     "text": [
      "Enter position: 45\n",
      "Enter an integer: 96\n",
      "Invalid Position:45\n"
     ]
    }
   ],
   "source": [
    "try:\n",
    "    p=int(input(\"Enter position: \"))\n",
    "    data=int(input(\"Enter an integer: \"))\n",
    "    a.insert(p,data)\n",
    "    print(\"Inserted\")\n",
    "    a.traverse()\n",
    "except Exception as e:\n",
    "    print(e)"
   ]
  },
  {
   "cell_type": "code",
   "execution_count": 28,
   "metadata": {},
   "outputs": [
    {
     "ename": "TypeError",
     "evalue": "'GeneralList' object is not iterable",
     "output_type": "error",
     "traceback": [
      "\u001b[1;31m---------------------------------------------------------------------------\u001b[0m",
      "\u001b[1;31mTypeError\u001b[0m                                 Traceback (most recent call last)",
      "\u001b[1;32m<ipython-input-28-7015a0e1ecaf>\u001b[0m in \u001b[0;36m<module>\u001b[1;34m\u001b[0m\n\u001b[1;32m----> 1\u001b[1;33m \u001b[1;32mfor\u001b[0m \u001b[0mitem\u001b[0m \u001b[1;32min\u001b[0m \u001b[0ma\u001b[0m\u001b[1;33m:\u001b[0m\u001b[1;33m\u001b[0m\u001b[1;33m\u001b[0m\u001b[0m\n\u001b[0m\u001b[0;32m      2\u001b[0m     \u001b[0mprint\u001b[0m\u001b[1;33m(\u001b[0m\u001b[0mitem\u001b[0m\u001b[1;33m)\u001b[0m\u001b[1;33m\u001b[0m\u001b[1;33m\u001b[0m\u001b[0m\n",
      "\u001b[1;31mTypeError\u001b[0m: 'GeneralList' object is not iterable"
     ]
    }
   ],
   "source": [
    "for item in a:\n",
    "    print(item)"
   ]
  },
  {
   "cell_type": "code",
   "execution_count": 33,
   "metadata": {},
   "outputs": [],
   "source": [
    "class GeneralList:\n",
    "    def __init__(self):\n",
    "        self.head=None\n",
    "        self.count=0\n",
    "    def insert(self,pos,data):\n",
    "        if pos<0 or pos>self.count:\n",
    "            raise Exception(f'Invalid Position:{pos}')\n",
    "        node=Node(data)\n",
    "        if pos==0:\n",
    "            node.link=self.head\n",
    "            self.head=node\n",
    "        else:\n",
    "            p=self.head\n",
    "            for i in range(pos-1):\n",
    "                p=p.link\n",
    "            node.link=p.link\n",
    "            p.link=node\n",
    "        self.count+=1\n",
    "    \n",
    "    def traverse(self):\n",
    "        p=self.head\n",
    "        while(p!=None):\n",
    "            print(p.data,end=' ')\n",
    "            p=p.link\n",
    "            \n",
    "    def __iter__(self):\n",
    "        self.current=self.head\n",
    "        return self\n",
    "    \n",
    "    def __next__(self):\n",
    "        if self.current==None:\n",
    "            raise StopIteration\n",
    "        data=self.current.data\n",
    "        self.current=self.current.link\n",
    "        return data"
   ]
  },
  {
   "cell_type": "code",
   "execution_count": 34,
   "metadata": {},
   "outputs": [],
   "source": [
    "b=GeneralList()"
   ]
  },
  {
   "cell_type": "code",
   "execution_count": 35,
   "metadata": {},
   "outputs": [],
   "source": [
    "for i in range(randint(10,20)):\n",
    "    b.insert(i,randint(10,100))"
   ]
  },
  {
   "cell_type": "code",
   "execution_count": 36,
   "metadata": {},
   "outputs": [
    {
     "name": "stdout",
     "output_type": "stream",
     "text": [
      "74\n",
      "91\n",
      "91\n",
      "52\n",
      "72\n",
      "54\n",
      "11\n",
      "58\n",
      "78\n",
      "55\n",
      "19\n",
      "43\n",
      "22\n",
      "20\n",
      "86\n",
      "85\n",
      "70\n",
      "26\n",
      "36\n"
     ]
    }
   ],
   "source": [
    "for item in b:\n",
    "    print(item)"
   ]
  },
  {
   "cell_type": "code",
   "execution_count": null,
   "metadata": {},
   "outputs": [],
   "source": []
  }
 ],
 "metadata": {
  "kernelspec": {
   "display_name": "Python 3",
   "language": "python",
   "name": "python3"
  },
  "language_info": {
   "codemirror_mode": {
    "name": "ipython",
    "version": 3
   },
   "file_extension": ".py",
   "mimetype": "text/x-python",
   "name": "python",
   "nbconvert_exporter": "python",
   "pygments_lexer": "ipython3",
   "version": "3.7.1"
  }
 },
 "nbformat": 4,
 "nbformat_minor": 2
}
