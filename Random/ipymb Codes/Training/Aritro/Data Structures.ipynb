{
 "metadata": {
  "language_info": {
   "codemirror_mode": {
    "name": "ipython",
    "version": 3
   },
   "file_extension": ".py",
   "mimetype": "text/x-python",
   "name": "python",
   "nbconvert_exporter": "python",
   "pygments_lexer": "ipython3",
   "version": "3.7.2-candidate"
  },
  "orig_nbformat": 2,
  "kernelspec": {
   "name": "python3",
   "display_name": "Python 3.7.2 64-bit",
   "metadata": {
    "interpreter": {
     "hash": "83578efa56bdacf56e7177dd56e6599257fec880fd84a9294df1e203d665e85c"
    }
   }
  }
 },
 "nbformat": 4,
 "nbformat_minor": 2,
 "cells": [
  {
   "source": [
    "# Data Structures"
   ],
   "cell_type": "markdown",
   "metadata": {}
  },
  {
   "source": [
    "1) Data type\n",
    "\n",
    "2) Data structure\n",
    "\n",
    "3) ADT"
   ],
   "cell_type": "markdown",
   "metadata": {}
  },
  {
   "source": [
    "## Data type\n",
    "\n",
    "**Data type** is a collection of data. \n",
    "\n",
    "**Integer**: Need to be represented by ordered 'n' tuple.\n",
    "\n",
    "Compiler represents negetive number with the help of *_2's compliment_*\n",
    "\n",
    "**ADT:** Abstract Data type...\n",
    "\n",
    "**Coupling Effect:** Interface chnages with change in implementation.\n",
    "\n",
    "_**Loose coupling:**_"
   ],
   "cell_type": "markdown",
   "metadata": {}
  },
  {
   "source": [
    "**Q) Define stack as ADT.**\n",
    "\n",
    "Stack has 2 operation:\n",
    "\n",
    "1) Push: Inserts element at top\n",
    "2) Pop: Pushes out element from the top.\n",
    "\n",
    "Stack has 2 different implementation:\n",
    "\n",
    "1) Contiguous: Elements are sitting side by side.\n",
    "\n",
    "2) Linked list: Every item returns where the next **node** is...\n",
    "\n",
    "**Node** contains 2 data: data and the location of the next item..."
   ],
   "cell_type": "markdown",
   "metadata": {}
  },
  {
   "cell_type": "code",
   "execution_count": 1,
   "metadata": {},
   "outputs": [],
   "source": [
    "class Node:\n",
    "    def __init__(self, data = None, link = None):\n",
    "        self.data = data\n",
    "        self.link = link\n",
    "\n",
    "    def __str__(self):\n",
    "        return str(self.data)"
   ]
  },
  {
   "cell_type": "code",
   "execution_count": 2,
   "metadata": {},
   "outputs": [],
   "source": [
    "class Stack:\n",
    "    def __init__(self):\n",
    "        self.top = None\n",
    "\n",
    "    def push(self, data):\n",
    "        node = Node(data)\n",
    "        node.link = self.top\n",
    "        self.top = node\n",
    "\n",
    "    def pop(self):\n",
    "        if self.top == None:\n",
    "            print(\"Stack Underflow!\")\n",
    "            return \n",
    "        data = self.top.data\n",
    "        self.top = self.top.link\n",
    "        return data\n",
    "\n",
    "    def empty(self):\n",
    "        return self.top == None"
   ]
  },
  {
   "source": [
    "self.top --> pointing to the top\n",
    "\n",
    "node = Node(data) --> Created a new reference\n",
    "\n",
    "node.link = self.top --> Update the address of top pointer\n",
    "\n",
    "self.top = node --> new address for the top pointer as the top node changes..."
   ],
   "cell_type": "markdown",
   "metadata": {}
  },
  {
   "cell_type": "code",
   "execution_count": 3,
   "metadata": {},
   "outputs": [],
   "source": [
    "from random import randint"
   ]
  },
  {
   "cell_type": "code",
   "execution_count": 5,
   "metadata": {},
   "outputs": [],
   "source": [
    "n = randint(10, 20)"
   ]
  },
  {
   "cell_type": "code",
   "execution_count": 6,
   "metadata": {},
   "outputs": [],
   "source": [
    "s = Stack()\n",
    "\n",
    "for i in range(n):\n",
    "    s.push(randint(10, 100))"
   ]
  },
  {
   "cell_type": "code",
   "execution_count": 7,
   "metadata": {},
   "outputs": [
    {
     "output_type": "stream",
     "name": "stdout",
     "text": [
      "51\n86\n26\n45\n47\n23\n61\n59\n58\n23\n96\n84\n11\n12\n39\n28\n32\n52\n"
     ]
    }
   ],
   "source": [
    "while not s.empty():\n",
    "    print(s.pop())"
   ]
  },
  {
   "source": [
    "## Queue"
   ],
   "cell_type": "markdown",
   "metadata": {}
  },
  {
   "source": [
    "Queue has 2 ends: Front and Rear\n",
    "\n",
    "Item is inserted from **front** end\n",
    "\n",
    "Item is retrieved from **rear** end"
   ],
   "cell_type": "markdown",
   "metadata": {}
  },
  {
   "cell_type": "code",
   "execution_count": null,
   "metadata": {},
   "outputs": [],
   "source": [
    "class Node:\n",
    "    def __init__(self, data = None, link = None):\n",
    "        self.data = data\n",
    "        self.link = link\n",
    "\n",
    "    def __str__(self):\n",
    "        return str(self.data)"
   ]
  },
  {
   "cell_type": "code",
   "execution_count": null,
   "metadata": {},
   "outputs": [],
   "source": [
    "class Queue:\n",
    "    def __init__(self):\n",
    "        self.front = None\n",
    "        self.rear = None\n",
    "\n",
    "    def enqueue(self, data):\n",
    "        node = Node(data)\n",
    "        \n",
    "        if self.rear != None:\n",
    "            self.rear.link = node\n",
    "        else:\n",
    "            self.front = node\n",
    "\n",
    "        self.rear = node\n",
    "\n",
    "    def dequeue(self):\n",
    "        if self.front == None:\n",
    "            print('Queue underflow!')\n",
    "            return\n",
    "\n",
    "        data = self.front.data\n",
    "        self.front = self.front.link\n",
    "\n",
    "        if self.front == None:\n",
    "            self.rear = None\n",
    "\n",
    "        return data\n",
    "\n",
    "    def empty(self):\n",
    "        return self.front == None"
   ]
  },
  {
   "cell_type": "code",
   "execution_count": 16,
   "metadata": {},
   "outputs": [
    {
     "output_type": "stream",
     "name": "stdout",
     "text": [
      "12\n5\n7\n13\n6\n9\n15\n2\n1\n"
     ]
    }
   ],
   "source": [
    "a = [12, 5, 7, 13, 6, 9, 15, 2, 1]\n",
    "q = Queue()\n",
    "\n",
    "for item in a:\n",
    "    q.enqueue(item)\n",
    "\n",
    "while not q.empty():\n",
    "    print(q.dequeue())"
   ]
  },
  {
   "cell_type": "code",
   "execution_count": null,
   "metadata": {},
   "outputs": [],
   "source": []
  }
 ]
}