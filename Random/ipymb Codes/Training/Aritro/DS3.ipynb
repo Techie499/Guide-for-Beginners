{
 "metadata": {
  "language_info": {
   "codemirror_mode": {
    "name": "ipython",
    "version": 3
   },
   "file_extension": ".py",
   "mimetype": "text/x-python",
   "name": "python",
   "nbconvert_exporter": "python",
   "pygments_lexer": "ipython3",
   "version": "3.7.2-candidate"
  },
  "orig_nbformat": 2,
  "kernelspec": {
   "name": "python3",
   "display_name": "Python 3.7.2 64-bit",
   "metadata": {
    "interpreter": {
     "hash": "83578efa56bdacf56e7177dd56e6599257fec880fd84a9294df1e203d665e85c"
    }
   }
  }
 },
 "nbformat": 4,
 "nbformat_minor": 2,
 "cells": [
  {
   "source": [
    "## Reversing a List"
   ],
   "cell_type": "markdown",
   "metadata": {}
  },
  {
   "cell_type": "code",
   "execution_count": 13,
   "metadata": {},
   "outputs": [],
   "source": [
    "class Node:\n",
    "    def __init__(self, data = None, link = None):\n",
    "        self.data = data\n",
    "        self.link = None\n",
    "    \n",
    "    def __str__(self):\n",
    "        return str(self.data)"
   ]
  },
  {
   "cell_type": "code",
   "execution_count": 14,
   "metadata": {},
   "outputs": [],
   "source": [
    "class GeneralList:\n",
    "    def __init__(self):\n",
    "        self.head = None\n",
    "        self.count = 0\n",
    "\n",
    "    def insert(self, pos, data):\n",
    "        if pos < 0 or pos > self.count:\n",
    "            raise Exception(f'Invalid position {pos}')\n",
    "\n",
    "        node = Node(data)\n",
    "\n",
    "        if pos == 0:\n",
    "            node.link = self.head\n",
    "            self.head = node\n",
    "        else:\n",
    "            p = self.head\n",
    "\n",
    "            for i in range(pos - 1):\n",
    "                p = p.link\n",
    "            \n",
    "            node.link = p.link\n",
    "            p.link = node\n",
    "            \n",
    "        self.count += 1\n",
    "\n",
    "    def traverse(self):\n",
    "        p = self.head\n",
    "\n",
    "        while not p == None:\n",
    "            print(p.data, end = ' ')\n",
    "            p = p.link\n",
    "\n",
    "    \n",
    "    def __iter__(self):\n",
    "        self.current = self.head\n",
    "        return self\n",
    "\n",
    "    def __next__(self):\n",
    "        if self.current == None:\n",
    "            raise StopIteration\n",
    "        data = self.current.data\n",
    "        self.current = self.current.link\n",
    "        return data\n",
    "    \n",
    "    def reverse(self):\n",
    "        rev = None\n",
    "\n",
    "        while not self.head == None:\n",
    "            # detach\n",
    "            p = self.head\n",
    "            self.head = p.link\n",
    "\n",
    "            #attach\n",
    "            p.link = rev\n",
    "            rev = p\n",
    "\n",
    "        self.head = rev\n"
   ]
  },
  {
   "cell_type": "code",
   "execution_count": 15,
   "metadata": {},
   "outputs": [],
   "source": [
    "a = GeneralList()"
   ]
  },
  {
   "cell_type": "code",
   "execution_count": 16,
   "metadata": {},
   "outputs": [],
   "source": [
    "from random import randint"
   ]
  },
  {
   "cell_type": "code",
   "execution_count": 17,
   "metadata": {},
   "outputs": [
    {
     "output_type": "stream",
     "name": "stdout",
     "text": [
      "84 19 92 79 73 75 72 75 34 66 68 93 89 37 "
     ]
    }
   ],
   "source": [
    "for i in range(randint(10, 20)):\n",
    "    a.insert(i, randint(10, 100))\n",
    "\n",
    "a.traverse()"
   ]
  },
  {
   "cell_type": "code",
   "execution_count": 18,
   "metadata": {},
   "outputs": [
    {
     "output_type": "stream",
     "name": "stdout",
     "text": [
      "84\n19\n92\n79\n73\n75\n72\n75\n34\n66\n68\n93\n89\n37\n"
     ]
    }
   ],
   "source": [
    "for item in a:\n",
    "    print(item)"
   ]
  },
  {
   "cell_type": "code",
   "execution_count": 19,
   "metadata": {},
   "outputs": [],
   "source": [
    "a.reverse()"
   ]
  },
  {
   "cell_type": "code",
   "execution_count": 20,
   "metadata": {},
   "outputs": [
    {
     "output_type": "stream",
     "name": "stdout",
     "text": [
      "37\n37\n37\n37\n37\n37\n37\n37\n37\n37\n37\n37\n37\n37\n"
     ]
    }
   ],
   "source": [
    "for i in a:\n",
    "    print(item)"
   ]
  },
  {
   "cell_type": "code",
   "execution_count": 21,
   "metadata": {},
   "outputs": [
    {
     "output_type": "stream",
     "name": "stdout",
     "text": [
      "37 89 93 68 66 34 75 72 75 73 79 92 19 84 "
     ]
    }
   ],
   "source": [
    "a.traverse()"
   ]
  },
  {
   "source": [
    "### Write a remove function\n",
    "\n",
    "If position is valid... Remove item and return...\n",
    "\n",
    "If position invalid... Throw exception"
   ],
   "cell_type": "markdown",
   "metadata": {}
  },
  {
   "cell_type": "code",
   "execution_count": 22,
   "metadata": {},
   "outputs": [],
   "source": [
    "class GeneralList:\n",
    "    def __init__(self):\n",
    "        self.head = None\n",
    "        self.count = 0\n",
    "\n",
    "    def insert(self, pos, data):\n",
    "        if pos < 0 or pos > self.count:\n",
    "            raise Exception(f'Invalid position {pos}')\n",
    "\n",
    "        node = Node(data)\n",
    "\n",
    "        if pos == 0:\n",
    "            node.link = self.head\n",
    "            self.head = node\n",
    "        else:\n",
    "            p = self.head\n",
    "\n",
    "            for i in range(pos - 1):\n",
    "                p = p.link\n",
    "            \n",
    "            node.link = p.link\n",
    "            p.link = node\n",
    "            \n",
    "        self.count += 1\n",
    "\n",
    "    def traverse(self):\n",
    "        p = self.head\n",
    "\n",
    "        while not p == None:\n",
    "            print(p.data, end = ' ')\n",
    "            p = p.link\n",
    "\n",
    "    \n",
    "    def __iter__(self):\n",
    "        self.current = self.head\n",
    "        return self\n",
    "\n",
    "    def __next__(self):\n",
    "        if self.current == None:\n",
    "            raise StopIteration\n",
    "        data = self.current.data\n",
    "        self.current = self.current.link\n",
    "        return data\n",
    "    \n",
    "    def reverse(self):\n",
    "        rev = None\n",
    "\n",
    "        while not self.head == None:\n",
    "            # detach\n",
    "            p = self.head\n",
    "            self.head = p.link\n",
    "\n",
    "            #attach\n",
    "            p.link = rev\n",
    "            rev = p\n",
    "\n",
    "        self.head = rev\n",
    "\n",
    "    def remove(self, pos):\n",
    "        print(p.data, end = ' ')\n",
    "        p = p.link\n",
    "\n",
    "        if pos > self.count:\n",
    "            raise Exception(f'{pos} invalid position')\n",
    "        else:\n",
    "            self.head\n",
    "            for i in range(pos - 1):\n",
    "                p = p.link"
   ]
  },
  {
   "source": [
    "# Merge Sort"
   ],
   "cell_type": "markdown",
   "metadata": {}
  },
  {
   "cell_type": "code",
   "execution_count": 1,
   "metadata": {},
   "outputs": [],
   "source": [
    "def merge_sort(a, first, last):\n",
    "    if first < last:\n",
    "        mid = (first + last) // 2\n",
    "        merge_sort(a, first, mid)\n",
    "        merge_sort(a, mid+1, last)\n",
    "        merge(a, first, mid, last)"
   ]
  },
  {
   "cell_type": "code",
   "execution_count": 5,
   "metadata": {},
   "outputs": [],
   "source": [
    "def merge(a, first, mid, last):\n",
    "    l = a[first:mid+1]\n",
    "    r = a[mid+1:last+1]\n",
    "\n",
    "    l.append(float('inf'))\n",
    "    r.append(float('inf'))\n",
    "\n",
    "    i = j = 0\n",
    "\n",
    "    for k in range(first, last + 1):\n",
    "        if l[i] <= r[j]:\n",
    "            a[k] = l[i]\n",
    "            i += 1\n",
    "        else:\n",
    "            a[k] = r[j]\n",
    "            j += 1"
   ]
  },
  {
   "cell_type": "code",
   "execution_count": 6,
   "metadata": {},
   "outputs": [],
   "source": [
    "a = [12, 5, 7, 13, 6, 9, 15, 2, 1]"
   ]
  },
  {
   "cell_type": "code",
   "execution_count": 7,
   "metadata": {},
   "outputs": [],
   "source": [
    "merge_sort(a, 0, len(a) - 1)"
   ]
  },
  {
   "cell_type": "code",
   "execution_count": 8,
   "metadata": {},
   "outputs": [
    {
     "output_type": "execute_result",
     "data": {
      "text/plain": [
       "[1, 2, 5, 6, 7, 9, 12, 13, 15]"
      ]
     },
     "metadata": {},
     "execution_count": 8
    }
   ],
   "source": [
    "a"
   ]
  },
  {
   "cell_type": "code",
   "execution_count": null,
   "metadata": {},
   "outputs": [],
   "source": []
  }
 ]
}