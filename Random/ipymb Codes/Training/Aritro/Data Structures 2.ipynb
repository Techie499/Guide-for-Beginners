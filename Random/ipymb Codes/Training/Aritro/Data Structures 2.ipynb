{
 "metadata": {
  "language_info": {
   "codemirror_mode": {
    "name": "ipython",
    "version": 3
   },
   "file_extension": ".py",
   "mimetype": "text/x-python",
   "name": "python",
   "nbconvert_exporter": "python",
   "pygments_lexer": "ipython3",
   "version": "3.7.2-candidate"
  },
  "orig_nbformat": 2,
  "kernelspec": {
   "name": "python3",
   "display_name": "Python 3.7.2 64-bit",
   "metadata": {
    "interpreter": {
     "hash": "83578efa56bdacf56e7177dd56e6599257fec880fd84a9294df1e203d665e85c"
    }
   }
  }
 },
 "nbformat": 4,
 "nbformat_minor": 2,
 "cells": [
  {
   "source": [
    "# General List"
   ],
   "cell_type": "markdown",
   "metadata": {}
  },
  {
   "cell_type": "code",
   "execution_count": 1,
   "metadata": {},
   "outputs": [],
   "source": [
    "class Node:\n",
    "    def __init__(self, data = None, link = None):\n",
    "        self.data = data\n",
    "        self.link = link\n",
    "\n",
    "    def __str__(self):\n",
    "        return str(self.data)"
   ]
  },
  {
   "cell_type": "code",
   "execution_count": 2,
   "metadata": {},
   "outputs": [],
   "source": [
    "class GeneralList:\n",
    "    def __init__(self):\n",
    "        self.head = None\n",
    "        self.count = 0\n",
    "\n",
    "    def insert(self, pos, data):\n",
    "        if pos < 0 or pos > self.count:\n",
    "            raise Exception(f'Invalid position {pos}')\n",
    "\n",
    "        node = Node(data)\n",
    "\n",
    "        if pos == 0:\n",
    "            node.link = self.head\n",
    "            self.head = node\n",
    "        else:\n",
    "            p = self.head\n",
    "\n",
    "            for i in range(pos - 1):\n",
    "                p = p.link\n",
    "            \n",
    "            node.link = p.link\n",
    "            p.link = node\n",
    "            \n",
    "        self.count += 1\n",
    "\n",
    "    def traverse(self):\n",
    "        p = self.head\n",
    "\n",
    "        while not p == None:\n",
    "            print(p.data, end = ' ')\n",
    "            p = p.link"
   ]
  },
  {
   "source": [
    "Exception handling in Python: \n",
    "\n",
    "**raise()** --> try()\n",
    "\n",
    "**exception()** --> catch()"
   ],
   "cell_type": "markdown",
   "metadata": {}
  },
  {
   "cell_type": "code",
   "execution_count": 3,
   "metadata": {},
   "outputs": [],
   "source": [
    "a = GeneralList()"
   ]
  },
  {
   "cell_type": "code",
   "execution_count": 4,
   "metadata": {},
   "outputs": [],
   "source": [
    "from random import randint"
   ]
  },
  {
   "cell_type": "code",
   "execution_count": 5,
   "metadata": {},
   "outputs": [
    {
     "output_type": "stream",
     "name": "stdout",
     "text": [
      "91 36 29 75 39 60 22 81 12 93 23 67 77 62 65 36 68 "
     ]
    }
   ],
   "source": [
    "for i in range(randint(10, 20)):\n",
    "    a.insert(i, randint(10, 100))\n",
    "a.traverse()"
   ]
  },
  {
   "cell_type": "code",
   "execution_count": 6,
   "metadata": {},
   "outputs": [
    {
     "output_type": "stream",
     "name": "stdout",
     "text": [
      "Item Inserted...\n"
     ]
    }
   ],
   "source": [
    "try:\n",
    "    p = int(input('Enter position: '))\n",
    "    data = int(input('Enter an integer: '))\n",
    "    a.insert(p, data)\n",
    "    print('Item Inserted...')\n",
    "except Exception as e:\n",
    "    print (e)"
   ]
  },
  {
   "cell_type": "code",
   "execution_count": 7,
   "metadata": {},
   "outputs": [
    {
     "output_type": "stream",
     "name": "stdout",
     "text": [
      "91 36 29 75 39 60 22 81 12 93 10 23 67 77 62 65 36 68 "
     ]
    }
   ],
   "source": [
    "a.traverse()"
   ]
  },
  {
   "cell_type": "code",
   "execution_count": 8,
   "metadata": {},
   "outputs": [
    {
     "output_type": "stream",
     "name": "stdout",
     "text": [
      "Invalid position 20\n"
     ]
    }
   ],
   "source": [
    "try:\n",
    "    p = int(input('Enter position: '))\n",
    "    data = int(input('Enter an integer: '))\n",
    "    a.insert(p, data)\n",
    "    print('Item Inserted...')\n",
    "except Exception as e:\n",
    "    print (e)"
   ]
  },
  {
   "source": [
    "## Making the created data strucutre iterable"
   ],
   "cell_type": "markdown",
   "metadata": {}
  },
  {
   "cell_type": "code",
   "execution_count": 11,
   "metadata": {},
   "outputs": [],
   "source": [
    "class GeneralList:\n",
    "    def __init__(self):\n",
    "        self.head = None\n",
    "        self.count = 0\n",
    "\n",
    "    def insert(self, pos, data):\n",
    "        if pos < 0 or pos > self.count:\n",
    "            raise Exception(f'Invalid position {pos}')\n",
    "\n",
    "        node = Node(data)\n",
    "\n",
    "        if pos == 0:\n",
    "            node.link = self.head\n",
    "            self.head = node\n",
    "        else:\n",
    "            p = self.head\n",
    "\n",
    "            for i in range(pos - 1):\n",
    "                p = p.link\n",
    "            \n",
    "            node.link = p.link\n",
    "            p.link = node\n",
    "            \n",
    "        self.count += 1\n",
    "\n",
    "    def traverse(self):\n",
    "        p = self.head\n",
    "\n",
    "        while not p == None:\n",
    "            print(p.data, end = ' ')\n",
    "            p = p.link\n",
    "\n",
    "    \n",
    "    def __iter__(self):\n",
    "        self.current = self.head\n",
    "        return self\n",
    "\n",
    "    def __next__(self):\n",
    "        if self.current == None:\n",
    "            raise StopIteration\n",
    "        data = self.current.data\n",
    "        self.current = self.current.link\n",
    "        return data\n"
   ]
  },
  {
   "cell_type": "code",
   "execution_count": 12,
   "metadata": {},
   "outputs": [
    {
     "output_type": "error",
     "ename": "TypeError",
     "evalue": "'GeneralList' object is not iterable",
     "traceback": [
      "\u001b[1;31m---------------------------------------------------------------------------\u001b[0m",
      "\u001b[1;31mTypeError\u001b[0m                                 Traceback (most recent call last)",
      "\u001b[1;32m<ipython-input-12-7abc126120d6>\u001b[0m in \u001b[0;36m<module>\u001b[1;34m\u001b[0m\n\u001b[1;32m----> 1\u001b[1;33m \u001b[1;32mfor\u001b[0m \u001b[0mitems\u001b[0m \u001b[1;32min\u001b[0m \u001b[0ma\u001b[0m\u001b[1;33m:\u001b[0m\u001b[1;33m\u001b[0m\u001b[1;33m\u001b[0m\u001b[0m\n\u001b[0m\u001b[0;32m      2\u001b[0m     \u001b[0mprint\u001b[0m\u001b[1;33m(\u001b[0m\u001b[0mitems\u001b[0m\u001b[1;33m)\u001b[0m\u001b[1;33m\u001b[0m\u001b[1;33m\u001b[0m\u001b[0m\n",
      "\u001b[1;31mTypeError\u001b[0m: 'GeneralList' object is not iterable"
     ]
    }
   ],
   "source": [
    "for items in a:\n",
    "    print(items)"
   ]
  },
  {
   "cell_type": "code",
   "execution_count": 14,
   "metadata": {},
   "outputs": [],
   "source": [
    "a = GeneralList()"
   ]
  },
  {
   "cell_type": "code",
   "execution_count": 15,
   "metadata": {},
   "outputs": [
    {
     "output_type": "stream",
     "name": "stdout",
     "text": [
      "21 78 59 44 88 83 90 23 36 72 33 "
     ]
    }
   ],
   "source": [
    "for i in range(randint(10, 20)):\n",
    "    a.insert(i, randint(10, 100))\n",
    "\n",
    "a.traverse()"
   ]
  },
  {
   "cell_type": "code",
   "execution_count": 16,
   "metadata": {},
   "outputs": [
    {
     "output_type": "stream",
     "name": "stdout",
     "text": [
      "21\n78\n59\n44\n88\n83\n90\n23\n36\n72\n33\n"
     ]
    }
   ],
   "source": [
    "for item in a:\n",
    "    print(item)"
   ]
  },
  {
   "cell_type": "code",
   "execution_count": null,
   "metadata": {},
   "outputs": [],
   "source": []
  }
 ]
}