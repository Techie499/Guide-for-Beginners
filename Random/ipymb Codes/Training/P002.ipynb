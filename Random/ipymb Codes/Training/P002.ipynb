{
 "cells": [
  {
   "cell_type": "markdown",
   "metadata": {},
   "source": [
    "# Flow of Control\n",
    "\n",
    "## Sequential\n",
    "\n",
    "## Conditional\n",
    "\n",
    "## Iterative \n",
    "\n"
   ]
  },
  {
   "cell_type": "code",
   "execution_count": 2,
   "metadata": {},
   "outputs": [
    {
     "name": "stdout",
     "output_type": "stream",
     "text": [
      "Enter your marks65\n",
      "End\n"
     ]
    }
   ],
   "source": [
    "marks=int(input(\"Enter your marks\"))\n",
    "if marks>=80:\n",
    "    print('grade a')\n",
    "print('End')"
   ]
  },
  {
   "cell_type": "code",
   "execution_count": 4,
   "metadata": {},
   "outputs": [
    {
     "name": "stdout",
     "output_type": "stream",
     "text": [
      "Enter your marks102\n",
      "Bad\n",
      "End\n"
     ]
    }
   ],
   "source": [
    "marks=int(input(\"Enter your marks\"))\n",
    "if marks>=80 and marks<=100:\n",
    "    print('grade a')\n",
    "else:\n",
    "    print('Bad')\n",
    "print('End')"
   ]
  },
  {
   "cell_type": "code",
   "execution_count": 6,
   "metadata": {},
   "outputs": [
    {
     "name": "stdout",
     "output_type": "stream",
     "text": [
      "Enter your marks54\n",
      "Grade = C\n"
     ]
    }
   ],
   "source": [
    "marks=int(input(\"Enter your marks: \"))\n",
    "if marks>=80 and marks<=100:\n",
    "    grade='A'\n",
    "else:\n",
    "    if marks>=60:\n",
    "        grade='B'\n",
    "    else:\n",
    "        if marks>=40:\n",
    "            grade='C'\n",
    "        else:\n",
    "            grade='D'\n",
    "print(f'Grade = {grade}')"
   ]
  },
  {
   "cell_type": "code",
   "execution_count": 8,
   "metadata": {},
   "outputs": [
    {
     "name": "stdout",
     "output_type": "stream",
     "text": [
      "Enter your marks: 54\n",
      "Grade = C\n"
     ]
    }
   ],
   "source": [
    "marks=int(input(\"Enter your marks: \"))\n",
    "if marks>=80 and marks<=100:\n",
    "    grade='A'\n",
    "elif marks>=60 and marks<80:\n",
    "    grade='B'\n",
    "elif marks>=40 and marks<60:\n",
    "    grade='C'\n",
    "else:\n",
    "    grade='D'\n",
    "print(f'Grade = {grade}')"
   ]
  },
  {
   "cell_type": "code",
   "execution_count": 10,
   "metadata": {},
   "outputs": [
    {
     "name": "stdout",
     "output_type": "stream",
     "text": [
      "Enter your marks: 90\n",
      "Grade = A+\n"
     ]
    }
   ],
   "source": [
    "marks=int(input(\"Enter your marks: \"))\n",
    "if marks>=80 and marks<=100:\n",
    "    grade='A'\n",
    "    if marks>=90:\n",
    "        grade='A+'\n",
    "else:\n",
    "    if marks>=60:\n",
    "        grade='B'\n",
    "    else:\n",
    "        if marks>=40:\n",
    "            grade='C'\n",
    "        else:\n",
    "            grade='D'\n",
    "print(f'Grade = {grade}')"
   ]
  },
  {
   "cell_type": "code",
   "execution_count": 24,
   "metadata": {},
   "outputs": [
    {
     "name": "stdout",
     "output_type": "stream",
     "text": [
      "ente marks: 32\n",
      "D\n"
     ]
    }
   ],
   "source": [
    "marks=int(input(\"ente marks: \"))\n",
    "#print('Good' if marks>=80 else 'Bad')\n",
    "print('A' if marks>=80 and marks<=100 else 'B' if marks>=60 and marks<80 else 'C' if marks>=40 and marks<60 else 'D')"
   ]
  },
  {
   "cell_type": "code",
   "execution_count": 26,
   "metadata": {},
   "outputs": [],
   "source": [
    "def fact(n):\n",
    "    return 1 if n==0 else n*fact(n-1)"
   ]
  },
  {
   "cell_type": "code",
   "execution_count": 29,
   "metadata": {},
   "outputs": [
    {
     "data": {
      "text/plain": [
       "720"
      ]
     },
     "execution_count": 29,
     "metadata": {},
     "output_type": "execute_result"
    }
   ],
   "source": [
    "fact(6)\n"
   ]
  },
  {
   "cell_type": "code",
   "execution_count": 30,
   "metadata": {},
   "outputs": [],
   "source": [
    "def fibo(n):\n",
    "    return 0 if n==1 else 1 if n==2 else fibo(n-2)+fibo(n-1)"
   ]
  },
  {
   "cell_type": "code",
   "execution_count": 31,
   "metadata": {},
   "outputs": [
    {
     "data": {
      "text/plain": [
       "5"
      ]
     },
     "execution_count": 31,
     "metadata": {},
     "output_type": "execute_result"
    }
   ],
   "source": [
    "fibo(6)"
   ]
  },
  {
   "cell_type": "code",
   "execution_count": 33,
   "metadata": {},
   "outputs": [],
   "source": [
    "def tribo(n):\n",
    "    return 0 if n==1 else 1 if n==2 else 1 if n==3 else tribo(n-3)+tribo(n-2)+tribo(n-1)"
   ]
  },
  {
   "cell_type": "code",
   "execution_count": 35,
   "metadata": {},
   "outputs": [
    {
     "data": {
      "text/plain": [
       "4"
      ]
     },
     "execution_count": 35,
     "metadata": {},
     "output_type": "execute_result"
    }
   ],
   "source": [
    "tribo(5)\n"
   ]
  },
  {
   "cell_type": "code",
   "execution_count": 38,
   "metadata": {},
   "outputs": [
    {
     "name": "stdout",
     "output_type": "stream",
     "text": [
      "Enter n: 5\n",
      "5! = 120\n"
     ]
    }
   ],
   "source": [
    "n=int(input(\"Enter n: \"))\n",
    "f=1\n",
    "i=2\n",
    "while i<=n:\n",
    "    f*=i\n",
    "    i+=1\n",
    "print(f'{n}! = {f}')"
   ]
  },
  {
   "cell_type": "code",
   "execution_count": null,
   "metadata": {},
   "outputs": [],
   "source": []
  }
 ],
 "metadata": {
  "kernelspec": {
   "display_name": "Python 3",
   "language": "python",
   "name": "python3"
  },
  "language_info": {
   "codemirror_mode": {
    "name": "ipython",
    "version": 3
   },
   "file_extension": ".py",
   "mimetype": "text/x-python",
   "name": "python",
   "nbconvert_exporter": "python",
   "pygments_lexer": "ipython3",
   "version": "3.8.5"
  }
 },
 "nbformat": 4,
 "nbformat_minor": 2
}
