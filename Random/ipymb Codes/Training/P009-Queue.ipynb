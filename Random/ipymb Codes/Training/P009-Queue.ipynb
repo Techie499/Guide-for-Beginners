{
 "cells": [
  {
   "cell_type": "code",
   "execution_count": 1,
   "metadata": {},
   "outputs": [],
   "source": [
    "class Node:\n",
    "    def __init__(self,data=None,link=None):\n",
    "        self.data=data\n",
    "        self.link=link\n",
    "    \n",
    "    def __str__(self):\n",
    "        return str(self.data)"
   ]
  },
  {
   "cell_type": "code",
   "execution_count": 7,
   "metadata": {},
   "outputs": [],
   "source": [
    "class Queue:\n",
    "    def __init__(self):\n",
    "        self.front=None\n",
    "        self.rear=None\n",
    "    def enqueue(self,data):\n",
    "        node=Node(data)\n",
    "        if self.rear != None:\n",
    "            self.rear.link=node\n",
    "        else:\n",
    "            self.front=node\n",
    "        self.rear=node\n",
    "    def dequeue(self):\n",
    "        if self.front==None:\n",
    "            print(\"Queue underflow\")\n",
    "            return\n",
    "        data=self.front.data\n",
    "        self.front=self.front.link\n",
    "        if self.front==None:\n",
    "            self.rear=None\n",
    "        return data\n",
    "    \n",
    "    def empty(self):\n",
    "        return self.front==None"
   ]
  },
  {
   "cell_type": "code",
   "execution_count": 10,
   "metadata": {},
   "outputs": [
    {
     "name": "stdout",
     "output_type": "stream",
     "text": [
      "12\n",
      "5\n",
      "7\n",
      "13\n",
      "6\n",
      "9\n",
      "15\n",
      "2\n",
      "1\n"
     ]
    }
   ],
   "source": [
    "a=[12,5,7,13,6,9,15,2,1]\n",
    "q=Queue()\n",
    "for item in a:\n",
    "    q.enqueue(item)\n",
    "while not q.empty():\n",
    "    print(q.dequeue())"
   ]
  },
  {
   "cell_type": "code",
   "execution_count": null,
   "metadata": {},
   "outputs": [],
   "source": []
  }
 ],
 "metadata": {
  "kernelspec": {
   "display_name": "Python 3",
   "language": "python",
   "name": "python3"
  },
  "language_info": {
   "codemirror_mode": {
    "name": "ipython",
    "version": 3
   },
   "file_extension": ".py",
   "mimetype": "text/x-python",
   "name": "python",
   "nbconvert_exporter": "python",
   "pygments_lexer": "ipython3",
   "version": "3.7.1"
  }
 },
 "nbformat": 4,
 "nbformat_minor": 2
}
