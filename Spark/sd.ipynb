{
 "cells": [
  {
   "cell_type": "code",
   "execution_count": 3,
   "metadata": {},
   "outputs": [],
   "source": [
    "from pyspark.sql import SparkSession\n",
    "\n",
    "spark = SparkSession.builder.appName(\"SparkSQL\").getOrCreate()\n"
   ]
  },
  {
   "cell_type": "code",
   "execution_count": 4,
   "metadata": {},
   "outputs": [],
   "source": [
    "df = spark.read.csv(\"contacts.csv\", header=True, inferSchema=True)"
   ]
  },
  {
   "cell_type": "code",
   "execution_count": 6,
   "metadata": {},
   "outputs": [
    {
     "data": {
      "text/plain": [
       "['Name',\n",
       " 'Given Name',\n",
       " 'Additional Name',\n",
       " 'Family Name',\n",
       " 'Yomi Name',\n",
       " 'Given Name Yomi',\n",
       " 'Additional Name Yomi',\n",
       " 'Family Name Yomi',\n",
       " 'Name Prefix',\n",
       " 'Name Suffix',\n",
       " 'Initials',\n",
       " 'Nickname',\n",
       " 'Short Name',\n",
       " 'Maiden Name',\n",
       " 'Birthday',\n",
       " 'Gender',\n",
       " 'Location',\n",
       " 'Billing Information',\n",
       " 'Directory Server',\n",
       " 'Mileage',\n",
       " 'Occupation',\n",
       " 'Hobby',\n",
       " 'Sensitivity',\n",
       " 'Priority',\n",
       " 'Subject',\n",
       " 'Notes',\n",
       " 'Language',\n",
       " 'Photo',\n",
       " 'Group Membership',\n",
       " 'E-mail 1 - Type',\n",
       " 'E-mail 1 - Value',\n",
       " 'E-mail 2 - Type',\n",
       " 'E-mail 2 - Value',\n",
       " 'E-mail 3 - Type',\n",
       " 'E-mail 3 - Value',\n",
       " 'Phone 1 - Type',\n",
       " 'Phone 1 - Value',\n",
       " 'Phone 2 - Type',\n",
       " 'Phone 2 - Value',\n",
       " 'Phone 3 - Type',\n",
       " 'Phone 3 - Value',\n",
       " 'Phone 4 - Type',\n",
       " 'Phone 4 - Value',\n",
       " 'Address 1 - Type',\n",
       " 'Address 1 - Formatted',\n",
       " 'Address 1 - Street',\n",
       " 'Address 1 - City',\n",
       " 'Address 1 - PO Box',\n",
       " 'Address 1 - Region',\n",
       " 'Address 1 - Postal Code',\n",
       " 'Address 1 - Country',\n",
       " 'Address 1 - Extended Address',\n",
       " 'Organization 1 - Type',\n",
       " 'Organization 1 - Name',\n",
       " 'Organization 1 - Yomi Name',\n",
       " 'Organization 1 - Title',\n",
       " 'Organization 1 - Department',\n",
       " 'Organization 1 - Symbol',\n",
       " 'Organization 1 - Location',\n",
       " 'Organization 1 - Job Description',\n",
       " 'Website 1 - Type',\n",
       " 'Website 1 - Value',\n",
       " 'Custom Field 1 - Type',\n",
       " 'Custom Field 1 - Value']"
      ]
     },
     "execution_count": 6,
     "metadata": {},
     "output_type": "execute_result"
    }
   ],
   "source": [
    "df.columns"
   ]
  },
  {
   "cell_type": "code",
   "execution_count": 12,
   "metadata": {},
   "outputs": [],
   "source": [
    "df2 = df.select(['Name', 'Phone 1 - Value', 'Phone 2 - Value', 'Phone 3 - Value', 'Phone 4 - Value'])"
   ]
  },
  {
   "cell_type": "code",
   "execution_count": 46,
   "metadata": {},
   "outputs": [],
   "source": [
    "from pyspark.sql.functions import length, col\n",
    "\n",
    "df3 = df2.withColumn('Phone 1', length(col('Phone 1 - Value')))\\\n",
    "    .withColumn('Phone 2', length(col('Phone 2 - Value')))\\\n",
    "    .withColumn('Phone 3', length(col('Phone 3 - Value')))\\\n",
    "    .withColumn('Phone 4', length(col('Phone 4 - Value')))"
   ]
  },
  {
   "cell_type": "code",
   "execution_count": 55,
   "metadata": {},
   "outputs": [
    {
     "name": "stdout",
     "output_type": "stream",
     "text": [
      "+--------------------+--------------------+--------------------+---------------+---------------+-------+-------+-------+-------+\n",
      "|                Name|     Phone 1 - Value|     Phone 2 - Value|Phone 3 - Value|Phone 4 - Value|Phone 1|Phone 2|Phone 3|Phone 4|\n",
      "+--------------------+--------------------+--------------------+---------------+---------------+-------+-------+-------+-------+\n",
      "|ES Bapi Da (South...|+918017407479 :::...|                NULL|           NULL|           NULL|     28|   NULL|   NULL|   NULL|\n",
      "|            ES Water|983-041-0114 ::: ...|                NULL|           NULL|           NULL|     29|   NULL|   NULL|   NULL|\n",
      "|      F Abhiron Dada|+91 80976 96015 :...|                NULL|           NULL|           NULL|     49|   NULL|   NULL|   NULL|\n",
      "|              F Dada|+919654016309 :::...|        705-922-1211|           NULL|           NULL|     69|     12|   NULL|   NULL|\n",
      "|         F Didi Bhai|+91 83569 20799 :...|       086-553-02505|           NULL|           NULL|     36|     13|   NULL|   NULL|\n",
      "|        F Gokul Dada|+919836832242 :::...|        983-683-2242|           NULL|           NULL|     31|     12|   NULL|   NULL|\n",
      "|            F Jhulan|943-316-9764 ::: ...|        943-316-9764|           NULL|           NULL|     29|     12|   NULL|   NULL|\n",
      "|        F Madhu-Asha|    +91 80 17 020260|                NULL|           NULL|           NULL|     16|   NULL|   NULL|   NULL|\n",
      "|              F Mama|+91 93 31 870529 ...|                NULL|           NULL|           NULL|     37|   NULL|   NULL|   NULL|\n",
      "|              F Mami|033-241-08072 :::...|       +918981486721|           NULL|           NULL|     32|     13|   NULL|   NULL|\n",
      "|             F Mesho|+918981205313 :::...|        086970 81590|           NULL|           NULL|     51|     12|   NULL|   NULL|\n",
      "|        F Nakul Dada|    +91 6291 698 448|6292 131 083 ::: ...|   882-034-8176|           NULL|     16|     29|     12|   NULL|\n",
      "|      F Prabir Pishu|    +91 6291 746 665|     +91 98367 61914|           NULL|           NULL|     16|     15|   NULL|   NULL|\n",
      "|          F Sneha Di|+917980718945 :::...|                NULL|           NULL|           NULL|     33|   NULL|   NULL|   NULL|\n",
      "|             FCS 18'|+91 98 31 303826 ...|                NULL|           NULL|           NULL|    226|   NULL|   NULL|   NULL|\n",
      "|      FCS 18' Aakash|+91 84439 82497 :...|                NULL|           NULL|           NULL|     35|   NULL|   NULL|   NULL|\n",
      "|      FCS 18' Aniket|+91 96 74 003573 ...|                NULL|           NULL|           NULL|     33|   NULL|   NULL|   NULL|\n",
      "|      FCS 18' Ankhan|    +91 89 61 506648|                NULL|           NULL|           NULL|     16|   NULL|   NULL|   NULL|\n",
      "|     FCS 18' Aprotim|    +91 80 10 204854|                NULL|           NULL|           NULL|     16|   NULL|   NULL|   NULL|\n",
      "|       FCS 18' Arkit|+918961505225 :::...|                NULL|           NULL|           NULL|     34|   NULL|   NULL|   NULL|\n",
      "+--------------------+--------------------+--------------------+---------------+---------------+-------+-------+-------+-------+\n",
      "only showing top 20 rows\n",
      "\n"
     ]
    }
   ],
   "source": [
    "df3.createOrReplaceTempView(\"TAB\")\n",
    "spark.sql(\"SELECT * from TAB where `Phone 1` > 15\").show()"
   ]
  },
  {
   "cell_type": "code",
   "execution_count": 71,
   "metadata": {},
   "outputs": [
    {
     "name": "stdout",
     "output_type": "stream",
     "text": [
      "+--------------------+--------------------+--------------------+---------------+---------------+-------+-------+-------+-------+\n",
      "|                Name|     Phone 1 - Value|     Phone 2 - Value|Phone 3 - Value|Phone 4 - Value|Phone 1|Phone 2|Phone 3|Phone 4|\n",
      "+--------------------+--------------------+--------------------+---------------+---------------+-------+-------+-------+-------+\n",
      "|                Baba|          9678074545|+919330802211 :::...|           NULL|           NULL|     10|     31|   NULL|   NULL|\n",
      "|ES Bapi Da (South...|+918017407479 :::...|                NULL|           NULL|           NULL|     28|   NULL|   NULL|   NULL|\n",
      "|            ES Water|983-041-0114 ::: ...|                NULL|           NULL|           NULL|     29|   NULL|   NULL|   NULL|\n",
      "|      F Abhiron Dada|+91 80976 96015 :...|                NULL|           NULL|           NULL|     49|   NULL|   NULL|   NULL|\n",
      "|              F Dada|+919654016309 :::...|        705-922-1211|           NULL|           NULL|     69|     12|   NULL|   NULL|\n",
      "|         F Didi Bhai|+91 83569 20799 :...|       086-553-02505|           NULL|           NULL|     36|     13|   NULL|   NULL|\n",
      "|        F Gokul Dada|+919836832242 :::...|        983-683-2242|           NULL|           NULL|     31|     12|   NULL|   NULL|\n",
      "|            F Jhulan|943-316-9764 ::: ...|        943-316-9764|           NULL|           NULL|     29|     12|   NULL|   NULL|\n",
      "|        F Madhu-Asha|    +91 80 17 020260|                NULL|           NULL|           NULL|     16|   NULL|   NULL|   NULL|\n",
      "|              F Mama|+91 93 31 870529 ...|                NULL|           NULL|           NULL|     37|   NULL|   NULL|   NULL|\n",
      "|              F Mami|033-241-08072 :::...|       +918981486721|           NULL|           NULL|     32|     13|   NULL|   NULL|\n",
      "|              F Masi|     +91 74393 07719|+91 80173 65451 :...|  090-389-84168|           NULL|     15|     35|     13|   NULL|\n",
      "|             F Mesho|+918981205313 :::...|        086970 81590|           NULL|           NULL|     51|     12|   NULL|   NULL|\n",
      "|           F Mimi Di|     +1 647-660-5321|+1 647-680-9049 :...|           NULL|           NULL|     15|     72|   NULL|   NULL|\n",
      "|        F Nakul Dada|    +91 6291 698 448|6292 131 083 ::: ...|   882-034-8176|           NULL|     16|     29|     12|   NULL|\n",
      "|             F Pishu|     +91 86172 48584|+91 89813 77942 :...|           NULL|           NULL|     15|     35|   NULL|   NULL|\n",
      "|              F Pisi|     +91 82406 77533|+91 98302 16235 :...|           NULL|           NULL|     15|     53|   NULL|   NULL|\n",
      "|      F Prabir Pishu|    +91 6291 746 665|     +91 98367 61914|           NULL|           NULL|     16|     15|   NULL|   NULL|\n",
      "|          F Sneha Di|+917980718945 :::...|                NULL|           NULL|           NULL|     33|   NULL|   NULL|   NULL|\n",
      "|             FCS 18'|+91 98 31 303826 ...|                NULL|           NULL|           NULL|    226|   NULL|   NULL|   NULL|\n",
      "+--------------------+--------------------+--------------------+---------------+---------------+-------+-------+-------+-------+\n",
      "only showing top 20 rows\n",
      "\n"
     ]
    }
   ],
   "source": [
    "df4 = df3.filter((df3['Phone 1']>15) | (df3['Phone 2']>15) | (df3['Phone 3']>15) | (df3['Phone 4']>15)).show()"
   ]
  },
  {
   "cell_type": "code",
   "execution_count": 76,
   "metadata": {},
   "outputs": [
    {
     "ename": "AttributeError",
     "evalue": "'NoneType' object has no attribute 'toPandas'",
     "output_type": "error",
     "traceback": [
      "\u001b[1;31m---------------------------------------------------------------------------\u001b[0m",
      "\u001b[1;31mAttributeError\u001b[0m                            Traceback (most recent call last)",
      "Cell \u001b[1;32mIn[76], line 3\u001b[0m\n\u001b[0;32m      1\u001b[0m \u001b[39mimport\u001b[39;00m \u001b[39mpandas\u001b[39;00m \u001b[39mas\u001b[39;00m \u001b[39mpd\u001b[39;00m\n\u001b[1;32m----> 3\u001b[0m df4\u001b[39m.\u001b[39;49mtoPandas()\u001b[39m.\u001b[39mto_csv(\u001b[39m'\u001b[39m\u001b[39moutput.csv\u001b[39m\u001b[39m'\u001b[39m, index\u001b[39m=\u001b[39m\u001b[39mFalse\u001b[39;00m)\n",
      "\u001b[1;31mAttributeError\u001b[0m: 'NoneType' object has no attribute 'toPandas'"
     ]
    }
   ],
   "source": [
    "import pandas as pd\n",
    "from pyspark.\n",
    "df4.toPandas().to_csv('output.csv', index=False)\n"
   ]
  }
 ],
 "metadata": {
  "kernelspec": {
   "display_name": "Python 3",
   "language": "python",
   "name": "python3"
  },
  "language_info": {
   "codemirror_mode": {
    "name": "ipython",
    "version": 3
   },
   "file_extension": ".py",
   "mimetype": "text/x-python",
   "name": "python",
   "nbconvert_exporter": "python",
   "pygments_lexer": "ipython3",
   "version": "3.12.0"
  }
 },
 "nbformat": 4,
 "nbformat_minor": 2
}
