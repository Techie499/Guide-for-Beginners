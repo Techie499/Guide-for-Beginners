{
 "cells": [
  {
   "cell_type": "code",
   "execution_count": 1,
   "id": "e62fd27e-c318-4224-9b73-343831b3ffc8",
   "metadata": {},
   "outputs": [
    {
     "name": "stdout",
     "output_type": "stream",
     "text": [
      "Requirement already satisfied: pandas in c:\\python\\python391\\lib\\site-packages (2.0.3)\n",
      "Requirement already satisfied: python-dateutil>=2.8.2 in c:\\users\\lenovo\\appdata\\roaming\\python\\python39\\site-packages (from pandas) (2.8.2)\n",
      "Requirement already satisfied: pytz>=2020.1 in c:\\python\\python391\\lib\\site-packages (from pandas) (2022.7.1)\n",
      "Requirement already satisfied: tzdata>=2022.1 in c:\\python\\python391\\lib\\site-packages (from pandas) (2023.3)\n",
      "Requirement already satisfied: numpy>=1.20.3 in c:\\python\\python391\\lib\\site-packages (from pandas) (1.24.1)\n",
      "Requirement already satisfied: six>=1.5 in c:\\users\\lenovo\\appdata\\roaming\\python\\python39\\site-packages (from python-dateutil>=2.8.2->pandas) (1.16.0)\n"
     ]
    }
   ],
   "source": [
    "!pip install pandas"
   ]
  },
  {
   "cell_type": "code",
   "execution_count": 2,
   "id": "56d674c1-e192-4309-8d5a-3dd3947a9fae",
   "metadata": {},
   "outputs": [],
   "source": [
    "import psycopg2 as db\n",
    "import pandas as pd"
   ]
  },
  {
   "cell_type": "code",
   "execution_count": 3,
   "id": "f3ba5e7c-abca-4585-86c1-a6415dc57a55",
   "metadata": {},
   "outputs": [],
   "source": [
    "def create_database():\n",
    "    conn = db.connect(\"host = localhost dbname=postgres user=postgres password=admin\")\n",
    "    conn.set_session(autocommit=True)\n",
    "    cur = conn.cursor()\n",
    "\n",
    "    cur.execute(\"DROP DATABASE IF EXISTS accounts\")\n",
    "    cur.execute(\"CREATE DATABASE accounts\")\n",
    "\n",
    "    conn.close()\n",
    "\n",
    "    conn = db.connect(\"host = localhost dbname=accounts user=postgres password=admin\")\n",
    "    conn.set_session(autocommit=True)\n",
    "    cur = conn.cursor()\n",
    "\n",
    "    return cur,conn"
   ]
  },
  {
   "cell_type": "code",
   "execution_count": 4,
   "id": "78c18659-2b7c-4bd6-a02b-60fd1b12aca7",
   "metadata": {},
   "outputs": [],
   "source": [
    "def drop_tables(curr,conn):\n",
    "    for query in drop_table_queries:\n",
    "        cur.execute(query)\n",
    "        conn.commit()"
   ]
  },
  {
   "cell_type": "code",
   "execution_count": 5,
   "id": "4cee47ed-4d7f-46aa-b097-29c0e0c74a6e",
   "metadata": {},
   "outputs": [],
   "source": [
    "def create_tables(curr,conn):\n",
    "    for query in create_table_queries:\n",
    "        curr.execute(query)\n",
    "        conn.commit()"
   ]
  },
  {
   "cell_type": "code",
   "execution_count": 6,
   "id": "b9fd49ce-9373-40b2-bbec-1df137f8d7ba",
   "metadata": {},
   "outputs": [],
   "source": [
    "AccountCountry = pd.read_csv(\"Wealth Data/Wealth-AccountsCountry.csv\")"
   ]
  },
  {
   "cell_type": "code",
   "execution_count": 7,
   "id": "9aa3c0f8-00a2-4728-85f4-424de656040b",
   "metadata": {},
   "outputs": [],
   "source": [
    "#AccountCountry.head()"
   ]
  },
  {
   "cell_type": "code",
   "execution_count": 8,
   "id": "00ead633-affb-4383-968f-2b6677841d49",
   "metadata": {},
   "outputs": [],
   "source": [
    "AccountCountry_clean = AccountCountry[['Code','Short Name','Table Name','Long Name','Currency Unit']]"
   ]
  },
  {
   "cell_type": "code",
   "execution_count": 9,
   "id": "080a2e40-9e99-4bb9-932e-b7a685feafbe",
   "metadata": {},
   "outputs": [
    {
     "data": {
      "text/html": [
       "<div>\n",
       "<style scoped>\n",
       "    .dataframe tbody tr th:only-of-type {\n",
       "        vertical-align: middle;\n",
       "    }\n",
       "\n",
       "    .dataframe tbody tr th {\n",
       "        vertical-align: top;\n",
       "    }\n",
       "\n",
       "    .dataframe thead th {\n",
       "        text-align: right;\n",
       "    }\n",
       "</style>\n",
       "<table border=\"1\" class=\"dataframe\">\n",
       "  <thead>\n",
       "    <tr style=\"text-align: right;\">\n",
       "      <th></th>\n",
       "      <th>Code</th>\n",
       "      <th>Short Name</th>\n",
       "      <th>Table Name</th>\n",
       "      <th>Long Name</th>\n",
       "      <th>Currency Unit</th>\n",
       "    </tr>\n",
       "  </thead>\n",
       "  <tbody>\n",
       "    <tr>\n",
       "      <th>0</th>\n",
       "      <td>ALB</td>\n",
       "      <td>Albania</td>\n",
       "      <td>Albania</td>\n",
       "      <td>Republic of Albania</td>\n",
       "      <td>Albanian lek</td>\n",
       "    </tr>\n",
       "    <tr>\n",
       "      <th>1</th>\n",
       "      <td>ARG</td>\n",
       "      <td>Argentina</td>\n",
       "      <td>Argentina</td>\n",
       "      <td>Argentine Republic</td>\n",
       "      <td>Argentine peso</td>\n",
       "    </tr>\n",
       "    <tr>\n",
       "      <th>2</th>\n",
       "      <td>ARM</td>\n",
       "      <td>Armenia</td>\n",
       "      <td>Armenia</td>\n",
       "      <td>Republic of Armenia</td>\n",
       "      <td>Armenian dram</td>\n",
       "    </tr>\n",
       "    <tr>\n",
       "      <th>3</th>\n",
       "      <td>AUS</td>\n",
       "      <td>Australia</td>\n",
       "      <td>Australia</td>\n",
       "      <td>Commonwealth of Australia</td>\n",
       "      <td>Australian dollar</td>\n",
       "    </tr>\n",
       "    <tr>\n",
       "      <th>4</th>\n",
       "      <td>AUT</td>\n",
       "      <td>Austria</td>\n",
       "      <td>Austria</td>\n",
       "      <td>Republic of Austria</td>\n",
       "      <td>Euro</td>\n",
       "    </tr>\n",
       "  </tbody>\n",
       "</table>\n",
       "</div>"
      ],
      "text/plain": [
       "  Code Short Name Table Name                  Long Name      Currency Unit\n",
       "0  ALB    Albania    Albania        Republic of Albania       Albanian lek\n",
       "1  ARG  Argentina  Argentina         Argentine Republic     Argentine peso\n",
       "2  ARM    Armenia    Armenia        Republic of Armenia      Armenian dram\n",
       "3  AUS  Australia  Australia  Commonwealth of Australia  Australian dollar\n",
       "4  AUT    Austria    Austria        Republic of Austria               Euro"
      ]
     },
     "execution_count": 9,
     "metadata": {},
     "output_type": "execute_result"
    }
   ],
   "source": [
    "AccountCountry_clean.head()"
   ]
  },
  {
   "cell_type": "code",
   "execution_count": 10,
   "id": "90a5b31b-9865-4d00-b879-b5acab3c2547",
   "metadata": {},
   "outputs": [],
   "source": [
    "AccountData = pd.read_csv(\"Wealth Data/Wealth-AccountData.csv\")"
   ]
  },
  {
   "cell_type": "code",
   "execution_count": 11,
   "id": "2aec8f40-b90a-4354-b8cf-aeee003300bd",
   "metadata": {},
   "outputs": [],
   "source": [
    "#AccountData.head()"
   ]
  },
  {
   "cell_type": "code",
   "execution_count": 12,
   "id": "ae889fbf-45d8-495d-a63e-4b9a13b30447",
   "metadata": {},
   "outputs": [
    {
     "data": {
      "text/plain": [
       "Index(['Country Name', 'Country Code', 'Series Name', 'Series Code',\n",
       "       '1995 [YR1995]', '1996 [YR1996]', '1997 [YR1997]', '1998 [YR1998]',\n",
       "       '1999 [YR1999]', '2000 [YR2000]', '2001 [YR2001]', '2002 [YR2002]',\n",
       "       '2003 [YR2003]', '2004 [YR2004]', '2005 [YR2005]', '2006 [YR2006]',\n",
       "       '2007 [YR2007]', '2008 [YR2008]', '2009 [YR2009]', '2010 [YR2010]',\n",
       "       '2011 [YR2011]', '2012 [YR2012]', '2013 [YR2013]', '2014 [YR2014]',\n",
       "       '2015 [YR2015]', '2016 [YR2016]', '2017 [YR2017]', '2018 [YR2018]'],\n",
       "      dtype='object')"
      ]
     },
     "execution_count": 12,
     "metadata": {},
     "output_type": "execute_result"
    }
   ],
   "source": [
    "AccountData.columns"
   ]
  },
  {
   "cell_type": "code",
   "execution_count": 13,
   "id": "1f747ed1-35ec-4316-b40c-2b9a27de081b",
   "metadata": {},
   "outputs": [],
   "source": [
    "AccountData = AccountData.rename(columns = {'1995 [YR1995]' : '1995', \n",
    "                              '1996 [YR1996]' : 'y_1996', \n",
    "                              '1997 [YR1997]' : 'y_1997', \n",
    "                              '1998 [YR1998]' : 'y_1998',\n",
    "                              '1999 [YR1999]' : 'y_1999', \n",
    "                              '2000 [YR2000]' : 'y_2000', \n",
    "                              '2001 [YR2001]' : 'y_2001', \n",
    "                              '2002 [YR2002]' : 'y_2002',\n",
    "                              '2003 [YR2003]' : 'y_2003', \n",
    "                              '2004 [YR2004]' : 'y_2004', \n",
    "                              '2005 [YR2005]' : 'y_2005', \n",
    "                              '2006 [YR2006]' : 'y_2006',\n",
    "                              '2007 [YR2007]' : 'y_2007', \n",
    "                              '2008 [YR2008]' : 'y_2008', \n",
    "                              '2009 [YR2009]' : 'y_2009', \n",
    "                              '2010 [YR2010]' : 'y_2010',\n",
    "                              '2011 [YR2011]' : 'y_2011',\n",
    "                              '2012 [YR2012]' : 'y_2012',\n",
    "                              '2013 [YR2013]' : 'y_2013',\n",
    "                              '2014 [YR2014]' : 'y_2014',\n",
    "                              '2015 [YR2015]' : 'y_2015',\n",
    "                              '2016 [YR2016]' : 'y_2016',\n",
    "                              '2017 [YR2017]' : 'y_2017',\n",
    "                              '2018 [YR2018]' : 'y_2018'})"
   ]
  },
  {
   "cell_type": "code",
   "execution_count": 14,
   "id": "d407125f-05a9-4138-a3f1-8f9d69fa8634",
   "metadata": {},
   "outputs": [],
   "source": [
    "AccountData = AccountData[['Country Name', 'Country Code', 'Series Name', 'Series Code',\n",
    "                           'y_2009', 'y_2010', 'y_2011',\n",
    "                           'y_2012', 'y_2013', 'y_2014',\n",
    "                           'y_2015', 'y_2016', 'y_2017', 'y_2018']]"
   ]
  },
  {
   "cell_type": "code",
   "execution_count": 15,
   "id": "b2eb38c0-472c-4fd1-9a11-9eba77a768b6",
   "metadata": {},
   "outputs": [],
   "source": [
    "AccountSeries = pd.read_csv(\"Wealth Data/Wealth-AccountSeries.csv\")"
   ]
  },
  {
   "cell_type": "code",
   "execution_count": 16,
   "id": "26afa260-ad9f-4ad1-84d9-da89c8071c92",
   "metadata": {},
   "outputs": [
    {
     "data": {
      "text/plain": [
       "Index(['Code', 'Indicator Name', 'Long definition', 'Source', 'Topic',\n",
       "       'Unit of measure', 'Periodicity', 'Reference period',\n",
       "       'Statistical concept and methodology', 'Previous Indicator Code',\n",
       "       'Previous Indicator Name'],\n",
       "      dtype='object')"
      ]
     },
     "execution_count": 16,
     "metadata": {},
     "output_type": "execute_result"
    }
   ],
   "source": [
    "AccountSeries.columns"
   ]
  },
  {
   "cell_type": "code",
   "execution_count": 17,
   "id": "c97eb4e8-92d0-4d42-8d67-3b773ee99b34",
   "metadata": {},
   "outputs": [],
   "source": [
    "AccountSeries = AccountSeries[['Code','Topic','Indicator Name','Long definition']]"
   ]
  },
  {
   "cell_type": "code",
   "execution_count": 18,
   "id": "ebb5b2bc-5788-4088-849d-bb3a5e630527",
   "metadata": {},
   "outputs": [],
   "source": [
    "#AccountSeries.head()"
   ]
  },
  {
   "cell_type": "code",
   "execution_count": 19,
   "id": "962d4030-9b51-4834-8f69-a02787558c4e",
   "metadata": {},
   "outputs": [],
   "source": [
    "cur,conn = create_database()"
   ]
  },
  {
   "cell_type": "code",
   "execution_count": 20,
   "id": "769cb0d2-d2ea-4aa2-8044-9ac25ed70cc7",
   "metadata": {},
   "outputs": [
    {
     "data": {
      "text/plain": [
       "Index(['Code', 'Short Name', 'Table Name', 'Long Name', 'Currency Unit'], dtype='object')"
      ]
     },
     "execution_count": 20,
     "metadata": {},
     "output_type": "execute_result"
    }
   ],
   "source": [
    "AccountCountry_clean.columns"
   ]
  },
  {
   "cell_type": "code",
   "execution_count": 21,
   "id": "3d888504-f416-4290-8c94-63e8a7985b61",
   "metadata": {},
   "outputs": [],
   "source": [
    "songplay_create_table = (\"\"\"CREATE TABLE IF NOT EXISTS accountscountry(\n",
    "country_code VARCHAR PRIMARY KEY,\n",
    "short_name VARCHAR,\n",
    "table_name VARCHAR,\n",
    "long_name VARCHAR,\n",
    "currency_unit VARCHAR)\"\"\")"
   ]
  },
  {
   "cell_type": "code",
   "execution_count": 22,
   "id": "073d5fc4-e2b8-4539-a7de-4ac25b9ce8e7",
   "metadata": {},
   "outputs": [],
   "source": [
    "cur.execute(songplay_create_table)\n",
    "conn.commit()"
   ]
  },
  {
   "cell_type": "code",
   "execution_count": 23,
   "id": "470086ab-e08b-4fc9-a623-1e7ad884afb0",
   "metadata": {},
   "outputs": [
    {
     "data": {
      "text/plain": [
       "Index(['Country Name', 'Country Code', 'Series Name', 'Series Code', 'y_2009',\n",
       "       'y_2010', 'y_2011', 'y_2012', 'y_2013', 'y_2014', 'y_2015', 'y_2016',\n",
       "       'y_2017', 'y_2018'],\n",
       "      dtype='object')"
      ]
     },
     "execution_count": 23,
     "metadata": {},
     "output_type": "execute_result"
    }
   ],
   "source": [
    "AccountData.columns"
   ]
  },
  {
   "cell_type": "code",
   "execution_count": 24,
   "id": "0ec67264-50f3-48d4-bbb4-ae3e0f0e8ece",
   "metadata": {},
   "outputs": [],
   "source": [
    "accountsdata_create_table = (\"\"\"CREATE TABLE IF NOT EXISTS accountsdata(\n",
    "country_name VARCHAR PRIMARY KEY,\n",
    "country_code VARCHAR,\n",
    "series_name VARCHAR,\n",
    "series_code VARCHAR,\n",
    "y_2009 numeric,\n",
    "y_2010 numeric,\n",
    "y_2011 numeric,\n",
    "y_2012 numeric,\n",
    "y_2013 numeric,\n",
    "y_2014 numeric,\n",
    "y_2015 numeric,\n",
    "y_2016 numeric,\n",
    "y_2017 numeric,\n",
    "y_2018 numeric)\"\"\")\n",
    "cur.execute(accountsdata_create_table)\n",
    "conn.commit()"
   ]
  },
  {
   "cell_type": "code",
   "execution_count": 25,
   "id": "34587207-5405-4d7b-98b8-9382b2b53374",
   "metadata": {},
   "outputs": [
    {
     "data": {
      "text/plain": [
       "Index(['Code', 'Topic', 'Indicator Name', 'Long definition'], dtype='object')"
      ]
     },
     "execution_count": 25,
     "metadata": {},
     "output_type": "execute_result"
    }
   ],
   "source": [
    "AccountSeries.columns"
   ]
  },
  {
   "cell_type": "code",
   "execution_count": 26,
   "id": "82b72d2d-7a7a-404f-a4dc-62d2751a7b68",
   "metadata": {},
   "outputs": [],
   "source": [
    "accountseries_create_table = (\"\"\"CREATE TABLE IF NOT EXISTS accountseries(\n",
    "series_code VARCHAR,\n",
    "topic VARCHAR,\n",
    "indicator_name VARCHAR,\n",
    "long_definition VARCHAR)\"\"\")\n",
    "cur.execute(accountseries_create_table)\n",
    "conn.commit()"
   ]
  },
  {
   "cell_type": "code",
   "execution_count": 27,
   "id": "fd35226f-4ac5-4b73-820d-f8430c5d5dc3",
   "metadata": {},
   "outputs": [],
   "source": [
    "acc_country_insert = (\"\"\"INSERT INTO accountscountry(country_code,short_name,table_name,long_name,currency_unit) \n",
    "VALUES (%s,%s,%s,%s,%s)\"\"\")"
   ]
  },
  {
   "cell_type": "code",
   "execution_count": 33,
   "id": "92e3cf1a-4de1-4bf1-9b49-c402b6a6ed87",
   "metadata": {},
   "outputs": [],
   "source": [
    "#AccountCountry_clean.Code.unique"
   ]
  },
  {
   "cell_type": "code",
   "execution_count": 29,
   "id": "8955f5c1-dee9-49c3-bc69-808966b49220",
   "metadata": {
    "scrolled": true
   },
   "outputs": [
    {
     "ename": "UniqueViolation",
     "evalue": "duplicate key value violates unique constraint \"accountscountry_pkey\"\nDETAIL:  Key (country_code)=(ARM) already exists.\n",
     "output_type": "error",
     "traceback": [
      "\u001b[1;31m---------------------------------------------------------------------------\u001b[0m",
      "\u001b[1;31mUniqueViolation\u001b[0m                           Traceback (most recent call last)",
      "Cell \u001b[1;32mIn[29], line 2\u001b[0m\n\u001b[0;32m      1\u001b[0m \u001b[38;5;28;01mfor\u001b[39;00m i , rows \u001b[38;5;129;01min\u001b[39;00m AccountCountry_clean\u001b[38;5;241m.\u001b[39miterrows():\n\u001b[1;32m----> 2\u001b[0m     \u001b[43mcur\u001b[49m\u001b[38;5;241;43m.\u001b[39;49m\u001b[43mexecute\u001b[49m\u001b[43m(\u001b[49m\u001b[43macc_country_insert\u001b[49m\u001b[43m,\u001b[49m\u001b[38;5;28;43mlist\u001b[39;49m\u001b[43m(\u001b[49m\u001b[43mrows\u001b[49m\u001b[43m)\u001b[49m\u001b[43m)\u001b[49m\n",
      "\u001b[1;31mUniqueViolation\u001b[0m: duplicate key value violates unique constraint \"accountscountry_pkey\"\nDETAIL:  Key (country_code)=(ARM) already exists.\n"
     ]
    }
   ],
   "source": [
    "for i , rows in AccountCountry_clean.iterrows():\n",
    "    cur.execute(acc_country_insert,list(rows))"
   ]
  },
  {
   "cell_type": "code",
   "execution_count": 30,
   "id": "8bf1464a-c107-47dd-9c8c-86c8dbfc4d58",
   "metadata": {},
   "outputs": [],
   "source": [
    "acc_data_insert = (\"\"\"INSERT INTO accountsdata(\n",
    "country_name,country_code,series_name,series_code,\n",
    "y_2009,y_2010,y_2011,y_2012,y_2013,y_2014,y_2015,y_2016,y_2017,y_2018) \n",
    "VALUES (%s,%s,%s,%s,%s,%s,%s,%s,%s,%s,%s,%s,%s,%s)\"\"\")"
   ]
  },
  {
   "cell_type": "code",
   "execution_count": 31,
   "id": "72930435-4739-4ede-97b6-6fccd1d066cf",
   "metadata": {},
   "outputs": [],
   "source": [
    "conn.commit()"
   ]
  },
  {
   "cell_type": "code",
   "execution_count": 32,
   "id": "c57b1419-1d37-4312-8964-3c9853327b98",
   "metadata": {},
   "outputs": [
    {
     "ename": "UniqueViolation",
     "evalue": "duplicate key value violates unique constraint \"accountsdata_pkey\"\nDETAIL:  Key (country_name)=(Albania) already exists.\n",
     "output_type": "error",
     "traceback": [
      "\u001b[1;31m---------------------------------------------------------------------------\u001b[0m",
      "\u001b[1;31mUniqueViolation\u001b[0m                           Traceback (most recent call last)",
      "Cell \u001b[1;32mIn[32], line 3\u001b[0m\n\u001b[0;32m      1\u001b[0m \u001b[38;5;28;01mfor\u001b[39;00m i , rows \u001b[38;5;129;01min\u001b[39;00m AccountData\u001b[38;5;241m.\u001b[39miterrows():\n\u001b[0;32m      2\u001b[0m     \u001b[38;5;66;03m#print(list(rows))\u001b[39;00m\n\u001b[1;32m----> 3\u001b[0m     \u001b[43mcur\u001b[49m\u001b[38;5;241;43m.\u001b[39;49m\u001b[43mexecute\u001b[49m\u001b[43m(\u001b[49m\u001b[43macc_data_insert\u001b[49m\u001b[43m,\u001b[49m\u001b[38;5;28;43mlist\u001b[39;49m\u001b[43m(\u001b[49m\u001b[43mrows\u001b[49m\u001b[43m)\u001b[49m\u001b[43m)\u001b[49m\n",
      "\u001b[1;31mUniqueViolation\u001b[0m: duplicate key value violates unique constraint \"accountsdata_pkey\"\nDETAIL:  Key (country_name)=(Albania) already exists.\n"
     ]
    }
   ],
   "source": [
    "for i , rows in AccountData.iterrows():\n",
    "    #print(list(rows))\n",
    "    cur.execute(acc_data_insert,list(rows))"
   ]
  },
  {
   "cell_type": "code",
   "execution_count": null,
   "id": "6d8e294c-0f56-4ca4-9f80-33ad4d85d0f1",
   "metadata": {},
   "outputs": [],
   "source": []
  }
 ],
 "metadata": {
  "kernelspec": {
   "display_name": "Python 3 (ipykernel)",
   "language": "python",
   "name": "python3"
  },
  "language_info": {
   "codemirror_mode": {
    "name": "ipython",
    "version": 3
   },
   "file_extension": ".py",
   "mimetype": "text/x-python",
   "name": "python",
   "nbconvert_exporter": "python",
   "pygments_lexer": "ipython3",
   "version": "3.9.1"
  }
 },
 "nbformat": 4,
 "nbformat_minor": 5
}
